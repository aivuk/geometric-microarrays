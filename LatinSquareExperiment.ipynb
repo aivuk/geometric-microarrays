{
 "metadata": {
  "name": "LatinSquareExperiment"
 },
 "nbformat": 3,
 "nbformat_minor": 0,
 "worksheets": [
  {
   "cells": [
    {
     "cell_type": "markdown",
     "metadata": {},
     "source": [
      "The sensitivity in identifying the genes differentially expressed was evaluated by using the spike-in experiments, see table. \n",
      "To simulate an experiment in which two conditions are compared, we rearranged the data as follows:\n",
      "First, the genes from experiments 1 to 3 were attributed to condition $A$ and those from experiments 4 to 6 \n",
      "were attributed to condition $B$. The exceptions were the genes from experiments 40 to 42, because \n",
      "we want to probe the effect of small \n",
      "differences in expression, i.e, we did not evaluate at such high differences as expressions of 0 and 512 pM. \n",
      "We kept the procedure using 4-6 as condition $A$ and 7-9 as condition $B$, again \n",
      "excluding the 0 and 512 pM differences. \n",
      "We ended up with 14 experiments in the two conditions and 39 differentially expressed genes for each condition. \n",
      "\n",
      "The results are presented as a ROC curve whose definition is given by a true positive (TP) rate against a false positive (FP) rate obtained \n",
      "at different threshold values. To plot a single average ROC curve, we calculated the average TP and FP over the 14 experiments \n",
      "obtained in the spike-in data rearrangement. "
     ]
    },
    {
     "cell_type": "code",
     "collapsed": false,
     "input": [
      "from IPython.display import HTML\n",
      "import os"
     ],
     "language": "python",
     "metadata": {},
     "outputs": [],
     "prompt_number": 1
    },
    {
     "cell_type": "code",
     "collapsed": false,
     "input": [
      "s = open('table', 'r')\n",
      "HTML(s.read())"
     ],
     "language": "python",
     "metadata": {},
     "outputs": [
      {
       "html": [
        "<table>\n",
        "<thead>\n",
        "<th>gene/exp </th><th> 1-3   </th><th> 4-6   </th><th> 7-9   </th><th> 10-12 </th><th> 13-15 </th><th> 16-18 </th><th> 19-21 </th><th> 22-24 </th><th> 25-27 </th><th> 28-30 </th><th> 31-33 </th><th> 34-36 </th><th> 37-39 </th><th> 40-42</th>\n",
        "</thead>\n",
        "<tbody>  \n",
        "<tr>\n",
        "<td> 1-3     </td><td> 0     </td><td> 0.125 </td><td> 0.25  </td><td> 0.5   </td><td> 1     </td><td> 2     </td><td> 4     </td><td> 8     </td><td> 16    </td><td> 32    </td><td> 64    </td><td> 128   </td><td> 256   </td><td> 512 </td>\n",
        "</tr>\n",
        "<tr>\n",
        "<td> 4-6     </td><td> 0.125 </td><td> 0.25  </td><td> 0.5   </td><td> 1     </td><td> 2     </td><td> 4     </td><td> 8     </td><td> 16    </td><td> 32    </td><td> 64    </td><td> 128   </td><td> 256   </td><td> 512   </td><td> 0   </td>\n",
        "</tr>\n",
        "<tr>\n",
        "<td> 7-9     </td><td> 0.25  </td><td> 0.5   </td><td> 1     </td><td> 2     </td><td> 4     </td><td> 8     </td><td> 16    </td><td> 32    </td><td> 64    </td><td> 128   </td><td> 256   </td><td> 512   </td><td> 0     </td><td> 0.125   </td>\n",
        "</tr>\n",
        "<tr>\n",
        "<td> 10-12   </td><td> 0.5   </td><td> 1     </td><td> 2     </td><td> 4     </td><td> 8     </td><td> 16    </td><td> 32    </td><td> 64    </td><td> 128   </td><td> 256   </td><td> 512   </td><td> 0     </td><td> 0.125 </td><td> 0.25   </td>\n",
        "</tr>\n",
        "<tr>\n",
        "<td> 13-15   </td><td> 1     </td><td> 2     </td><td> 4     </td><td> 8     </td><td> 16    </td><td> 32    </td><td> 64    </td><td> 128   </td><td> 256   </td><td> 512   </td><td> 0     </td><td> 0.125 </td><td> 0.25  </td><td> 0.5   </td>\n",
        "</tr>\n",
        "<tr>\n",
        "<td> 16-18   </td><td> 2     </td><td> 4     </td><td> 8     </td><td> 16    </td><td> 32    </td><td> 64    </td><td> 128   </td><td> 256   </td><td> 512   </td><td> 0     </td><td> 0.125 </td><td> 0.25  </td><td> 0.5   </td><td> 1   </td>\n",
        "</tr>\n",
        "<tr>\n",
        "<td> 19-21   </td><td> 4     </td><td> 8     </td><td> 16    </td><td> 32    </td><td> 64    </td><td> 128   </td><td> 256   </td><td> 512   </td><td> 0     </td><td> 0.125 </td><td> 0.25  </td><td> 0.5   </td><td> 1     </td><td> 2   </td>\n",
        "</tr>\n",
        "<tr>\n",
        "<td> 22-24   </td><td> 8     </td><td> 16    </td><td> 32    </td><td> 64    </td><td> 128   </td><td> 256   </td><td> 512   </td><td> 0     </td><td> 0.125 </td><td> 0.25  </td><td> 0.5   </td><td> 1     </td><td> 2     </td><td> 4   </td>\n",
        "</tr>\n",
        "<tr>\n",
        "<td> 25-27   </td><td> 16    </td><td> 32    </td><td> 64    </td><td> 128   </td><td> 256   </td><td> 512   </td><td> 0     </td><td> 0.125 </td><td> 0.25  </td><td> 0.5   </td><td> 1     </td><td> 2     </td><td> 4     </td><td> 8   </td>\n",
        "</tr>\n",
        "<tr>\n",
        "<td> 28-30   </td><td> 32    </td><td> 64    </td><td> 128   </td><td> 256   </td><td> 512   </td><td> 0     </td><td> 0.125 </td><td> 0.25  </td><td> 0.5   </td><td> 1     </td><td> 2     </td><td> 4     </td><td> 8     </td><td> 16   </td>\n",
        "</tr>\n",
        "<tr>\n",
        "<td> 31-33   </td><td> 64    </td><td> 128   </td><td> 256   </td><td> 512   </td><td> 0     </td><td> 0.125 </td><td> 0.25  </td><td> 0.5   </td><td> 1     </td><td> 2     </td><td> 4     </td><td> 8     </td><td> 16    </td><td> 32   </td>\n",
        "</tr>\n",
        "<tr>\n",
        "<td> 34-36   </td><td> 128   </td><td> 256   </td><td> 512   </td><td> 0     </td><td> 0.125 </td><td> 0.25  </td><td> 0.5   </td><td> 1     </td><td> 2     </td><td> 4     </td><td> 8     </td><td> 16    </td><td> 32    </td><td> 64   </td>\n",
        "</tr>\n",
        "<tr>\n",
        "<td> 37-39   </td><td> 256   </td><td> 512   </td><td> 0     </td><td> 0.125 </td><td> 0.25  </td><td> 0.5   </td><td> 1     </td><td> 2     </td><td> 4     </td><td> 8     </td><td> 16    </td><td> 32    </td><td> 64    </td><td> 128   </td>\n",
        "</tr>\n",
        "<tr>\n",
        "<td> 40-42   </td><td> 512   </td><td> 0     </td><td> 0.125 </td><td> 0.25  </td><td> 0.5   </td><td> 1     </td><td> 2     </td><td> 4     </td><td> 8     </td><td> 16    </td><td> 32    </td><td> 64    </td><td> 128   </td><td> 256   </td>\n",
        "</tr>\n",
        "</tbody>\n",
        "</table>\n"
       ],
       "output_type": "pyout",
       "prompt_number": 2,
       "text": [
        "<IPython.core.display.HTML at 0xb05cdcc>"
       ]
      }
     ],
     "prompt_number": 2
    },
    {
     "cell_type": "markdown",
     "metadata": {},
     "source": [
      "Carregando bibliotecas"
     ]
    },
    {
     "cell_type": "code",
     "collapsed": false,
     "input": [
      "%load_ext rmagic"
     ],
     "language": "python",
     "metadata": {},
     "outputs": [],
     "prompt_number": 3
    },
    {
     "cell_type": "code",
     "collapsed": false,
     "input": [
      "import pylab\n",
      "import numpy as np\n",
      "import pandas as pd\n",
      "import itertools as it\n",
      "from time import time\n",
      "from scipy.stats import ttest_ind"
     ],
     "language": "python",
     "metadata": {},
     "outputs": [],
     "prompt_number": 4
    },
    {
     "cell_type": "code",
     "collapsed": false,
     "input": [
      "%%R\n",
      "    library(\"affy\")\n",
      "    library(\"siggenes\")\n",
      "    celpath <- \"LatinSquare/\"\n",
      "    fn <- readLines(\"LatinSquare/filenames\") # lista dos .CEL files"
     ],
     "language": "python",
     "metadata": {},
     "outputs": [
      {
       "output_type": "display_data",
       "text": [
        "Loading required package: Biobase\n",
        "\n",
        "Welcome to Bioconductor\n",
        "\n",
        "  Vignettes contain introductory material. To view, type\n",
        "  'browseVignettes()'. To cite Bioconductor, see\n",
        "  'citation(\"Biobase\")' and for packages 'citation(\"pkgname\")'.\n",
        "\n",
        "Loading required package: multtest\n",
        "Loading required package: splines\n"
       ]
      }
     ],
     "prompt_number": 5
    },
    {
     "cell_type": "code",
     "collapsed": false,
     "input": [
      "fn = %Rget fn"
     ],
     "language": "python",
     "metadata": {},
     "outputs": [],
     "prompt_number": 6
    },
    {
     "cell_type": "markdown",
     "metadata": {},
     "source": [
      "Lista dos genes diferencialmente expressos"
     ]
    },
    {
     "cell_type": "code",
     "collapsed": false,
     "input": [
      "listagenes=[\"203508_at\",\"204563_at\",\"204513_s_at\",\"204205_at\",\"204959_at\",\"207655_s_at\",\"204836_at\",\"205291_at\",\n",
      "\"209795_at\",\"207777_s_at\",\"204912_at\",\"205569_at\",\"207160_at\",\"205692_s_at\",\"212827_at\",\"209606_at\",\"205267_at\",\n",
      "\"204417_at\",\"205398_s_at\",\"209734_at\",\"209354_at\",\"206060_s_at\",\"205790_at\",\"200665_s_at\",\"207641_at\",\n",
      "\"207540_s_at\",\"204430_s_at\",\"203471_s_at\",\"204951_at\",\"207968_s_at\",\"AFFX-r2-TagA_at\",\"AFFX-r2-TagB_at\",\n",
      "\"AFFX-r2-TagC_at\",\"AFFX-r2-TagD_at\",\"AFFX-r2-TagE_at\",\"AFFX-r2-TagF_at\",\"AFFX-r2-TagG_at\",\"AFFX-r2-TagH_at\",\n",
      "\"AFFX-DapX-3_at\",\"AFFX-LysX-3_at\",\"AFFX-PheX-3_at\",\"AFFX-ThrX-3_at\"]"
     ],
     "language": "python",
     "metadata": {},
     "outputs": [],
     "prompt_number": 7
    },
    {
     "cell_type": "markdown",
     "metadata": {},
     "source": [
      "Fun\u00e7\u00f5es:"
     ]
    },
    {
     "cell_type": "code",
     "collapsed": false,
     "input": [
      "def geo_approach(I,g_names,p_names):\n",
      "    n_genes  = len(g_names)\n",
      "    n_probes = len(p_names)\n",
      "    e_g = np.zeros(n_genes)\n",
      "\n",
      "    e_gj = calc_metric_tensor(I,[[0,1,2],[3,4,5]])\n",
      "    c_old = 0\n",
      "    for g in range(0, n_genes):\n",
      "        c_new = c_old\n",
      "        while c_old < n_probes and p_names[c_old] == g_names[g]:\n",
      "            c_old = c_old + 1\n",
      "        e_g[g] = mean(e_gj[c_new:c_old])\n",
      "        \n",
      "    return np.argsort(e_g)  "
     ],
     "language": "python",
     "metadata": {},
     "outputs": [],
     "prompt_number": 8
    },
    {
     "cell_type": "code",
     "collapsed": false,
     "input": [
      "#from mageom import calc_metric_tensor"
     ],
     "language": "python",
     "metadata": {},
     "outputs": []
    },
    {
     "cell_type": "code",
     "collapsed": false,
     "input": [
      "def calc_metric_tensor(g_exp, classes):\n",
      "    \"\"\"\n",
      "    @type g_exp: double dimensional matrix\n",
      "    @param g_exp: one experiment per line and one gene per column\n",
      "    @type classes: list with exactly two lists\n",
      "    @param classes: a list with two element, first a list with \n",
      "    @rtype: one dimensional vector \n",
      "    @return: the metric tensor\n",
      "    \"\"\"\n",
      "    n_genes = len(g_exp)\n",
      "    e_g = np.zeros(n_genes)\n",
      "    comb_c_1 = list(it.combinations(classes[0], 2))\n",
      "    comb_c_2 = list(it.combinations(classes[1], 2))\n",
      "    prod_f = list(it.product(classes[0], classes[1]))\n",
      "    len_c = len(comb_c_1) + len(comb_c_2)\n",
      "    len_f = len(prod_f)\n",
      "    \n",
      "    e_g = np.zeros(n_genes)\n",
      "    for g in range(0, n_genes):\n",
      "        e_g[g] = 1./len_c*(np.sum(map(lambda (i,j): np.sqrt((g_exp[g][i] - g_exp[g][j])**2), comb_c_1)) + \\\n",
      "                            np.sum(map(lambda (i,j): np.sqrt((g_exp[g][i] - g_exp[g][j])**2), comb_c_2))) \\\n",
      "               - 1./len_f*np.sum(map(lambda (i,j): np.sqrt((g_exp[g][i] - g_exp[g][j])**2), prod_f)) \n",
      "  \n",
      "    return e_g"
     ],
     "language": "python",
     "metadata": {},
     "outputs": [],
     "prompt_number": 9
    },
    {
     "cell_type": "code",
     "collapsed": false,
     "input": [
      "def z_transform(x): \n",
      "    m = np.mean(x,1).reshape(len(x),1)\n",
      "    s = np.std(x,1).reshape(len(x),1)\n",
      "    c = shape(x)[1]\n",
      "    z = (x - multiply(m, np.ones((1,c))))/multiply(s,np.ones((1,c)))\n",
      "    return z"
     ],
     "language": "python",
     "metadata": {},
     "outputs": [],
     "prompt_number": 10
    },
    {
     "cell_type": "code",
     "collapsed": false,
     "input": [
      "def ttest_function(Xa,Xb):\n",
      "    t,p = ttest_ind(np.transpose(Xa),np.transpose(Xb))\n",
      "    return np.argsort(p)"
     ],
     "language": "python",
     "metadata": {},
     "outputs": [],
     "prompt_number": 11
    },
    {
     "cell_type": "code",
     "collapsed": false,
     "input": [
      "def intersect(a, b):\n",
      "     return len(set(a).intersection(set(b)))"
     ],
     "language": "python",
     "metadata": {},
     "outputs": [],
     "prompt_number": 12
    },
    {
     "cell_type": "code",
     "collapsed": false,
     "input": [
      "n_exp = 14\n",
      "n_genes = 22300\n",
      "n_topgenes = 200\n",
      "tp = np.zeros((3,n_exp, n_topgenes))\n",
      "fp = np.zeros((3,n_exp, n_topgenes))\n",
      "rel_list = np.zeros((3,n_genes))\n",
      "cl = [0,0,0,1,1,1]\n",
      "for k in range(0,n_exp):\n",
      "    fns=fn[range(-42+3*k,-36+3*k)] # excluindo genes com diferen\u00e7as de 512pm na condi\u00e7\u00e3o A e 0 na condi\u00e7\u00e3o B        \n",
      "    \n",
      "    %R -i fns pD = ReadAffy(filenames=fns,celfile.path=celpath)\n",
      "    %R pDn = normalize.AffyBatch.quantiles(pD)\n",
      "\n",
      "    if k==0:\n",
      "        g_names = %R geneNames(pDn)\n",
      "        g_index = [list(g_names).index(listagenes[i]) for i in range(42)]\n",
      "        p_names = %R probeNames(pDn)\n",
      "\n",
      "    I = %R -i g_names pm(pDn,g_names)  # obtendo a intensidade de express\u00e3o crua, sem preprocessamento, mas normalizado\n",
      "    Iz = z_transform(I)                # transformando em m\u00e9dia zero e variancia um\n",
      "    %R E=exprs(rma(pD,verbose=FALSE))  # preprocessando via RMA\n",
      "    Erma = %Rget E\n",
      "\n",
      "    %R -i n_genes -i cl sam_out=(summary(sam(E,cl),0.01))@mat.sig[1:n_genes,][[1]]   # metodo SAM\n",
      "\n",
      "    # obtendo os indices dos genes por ordem de relevancia\n",
      "    rel_list[0,:]  = ttest_function(Erma[:,0:3],Erma[:,3:6])\n",
      "    aux = %Rget (sam_out-1)\n",
      "    rel_list[1,:] = aux                                                              \n",
      "    rel_list[2,:] = geo_approach(Iz,g_names,p_names)\n",
      "    \n",
      "    for ntg in range(0,n_topgenes):\n",
      "        for l in range(0,3):\n",
      "            tp[l,k,ntg]  = intersect(rel_list[l,0:ntg] ,[g_index[i] for i in range(-3*k,42-3*(k+1))])\n",
      "            fp[l,k,ntg]  = ntg - tp[l,k,ntg]  - intersect(rel_list[l,0:ntg] ,[g_index[i] for i in range(42-3*(k+1),42-3*k)]) "
     ],
     "language": "python",
     "metadata": {},
     "outputs": [
      {
       "output_type": "display_data",
       "text": [
        "Loading required package: AnnotationDbi\n",
        "\n"
       ]
      },
      {
       "output_type": "display_data",
       "text": [
        "\n",
        "We're doing 20 complete permutations\n",
        "\n"
       ]
      },
      {
       "output_type": "display_data",
       "text": [
        "\n",
        "We're doing 20 complete permutations\n",
        "\n"
       ]
      },
      {
       "output_type": "display_data",
       "text": [
        "\n",
        "We're doing 20 complete permutations\n",
        "\n"
       ]
      },
      {
       "output_type": "display_data",
       "text": [
        "\n",
        "We're doing 20 complete permutations\n",
        "\n"
       ]
      },
      {
       "output_type": "display_data",
       "text": [
        "\n",
        "We're doing 20 complete permutations\n",
        "\n"
       ]
      },
      {
       "output_type": "display_data",
       "text": [
        "\n",
        "We're doing 20 complete permutations\n",
        "\n"
       ]
      },
      {
       "output_type": "display_data",
       "text": [
        "\n",
        "We're doing 20 complete permutations\n",
        "\n"
       ]
      },
      {
       "output_type": "display_data",
       "text": [
        "\n",
        "We're doing 20 complete permutations\n",
        "\n"
       ]
      },
      {
       "output_type": "display_data",
       "text": [
        "\n",
        "We're doing 20 complete permutations\n",
        "\n"
       ]
      },
      {
       "output_type": "display_data",
       "text": [
        "\n",
        "We're doing 20 complete permutations\n",
        "\n"
       ]
      },
      {
       "output_type": "display_data",
       "text": [
        "\n",
        "We're doing 20 complete permutations\n",
        "\n"
       ]
      },
      {
       "output_type": "display_data",
       "text": [
        "\n",
        "We're doing 20 complete permutations\n",
        "\n"
       ]
      },
      {
       "output_type": "display_data",
       "text": [
        "\n",
        "We're doing 20 complete permutations\n",
        "\n"
       ]
      },
      {
       "output_type": "display_data",
       "text": [
        "\n",
        "We're doing 20 complete permutations\n",
        "\n"
       ]
      }
     ],
     "prompt_number": 13
    },
    {
     "cell_type": "code",
     "collapsed": false,
     "input": [
      "tp_m  = tp.mean(1)\n",
      "fp_m  = fp.mean(1)"
     ],
     "language": "python",
     "metadata": {},
     "outputs": [],
     "prompt_number": 14
    },
    {
     "cell_type": "code",
     "collapsed": false,
     "input": [
      "pylab.plot([fp_m[0,i] for i in range(0,140,5)],[tp_m[0,i]/39 for i in range(0,140,5)], 'bo-')\n",
      "pylab.plot([fp_m[1,i] for i in range(0,140,5)],[tp_m[1,i]/39 for i in range(0,140,5)], 'k>-')\n",
      "pylab.plot([fp_m[2,i] for i in range(0,140,5)],[tp_m[2,i]/39 for i in range(0,140,5)], 'rs-')\n",
      "pylab.xlabel('number of False Positive')\n",
      "pylab.ylabel('fraction of True Positive')\n",
      "pylab.title('ROC curve')\n",
      "pylab.xlim(0,100)\n",
      "pylab.ylim(0,0.9)\n",
      "pylab.grid(True)\n",
      "#pylab.savefig('simple_plot')\n",
      "#pylab.show()"
     ],
     "language": "python",
     "metadata": {},
     "outputs": [
      {
       "output_type": "display_data",
       "png": "[encoded data removed]"
      }
     ],
     "prompt_number": 15
    },
    {
     "cell_type": "code",
     "collapsed": false,
     "input": [],
     "language": "python",
     "metadata": {},
     "outputs": [],
     "prompt_number": 15
    }
   ],
   "metadata": {}
  }
 ]
}