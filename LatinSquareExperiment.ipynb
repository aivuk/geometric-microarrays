{
 "metadata": {
  "name": "LatinSquareExperiment"
 },
 "nbformat": 3,
 "nbformat_minor": 0,
 "worksheets": [
  {
   "cells": [
    {
     "cell_type": "markdown",
     "metadata": {},
     "source": [
      "The sensitivity in identifying the genes differentially expressed was evaluated by using the spike-in experiments, see table. \n",
      "To simulate an experiment in which two conditions are compared, we rearranged the data as follows:\n",
      "First, the genes from experiments 1 to 3 were attributed to condition $A$ and those from experiments 4 to 6 \n",
      "were attributed to condition $B$. The exceptions were the genes from experiments 40 to 42, because \n",
      "we want to probe the effect of small \n",
      "differences in expression, i.e, we did not evaluate at such high differences as expressions of 0 and 512 pM. \n",
      "We kept the procedure using 4-6 as condition $A$ and 7-9 as condition $B$, again \n",
      "excluding the 0 and 512 pM differences. \n",
      "We ended up with 14 experiments in the two conditions and 39 differentially expressed genes for each condition. \n",
      "\n",
      "The results are presented as a ROC curve whose definition is given by a true positive (TP) rate against a false positive (FP) rate obtained \n",
      "at different threshold values. To plot a single average ROC curve, we calculated the average TP and FP over the 14 experiments \n",
      "obtained in the spike-in data rearrangement. "
     ]
    },
    {
     "cell_type": "code",
     "collapsed": false,
     "input": [
      "from IPython.display import HTML\n",
      "import os"
     ],
     "language": "python",
     "metadata": {},
     "outputs": [],
     "prompt_number": 10
    },
    {
     "cell_type": "code",
     "collapsed": false,
     "input": [
      "s = open('table', 'r')\n",
      "HTML(s.read())"
     ],
     "language": "python",
     "metadata": {},
     "outputs": [
      {
       "html": [
        "<table>\n",
        "<thead>\n",
        "<th>gene/exp </th><th> 1-3   </th><th> 4-6   </th><th> 7-9   </th><th> 10-12 </th><th> 13-15 </th><th> 16-18 </th><th> 19-21 </th><th> 22-24 </th><th> 25-27 </th><th> 28-30 </th><th> 31-33 </th><th> 34-36 </th><th> 37-39 </th><th> 40-42</th>\n",
        "</thead>\n",
        "<tbody>  \n",
        "<tr>\n",
        "<td> 1-3     </td><td> 0     </td><td> 0.125 </td><td> 0.25  </td><td> 0.5   </td><td> 1     </td><td> 2     </td><td> 4     </td><td> 8     </td><td> 16    </td><td> 32    </td><td> 64    </td><td> 128   </td><td> 256   </td><td> 512 </td>\n",
        "</tr>\n",
        "<tr>\n",
        "<td> 4-6     </td><td> 0.125 </td><td> 0.25  </td><td> 0.5   </td><td> 1     </td><td> 2     </td><td> 4     </td><td> 8     </td><td> 16    </td><td> 32    </td><td> 64    </td><td> 128   </td><td> 256   </td><td> 512   </td><td> 0   </td>\n",
        "</tr>\n",
        "<tr>\n",
        "<td> 7-9     </td><td> 0.25  </td><td> 0.5   </td><td> 1     </td><td> 2     </td><td> 4     </td><td> 8     </td><td> 16    </td><td> 32    </td><td> 64    </td><td> 128   </td><td> 256   </td><td> 512   </td><td> 0     </td><td> 0.125   </td>\n",
        "</tr>\n",
        "<tr>\n",
        "<td> 10-12   </td><td> 0.5   </td><td> 1     </td><td> 2     </td><td> 4     </td><td> 8     </td><td> 16    </td><td> 32    </td><td> 64    </td><td> 128   </td><td> 256   </td><td> 512   </td><td> 0     </td><td> 0.125 </td><td> 0.25   </td>\n",
        "</tr>\n",
        "<tr>\n",
        "<td> 13-15   </td><td> 1     </td><td> 2     </td><td> 4     </td><td> 8     </td><td> 16    </td><td> 32    </td><td> 64    </td><td> 128   </td><td> 256   </td><td> 512   </td><td> 0     </td><td> 0.125 </td><td> 0.25  </td><td> 0.5   </td>\n",
        "</tr>\n",
        "<tr>\n",
        "<td> 16-18   </td><td> 2     </td><td> 4     </td><td> 8     </td><td> 16    </td><td> 32    </td><td> 64    </td><td> 128   </td><td> 256   </td><td> 512   </td><td> 0     </td><td> 0.125 </td><td> 0.25  </td><td> 0.5   </td><td> 1   </td>\n",
        "</tr>\n",
        "<tr>\n",
        "<td> 19-21   </td><td> 4     </td><td> 8     </td><td> 16    </td><td> 32    </td><td> 64    </td><td> 128   </td><td> 256   </td><td> 512   </td><td> 0     </td><td> 0.125 </td><td> 0.25  </td><td> 0.5   </td><td> 1     </td><td> 2   </td>\n",
        "</tr>\n",
        "<tr>\n",
        "<td> 22-24   </td><td> 8     </td><td> 16    </td><td> 32    </td><td> 64    </td><td> 128   </td><td> 256   </td><td> 512   </td><td> 0     </td><td> 0.125 </td><td> 0.25  </td><td> 0.5   </td><td> 1     </td><td> 2     </td><td> 4   </td>\n",
        "</tr>\n",
        "<tr>\n",
        "<td> 25-27   </td><td> 16    </td><td> 32    </td><td> 64    </td><td> 128   </td><td> 256   </td><td> 512   </td><td> 0     </td><td> 0.125 </td><td> 0.25  </td><td> 0.5   </td><td> 1     </td><td> 2     </td><td> 4     </td><td> 8   </td>\n",
        "</tr>\n",
        "<tr>\n",
        "<td> 28-30   </td><td> 32    </td><td> 64    </td><td> 128   </td><td> 256   </td><td> 512   </td><td> 0     </td><td> 0.125 </td><td> 0.25  </td><td> 0.5   </td><td> 1     </td><td> 2     </td><td> 4     </td><td> 8     </td><td> 16   </td>\n",
        "</tr>\n",
        "<tr>\n",
        "<td> 31-33   </td><td> 64    </td><td> 128   </td><td> 256   </td><td> 512   </td><td> 0     </td><td> 0.125 </td><td> 0.25  </td><td> 0.5   </td><td> 1     </td><td> 2     </td><td> 4     </td><td> 8     </td><td> 16    </td><td> 32   </td>\n",
        "</tr>\n",
        "<tr>\n",
        "<td> 34-36   </td><td> 128   </td><td> 256   </td><td> 512   </td><td> 0     </td><td> 0.125 </td><td> 0.25  </td><td> 0.5   </td><td> 1     </td><td> 2     </td><td> 4     </td><td> 8     </td><td> 16    </td><td> 32    </td><td> 64   </td>\n",
        "</tr>\n",
        "<tr>\n",
        "<td> 37-39   </td><td> 256   </td><td> 512   </td><td> 0     </td><td> 0.125 </td><td> 0.25  </td><td> 0.5   </td><td> 1     </td><td> 2     </td><td> 4     </td><td> 8     </td><td> 16    </td><td> 32    </td><td> 64    </td><td> 128   </td>\n",
        "</tr>\n",
        "<tr>\n",
        "<td> 40-42   </td><td> 512   </td><td> 0     </td><td> 0.125 </td><td> 0.25  </td><td> 0.5   </td><td> 1     </td><td> 2     </td><td> 4     </td><td> 8     </td><td> 16    </td><td> 32    </td><td> 64    </td><td> 128   </td><td> 256   </td>\n",
        "</tr>\n",
        "</tbody>\n",
        "</table>\n"
       ],
       "output_type": "pyout",
       "prompt_number": 18,
       "text": [
        "<IPython.core.display.HTML at 0x3fa7950>"
       ]
      }
     ],
     "prompt_number": 18
    },
    {
     "cell_type": "markdown",
     "metadata": {},
     "source": [
      "Carregando bibliotecas"
     ]
    },
    {
     "cell_type": "code",
     "collapsed": false,
     "input": [
      "%load_ext rmagic"
     ],
     "language": "python",
     "metadata": {},
     "outputs": [],
     "prompt_number": 19
    },
    {
     "cell_type": "code",
     "collapsed": false,
     "input": [
      "import pylab\n",
      "import numpy as np\n",
      "import pandas as pd\n",
      "import itertools as i\n",
      "from time import time\n",
      "from scipy.stats import ttest_ind"
     ],
     "language": "python",
     "metadata": {},
     "outputs": [],
     "prompt_number": 20
    },
    {
     "cell_type": "code",
     "collapsed": false,
     "input": [
      "%%R\n",
      "\n",
      "celpath <- \"LatinSquare/\"\n",
      "fns <- readLines(\"LatinSquare/filenames\")"
     ],
     "language": "python",
     "metadata": {},
     "outputs": [],
     "prompt_number": 22
    },
    {
     "cell_type": "code",
     "collapsed": false,
     "input": [
      "fns = %Rget fns"
     ],
     "language": "python",
     "metadata": {},
     "outputs": [],
     "prompt_number": 23
    },
    {
     "cell_type": "code",
     "collapsed": false,
     "input": [
      "%%R\n",
      "\n",
      "library(\"affy\")\n",
      "library(\"siggenes\")"
     ],
     "language": "python",
     "metadata": {},
     "outputs": [
      {
       "output_type": "display_data",
       "text": [
        "Loading required package: Biobase\n",
        "\n",
        "Welcome to Bioconductor\n",
        "\n",
        "  Vignettes contain introductory material. To view, type\n",
        "  'browseVignettes()'. To cite Bioconductor, see\n",
        "  'citation(\"Biobase\")' and for packages 'citation(\"pkgname\")'.\n",
        "\n",
        "Loading required package: multtest\n",
        "Loading required package: splines\n"
       ]
      }
     ],
     "prompt_number": 24
    },
    {
     "cell_type": "markdown",
     "metadata": {},
     "source": [
      "Lista dos genes diferencialmente expressos"
     ]
    },
    {
     "cell_type": "code",
     "collapsed": false,
     "input": [
      "listagenes=[\"203508_at\",\"204563_at\",\"204513_s_at\",\"204205_at\",\"204959_at\",\"207655_s_at\",\"204836_at\",\"205291_at\",\n",
      "\"209795_at\",\"207777_s_at\",\"204912_at\",\"205569_at\",\"207160_at\",\"205692_s_at\",\"212827_at\",\"209606_at\",\"205267_at\",\n",
      "\"204417_at\",\"205398_s_at\",\"209734_at\",\"209354_at\",\"206060_s_at\",\"205790_at\",\"200665_s_at\",\"207641_at\",\n",
      "\"207540_s_at\",\"204430_s_at\",\"203471_s_at\",\"204951_at\",\"207968_s_at\",\"AFFX-r2-TagA_at\",\"AFFX-r2-TagB_at\",\n",
      "\"AFFX-r2-TagC_at\",\"AFFX-r2-TagD_at\",\"AFFX-r2-TagE_at\",\"AFFX-r2-TagF_at\",\"AFFX-r2-TagG_at\",\"AFFX-r2-TagH_at\",\n",
      "\"AFFX-DapX-3_at\",\"AFFX-LysX-3_at\",\"AFFX-PheX-3_at\",\"AFFX-ThrX-3_at\"]"
     ],
     "language": "python",
     "metadata": {},
     "outputs": [],
     "prompt_number": 25
    },
    {
     "cell_type": "code",
     "collapsed": false,
     "input": [
      "from mageom import calc_metric_tensor"
     ],
     "language": "python",
     "metadata": {},
     "outputs": [],
     "prompt_number": 27
    },
    {
     "cell_type": "code",
     "collapsed": false,
     "input": [
      "def Fttest(Xa,Xb):\n",
      "    t,p = ttest_ind(np.transpose(Xa),np.transpose(Xb))\n",
      "    return np.argsort(p)"
     ],
     "language": "python",
     "metadata": {},
     "outputs": [],
     "prompt_number": 28
    },
    {
     "cell_type": "code",
     "collapsed": false,
     "input": [
      "def intersect(a, b):\n",
      "     return len(set(a).intersection(set(b)))"
     ],
     "language": "python",
     "metadata": {},
     "outputs": [],
     "prompt_number": 29
    },
    {
     "cell_type": "markdown",
     "metadata": {},
     "source": [
      "Definindo o caminho onde encontram-se os dados crus de microarranjos (.CEL)"
     ]
    },
    {
     "cell_type": "code",
     "collapsed": false,
     "input": [
      "Ne = 14\n",
      "Ng = 22300\n",
      "Ntopgenes = 200\n",
      "TPsam = np.zeros(Ne*Ntopgenes).reshape((Ne, Ntopgenes))\n",
      "FPsam = np.zeros(Ne*Ntopgenes).reshape((Ne, Ntopgenes))\n",
      "TPtt  = np.zeros(Ne*Ntopgenes).reshape((Ne, Ntopgenes))\n",
      "FPtt  = np.zeros(Ne*Ntopgenes).reshape((Ne, Ntopgenes))\n",
      "TPgeo = np.zeros(Ne*Ntopgenes).reshape((Ne, Ntopgenes))\n",
      "FPgeo = np.zeros(Ne*Ntopgenes).reshape((Ne, Ntopgenes))"
     ],
     "language": "python",
     "metadata": {},
     "outputs": [],
     "prompt_number": 30
    },
    {
     "cell_type": "code",
     "collapsed": false,
     "input": [
      "for k in range(0,Ne):\n",
      "    fn=fns[range(-42+3*k,-36+3*k)]\n",
      "    %R -i fn pD = ReadAffy(filenames=fn,celfile.path=celpath)\n",
      "    %R pDn = normalize.AffyBatch.quantiles(pD)\n",
      "    if k==0:\n",
      "        gNames = %R geneNames(pDn)\n",
      "        gIndex = [list(gNames).index(listagenes[i]) for i in range(42)]\n",
      "#        pNames = %R probeNames(pDn)\n",
      "#    Iprobe = %R -i gNames pm(pDn,gNames)\n",
      "    %%R E=exprs(rma(pD,verbose=FALSE));\n",
      "    Erma = %Rget E\n",
      "\n",
      "    %%R sam_out=(summary(sam(E,c(0,0,0,1,1,1)),0.01))@mat.sig[1:10000,][[1]]\n",
      "    iSam = %Rget (sam_out-1)                                                              \n",
      "    iTt  = Fttest(Erma[:,0:3],Erma[:,3:6])\n",
      "    iGeo = calc_metric_tensor(Erma,[[0,1,2],[3,4,5]])\n",
      "    for ntgenes in range(0,Ntopgenes):\n",
      "        TPtt[k,ntgenes]  = intersect(iTt[0:ntgenes] ,[gIndex[i] for i in range(-3*k,42-3*(k+1))])\n",
      "        TPsam[k,ntgenes] = intersect(iSam[0:ntgenes],[gIndex[i] for i in range(-3*k,42-3*(k+1))])\n",
      "        TPgeo[k,ntgenes] = intersect(iGeo[0:ntgenes],[gIndex[i] for i in range(-3*k,42-3*(k+1))])\n",
      "        FPtt[k,ntgenes]  = ntgenes - TPtt[k,ntgenes]  - intersect(iTt[0:ntgenes] ,[gIndex[i] for i in range(42-3*(k+1),42-3*k)]) \n",
      "        FPsam[k,ntgenes] = ntgenes - TPsam[k,ntgenes] - intersect(iSam[0:ntgenes],[gIndex[i] for i in range(42-3*(k+1),42-3*k)]) \n",
      "        FPgeo[k,ntgenes] = ntgenes - TPgeo[k,ntgenes] - intersect(iGeo[0:ntgenes],[gIndex[i] for i in range(42-3*(k+1),42-3*k)]) "
     ],
     "language": "python",
     "metadata": {},
     "outputs": [],
     "prompt_number": "*"
    },
    {
     "cell_type": "code",
     "collapsed": false,
     "input": [
      "meanTPtt  = TPtt.mean(0)\n",
      "meanFPtt  = FPtt.mean(0)\n",
      "meanTPsam = TPsam.mean(0)\n",
      "meanFPsam = FPsam.mean(0)\n",
      "meanTPgeo = TPgeo.mean(0)\n",
      "meanFPgeo = FPgeo.mean(0)"
     ],
     "language": "python",
     "metadata": {},
     "outputs": [],
     "prompt_number": 13
    },
    {
     "cell_type": "code",
     "collapsed": false,
     "input": [
      "pylab.plot([meanFPtt[i]  for i in range(0,140,5)],[meanTPtt[i]/39  for i in range(0,140,5)], 'bo-')\n",
      "pylab.plot([meanFPsam[i] for i in range(0,140,5)],[meanTPsam[i]/39 for i in range(0,140,5)], 'k>-')\n",
      "pylab.plot([meanFPgeo[i] for i in range(0,140,5)],[meanTPgeo[i]/39 for i in range(0,140,5)], 'rs-')\n",
      "pylab.xlabel('number of False Positive')\n",
      "pylab.ylabel('fraction of True Positive')\n",
      "pylab.title('ROC curve')\n",
      "pylab.xlim(0,100)\n",
      "pylab.ylim(0,0.9)\n",
      "pylab.grid(True)\n",
      "#pylab.savefig('simple_plot')\n",
      "#pylab.show()"
     ],
     "language": "python",
     "metadata": {},
     "outputs": [
      {
       "output_type": "display_data",
       "png": "[encoded data removed]"
      }
     ],
     "prompt_number": 14
    }
   ],
   "metadata": {}
  }
 ]
}