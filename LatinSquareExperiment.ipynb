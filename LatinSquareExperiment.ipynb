{
 "metadata": {
  "name": "LatinSquareExperiment"
 },
 "nbformat": 3,
 "nbformat_minor": 0,
 "worksheets": [
  {
   "cells": [
    {
     "cell_type": "markdown",
     "metadata": {},
     "source": [
      "\n",
      "The sensitivity in identifying the genes differentially expressed was evaluated by using the spike-in experiments described\n",
      "previously. To simulate an experiment in which two conditions are compared, we rearranged the data as follows:\n",
      "First, the genes from experiments 1 to 3 were attributed to condition $A$ and those from experiments 4 to 6 \n",
      "were attributed to condition $B$. The exceptions were the genes from experiments 40 to 42, because \n",
      "we want to probe the effect of small \n",
      "differences in expression, i.e, we did not evaluate at such high differences as expressions of 0 and 512 pM. \n",
      "We kept the procedure using 4-6 as condition \\textit{A} and 7-9 as condition \\textit{B}, again \n",
      "excluding the 0 and 512 pM differences. \n",
      "We ended up with 14 experiments in the two conditions and 39 differentially expressed genes for each condition. \n",
      "\n",
      "\n",
      "The results are presented as a ROC curve whose definition is given by a true positive (TP) rate against a false positive (FP) rate obtained \n",
      "at different threshold values. To plot a single average ROC curve, we calculated the average TP and FP over the 14 experiments \n",
      "obtained in the spike-in data rearrangement. \n",
      "The median p-values approach showed a significant improvement on the sensitivity in recognizing the differentially expressed \n",
      "genes when t-test was used as ranking method, fig 1A. Its performance is similar to the SAM approach, fig. 1B. \n",
      "On the other hand, the maximum likelihood approach showed a performance similar to the t-test applied to preprocessed data. \n",
      "The better performance of SAM method was obtained using RMA preprocessing and in all applied tests the data was\n",
      "normalized using the quantile normalization .\n"
     ]
    },
    {
     "cell_type": "markdown",
     "metadata": {},
     "source": [
      "Carregando bibliotecas"
     ]
    },
    {
     "cell_type": "code",
     "collapsed": false,
     "input": [
      "%load_ext rmagic"
     ],
     "language": "python",
     "metadata": {},
     "outputs": [],
     "prompt_number": 5
    },
    {
     "cell_type": "code",
     "collapsed": false,
     "input": [
      "import pylab\n",
      "import numpy as np\n",
      "import pandas as pd\n",
      "import itertools as i\n",
      "from time import time\n",
      "from scipy.stats import ttest_ind\n"
     ],
     "language": "python",
     "metadata": {},
     "outputs": [],
     "prompt_number": 6
    },
    {
     "cell_type": "code",
     "collapsed": false,
     "input": [
      "%%R\n",
      "\n",
      "library(\"plier\")\n",
      "library(\"affy\")\n",
      "library(\"siggenes\")\n"
     ],
     "language": "python",
     "metadata": {},
     "outputs": [
      {
       "output_type": "display_data",
       "text": [
        "Loading required package: multtest\n",
        "Loading required package: splines\n"
       ]
      }
     ],
     "prompt_number": 10
    },
    {
     "cell_type": "markdown",
     "metadata": {},
     "source": [
      "Lista dos genes diferencialmente expressos"
     ]
    },
    {
     "cell_type": "code",
     "collapsed": false,
     "input": [
      "%%R\n",
      "    \n",
      "    listagenes=\"203508_at\"\n",
      "    listagenes[2]=\"204563_at\"\n",
      "    listagenes[3]=\"204513_s_at\"\n",
      "    listagenes[4]=\"204205_at\"\n",
      "    listagenes[5]=\"204959_at\"\n",
      "    listagenes[6]=\"207655_s_at\"\n",
      "    listagenes[7]=\"204836_at\"\n",
      "    listagenes[8]=\"205291_at\"\n",
      "    listagenes[9]=\"209795_at\"\n",
      "    listagenes[10]=\"207777_s_at\"\n",
      "    listagenes[11]=\"204912_at\"\n",
      "    listagenes[12]=\"205569_at\"\n",
      "    listagenes[13]=\"207160_at\"\n",
      "    listagenes[14]=\"205692_s_at\"\n",
      "    listagenes[15]=\"212827_at\"\n",
      "    listagenes[16]=\"209606_at\"\n",
      "    listagenes[17]=\"205267_at\"\n",
      "    listagenes[18]=\"204417_at\"\n",
      "    listagenes[19]=\"205398_s_at\"\n",
      "    listagenes[20]=\"209734_at\"\n",
      "    listagenes[21]=\"209354_at\"\n",
      "    listagenes[22]=\"206060_s_at\"\n",
      "    listagenes[23]=\"205790_at\"\n",
      "    listagenes[24]=\"200665_s_at\"\n",
      "    listagenes[25]=\"207641_at\"\n",
      "    listagenes[26]=\"207540_s_at\"\n",
      "    listagenes[27]=\"204430_s_at\"\n",
      "    listagenes[28]=\"203471_s_at\"\n",
      "    listagenes[29]=\"204951_at\"\n",
      "    listagenes[30]=\"207968_s_at\"\n",
      "    listagenes[31]=\"AFFX-r2-TagA_at\"\n",
      "    listagenes[32]=\"AFFX-r2-TagB_at\"\n",
      "    listagenes[33]=\"AFFX-r2-TagC_at\"\n",
      "    listagenes[34]=\"AFFX-r2-TagD_at\"\n",
      "    listagenes[35]=\"AFFX-r2-TagE_at\"\n",
      "    listagenes[36]=\"AFFX-r2-TagF_at\"\n",
      "    listagenes[37]=\"AFFX-r2-TagG_at\"\n",
      "    listagenes[38]=\"AFFX-r2-TagH_at\"\n",
      "    listagenes[39]=\"AFFX-DapX-3_at\"\n",
      "    listagenes[40]=\"AFFX-LysX-3_at\"\n",
      "    listagenes[41]=\"AFFX-PheX-3_at\"\n",
      "    listagenes[42]=\"AFFX-ThrX-3_at\"\n"
     ],
     "language": "python",
     "metadata": {},
     "outputs": [],
     "prompt_number": 23
    },
    {
     "cell_type": "code",
     "collapsed": false,
     "input": [
      "listagenes = %Rget -d listagenes"
     ],
     "language": "python",
     "metadata": {},
     "outputs": [],
     "prompt_number": 30
    },
    {
     "cell_type": "code",
     "collapsed": false,
     "input": [
      "%%R\n",
      "\n",
      "   Rsam <- function(Xa,Xb){\n",
      "        Na <- ncol(Xa)\n",
      "        Nb <- ncol(Xb)\n",
      "        Ng <- nrow(Xa)\n",
      "        c <- c(rep(0,Na),rep(1,Nb))\n",
      "        sam.out <- sam(cbind(Xa,Xb),c)\n",
      "        sum.sam.out <- summary(sam.out, 0.01)\n",
      "        gr <- sum.sam.out@mat.sig[1:Ng,][[1]]\n",
      "        return(gr)\n",
      "    }\n"
     ],
     "language": "python",
     "metadata": {},
     "outputs": [],
     "prompt_number": 12
    },
    {
     "cell_type": "code",
     "collapsed": false,
     "input": [
      "def calc_metric_tensor(g_exp, classes):\n",
      "    import itertools as i ## tive que colocar e n\u00e3o sei o porque\n",
      "\n",
      "    \"\"\"\n",
      "    @type g_exp: double dimensional matrix\n",
      "    @param g_exp: one experiment per line and one gene per column\n",
      "    @type classes: list with exactly two lists\n",
      "    @param classes: a list with two element, first a list with \n",
      "    @rtype: one dimensional vector \n",
      "    @return: the metric tensor\n",
      "    \"\"\"\n",
      "    n_genes = len(g_exp)\n",
      "    e_g = np.zeros(n_genes)\n",
      "    comb_c_1 = list(i.combinations(classes[0], 2))\n",
      "    comb_c_2 = list(i.combinations(classes[1], 2))\n",
      "    prod_f = list(i.product(classes[0], classes[1]))\n",
      "    len_c = len(comb_c_1) + len(comb_c_2)\n",
      "    len_f = len(prod_f)\n",
      "    \n",
      "    e_g = np.zeros(n_genes)\n",
      "    for g in range(0, n_genes):\n",
      "        e_g[g] = 1./len_c*(np.sum(map(lambda (i,j): np.sqrt((g_exp[g][i] - g_exp[g][j])**2), comb_c_1)) + \\\n",
      "                            np.sum(map(lambda (i,j): np.sqrt((g_exp[g][i] - g_exp[g][j])**2), comb_c_2))) \\\n",
      "               - 1./len_f*np.sum(map(lambda (i,j): np.sqrt((g_exp[g][i] - g_exp[g][j])**2), prod_f)) \n",
      "    \n",
      "    return np.argsort(e_g)"
     ],
     "language": "python",
     "metadata": {},
     "outputs": [],
     "prompt_number": 13
    },
    {
     "cell_type": "code",
     "collapsed": false,
     "input": [
      "def Fttest(Xa,Xb):\n",
      "    t,p = ttest_ind(transpose(Xa),transpose(Xb))\n",
      "    return np.argsort(p)"
     ],
     "language": "python",
     "metadata": {},
     "outputs": [],
     "prompt_number": 34
    },
    {
     "cell_type": "markdown",
     "metadata": {},
     "source": [
      "C\u00f3digo abaixo \u00e9 equivalente a:\n",
      "\n",
      "    len(set(a).intersection(set(b)))\n",
      "\n",
      "Substitui por isso em algumas c\u00e9lulas abaixo."
     ]
    },
    {
     "cell_type": "code",
     "collapsed": false,
     "input": [
      "def intersect(a, b):\n",
      "     return len(list(set(a) & set(b)))"
     ],
     "language": "python",
     "metadata": {},
     "outputs": [],
     "prompt_number": 7
    },
    {
     "cell_type": "code",
     "collapsed": false,
     "input": [
      "%%R\n",
      "\n",
      "ReadData <- function(k,fns,celpath){\n",
      "    k <- 2\n",
      "    celpath <- \"/home/marcelo/Desktop/Dropbox/Microarrays/LatinSquare/\"\n",
      "    fns <- readLines(\"/home/marcelo/Desktop/Dropbox/Microarrays/LatinSquare/filenames\")\n",
      "    Ne <- 14\n",
      "    if (k!=Ne){\n",
      "        fn <- fns[c((1:6)+3*(k-1))]\n",
      "    }else{\n",
      "        fn <- fns[c(40:42,1:3)]\n",
      "    }\n",
      "    pD <- ReadAffy(filenames=fn,celfile.path=celpath) ## lendo os CEL files\n",
      "    pDn <- normalize.AffyBatch.quantiles(pD)\n",
      "    return(pDn)\n",
      "}"
     ],
     "language": "python",
     "metadata": {},
     "outputs": [],
     "prompt_number": 14
    },
    {
     "cell_type": "markdown",
     "metadata": {},
     "source": [
      "Definindo o caminho onde encontram-se os dados crus de microarranjos (.CEL)"
     ]
    },
    {
     "cell_type": "code",
     "collapsed": false,
     "input": [
      "%%R\n",
      "\n",
      "celpath <- \"/home/marcelo/Desktop/Dropbox/Microarrays/LatinSquare/\"\n",
      "fns <- readLines(\"/home/marcelo/Desktop/Dropbox/Microarrays/LatinSquare/filenames\")"
     ],
     "language": "python",
     "metadata": {},
     "outputs": [
      {
       "ename": "RInterpreterError",
       "evalue": "Failed to parse and evaluate line u'    celpath <- \"/home/marcelo/Desktop/Dropbox/Microarrays/LatinSquare/\"\\n    fns <- readLines(\"/home/marcelo/Desktop/Dropbox/Microarrays/LatinSquare/filenames\")\\n'.\nR error message: u'Error in file(con, \"r\") : cannot open the connection'\nR stdout:\nError in file(con, \"r\") : cannot open the connection\nIn addition: Warning message:\nIn file(con, \"r\") :\n  cannot open file '/home/marcelo/Desktop/Dropbox/Microarrays/LatinSquare/filenames': No such file or directory",
       "output_type": "pyerr",
       "traceback": [
        "\u001b[1;31m---------------------------------------------------------------------------\u001b[0m\n\u001b[1;31mRInterpreterError\u001b[0m                         Traceback (most recent call last)",
        "\u001b[1;32m<ipython-input-16-9de0d21a54a2>\u001b[0m in \u001b[0;36m<module>\u001b[1;34m()\u001b[0m\n\u001b[1;32m----> 1\u001b[1;33m \u001b[0mget_ipython\u001b[0m\u001b[1;33m(\u001b[0m\u001b[1;33m)\u001b[0m\u001b[1;33m.\u001b[0m\u001b[0m_run_cached_cell_magic\u001b[0m\u001b[1;33m(\u001b[0m\u001b[1;34mu'R'\u001b[0m\u001b[1;33m,\u001b[0m \u001b[1;34mu''\u001b[0m\u001b[1;33m)\u001b[0m\u001b[1;33m\u001b[0m\u001b[0m\n\u001b[0m",
        "\u001b[1;32m/home/walrus/.virtualenvs/py/local/lib/python2.7/site-packages/IPython/core/interactiveshell.pyc\u001b[0m in \u001b[0;36m_run_cached_cell_magic\u001b[1;34m(self, magic_name, line)\u001b[0m\n\u001b[0;32m   2550\u001b[0m         \u001b[0mcell\u001b[0m \u001b[1;33m=\u001b[0m \u001b[0mself\u001b[0m\u001b[1;33m.\u001b[0m\u001b[0m_current_cell_magic_body\u001b[0m\u001b[1;33m\u001b[0m\u001b[0m\n\u001b[0;32m   2551\u001b[0m         \u001b[0mself\u001b[0m\u001b[1;33m.\u001b[0m\u001b[0m_current_cell_magic_body\u001b[0m \u001b[1;33m=\u001b[0m \u001b[0mNone\u001b[0m\u001b[1;33m\u001b[0m\u001b[0m\n\u001b[1;32m-> 2552\u001b[1;33m         \u001b[1;32mreturn\u001b[0m \u001b[0mself\u001b[0m\u001b[1;33m.\u001b[0m\u001b[0mrun_cell_magic\u001b[0m\u001b[1;33m(\u001b[0m\u001b[0mmagic_name\u001b[0m\u001b[1;33m,\u001b[0m \u001b[0mline\u001b[0m\u001b[1;33m,\u001b[0m \u001b[0mcell\u001b[0m\u001b[1;33m)\u001b[0m\u001b[1;33m\u001b[0m\u001b[0m\n\u001b[0m\u001b[0;32m   2553\u001b[0m \u001b[1;33m\u001b[0m\u001b[0m\n\u001b[0;32m   2554\u001b[0m     \u001b[1;32mdef\u001b[0m \u001b[0mrun_cell\u001b[0m\u001b[1;33m(\u001b[0m\u001b[0mself\u001b[0m\u001b[1;33m,\u001b[0m \u001b[0mraw_cell\u001b[0m\u001b[1;33m,\u001b[0m \u001b[0mstore_history\u001b[0m\u001b[1;33m=\u001b[0m\u001b[0mFalse\u001b[0m\u001b[1;33m,\u001b[0m \u001b[0msilent\u001b[0m\u001b[1;33m=\u001b[0m\u001b[0mFalse\u001b[0m\u001b[1;33m,\u001b[0m \u001b[0mshell_futures\u001b[0m\u001b[1;33m=\u001b[0m\u001b[0mTrue\u001b[0m\u001b[1;33m)\u001b[0m\u001b[1;33m:\u001b[0m\u001b[1;33m\u001b[0m\u001b[0m\n",
        "\u001b[1;32m/home/walrus/.virtualenvs/py/local/lib/python2.7/site-packages/IPython/core/interactiveshell.pyc\u001b[0m in \u001b[0;36mrun_cell_magic\u001b[1;34m(self, magic_name, line, cell)\u001b[0m\n\u001b[0;32m   2130\u001b[0m             \u001b[0mmagic_arg_s\u001b[0m \u001b[1;33m=\u001b[0m \u001b[0mself\u001b[0m\u001b[1;33m.\u001b[0m\u001b[0mvar_expand\u001b[0m\u001b[1;33m(\u001b[0m\u001b[0mline\u001b[0m\u001b[1;33m,\u001b[0m \u001b[0mstack_depth\u001b[0m\u001b[1;33m)\u001b[0m\u001b[1;33m\u001b[0m\u001b[0m\n\u001b[0;32m   2131\u001b[0m             \u001b[1;32mwith\u001b[0m \u001b[0mself\u001b[0m\u001b[1;33m.\u001b[0m\u001b[0mbuiltin_trap\u001b[0m\u001b[1;33m:\u001b[0m\u001b[1;33m\u001b[0m\u001b[0m\n\u001b[1;32m-> 2132\u001b[1;33m                 \u001b[0mresult\u001b[0m \u001b[1;33m=\u001b[0m \u001b[0mfn\u001b[0m\u001b[1;33m(\u001b[0m\u001b[0mmagic_arg_s\u001b[0m\u001b[1;33m,\u001b[0m \u001b[0mcell\u001b[0m\u001b[1;33m)\u001b[0m\u001b[1;33m\u001b[0m\u001b[0m\n\u001b[0m\u001b[0;32m   2133\u001b[0m             \u001b[1;32mreturn\u001b[0m \u001b[0mresult\u001b[0m\u001b[1;33m\u001b[0m\u001b[0m\n\u001b[0;32m   2134\u001b[0m \u001b[1;33m\u001b[0m\u001b[0m\n",
        "\u001b[1;32m/home/walrus/.virtualenvs/py/local/lib/python2.7/site-packages/IPython/extensions/rmagic.pyc\u001b[0m in \u001b[0;36mR\u001b[1;34m(self, line, cell, local_ns)\u001b[0m\n",
        "\u001b[1;32m/home/walrus/.virtualenvs/py/local/lib/python2.7/site-packages/IPython/core/magic.pyc\u001b[0m in \u001b[0;36m<lambda>\u001b[1;34m(f, *a, **k)\u001b[0m\n\u001b[0;32m    189\u001b[0m     \u001b[1;31m# but it's overkill for just that one bit of state.\u001b[0m\u001b[1;33m\u001b[0m\u001b[1;33m\u001b[0m\u001b[0m\n\u001b[0;32m    190\u001b[0m     \u001b[1;32mdef\u001b[0m \u001b[0mmagic_deco\u001b[0m\u001b[1;33m(\u001b[0m\u001b[0marg\u001b[0m\u001b[1;33m)\u001b[0m\u001b[1;33m:\u001b[0m\u001b[1;33m\u001b[0m\u001b[0m\n\u001b[1;32m--> 191\u001b[1;33m         \u001b[0mcall\u001b[0m \u001b[1;33m=\u001b[0m \u001b[1;32mlambda\u001b[0m \u001b[0mf\u001b[0m\u001b[1;33m,\u001b[0m \u001b[1;33m*\u001b[0m\u001b[0ma\u001b[0m\u001b[1;33m,\u001b[0m \u001b[1;33m**\u001b[0m\u001b[0mk\u001b[0m\u001b[1;33m:\u001b[0m \u001b[0mf\u001b[0m\u001b[1;33m(\u001b[0m\u001b[1;33m*\u001b[0m\u001b[0ma\u001b[0m\u001b[1;33m,\u001b[0m \u001b[1;33m**\u001b[0m\u001b[0mk\u001b[0m\u001b[1;33m)\u001b[0m\u001b[1;33m\u001b[0m\u001b[0m\n\u001b[0m\u001b[0;32m    192\u001b[0m \u001b[1;33m\u001b[0m\u001b[0m\n\u001b[0;32m    193\u001b[0m         \u001b[1;32mif\u001b[0m \u001b[0mcallable\u001b[0m\u001b[1;33m(\u001b[0m\u001b[0marg\u001b[0m\u001b[1;33m)\u001b[0m\u001b[1;33m:\u001b[0m\u001b[1;33m\u001b[0m\u001b[0m\n",
        "\u001b[1;32m/home/walrus/.virtualenvs/py/local/lib/python2.7/site-packages/IPython/extensions/rmagic.pyc\u001b[0m in \u001b[0;36mR\u001b[1;34m(self, line, cell, local_ns)\u001b[0m\n\u001b[0;32m    550\u001b[0m                 \u001b[0mreturn_output\u001b[0m \u001b[1;33m=\u001b[0m \u001b[0mFalse\u001b[0m\u001b[1;33m\u001b[0m\u001b[0m\n\u001b[0;32m    551\u001b[0m         \u001b[1;32melse\u001b[0m\u001b[1;33m:\u001b[0m\u001b[1;33m\u001b[0m\u001b[0m\n\u001b[1;32m--> 552\u001b[1;33m             \u001b[0mtext_result\u001b[0m\u001b[1;33m,\u001b[0m \u001b[0mresult\u001b[0m \u001b[1;33m=\u001b[0m \u001b[0mself\u001b[0m\u001b[1;33m.\u001b[0m\u001b[0meval\u001b[0m\u001b[1;33m(\u001b[0m\u001b[0mcode\u001b[0m\u001b[1;33m)\u001b[0m\u001b[1;33m\u001b[0m\u001b[0m\n\u001b[0m\u001b[0;32m    553\u001b[0m             \u001b[0mtext_output\u001b[0m \u001b[1;33m+=\u001b[0m \u001b[0mtext_result\u001b[0m\u001b[1;33m\u001b[0m\u001b[0m\n\u001b[0;32m    554\u001b[0m \u001b[1;33m\u001b[0m\u001b[0m\n",
        "\u001b[1;32m/home/walrus/.virtualenvs/py/local/lib/python2.7/site-packages/IPython/extensions/rmagic.pyc\u001b[0m in \u001b[0;36meval\u001b[1;34m(self, line)\u001b[0m\n\u001b[0;32m    159\u001b[0m         \u001b[1;32mexcept\u001b[0m \u001b[1;33m(\u001b[0m\u001b[0mri\u001b[0m\u001b[1;33m.\u001b[0m\u001b[0mRRuntimeError\u001b[0m\u001b[1;33m,\u001b[0m \u001b[0mValueError\u001b[0m\u001b[1;33m)\u001b[0m \u001b[1;32mas\u001b[0m \u001b[0mexception\u001b[0m\u001b[1;33m:\u001b[0m\u001b[1;33m\u001b[0m\u001b[0m\n\u001b[0;32m    160\u001b[0m             \u001b[0mwarning_or_other_msg\u001b[0m \u001b[1;33m=\u001b[0m \u001b[0mself\u001b[0m\u001b[1;33m.\u001b[0m\u001b[0mflush\u001b[0m\u001b[1;33m(\u001b[0m\u001b[1;33m)\u001b[0m \u001b[1;31m# otherwise next return seems to have copy of error\u001b[0m\u001b[1;33m\u001b[0m\u001b[0m\n\u001b[1;32m--> 161\u001b[1;33m             \u001b[1;32mraise\u001b[0m \u001b[0mRInterpreterError\u001b[0m\u001b[1;33m(\u001b[0m\u001b[0mline\u001b[0m\u001b[1;33m,\u001b[0m \u001b[0mstr_to_unicode\u001b[0m\u001b[1;33m(\u001b[0m\u001b[0mstr\u001b[0m\u001b[1;33m(\u001b[0m\u001b[0mexception\u001b[0m\u001b[1;33m)\u001b[0m\u001b[1;33m)\u001b[0m\u001b[1;33m,\u001b[0m \u001b[0mwarning_or_other_msg\u001b[0m\u001b[1;33m)\u001b[0m\u001b[1;33m\u001b[0m\u001b[0m\n\u001b[0m\u001b[0;32m    162\u001b[0m         \u001b[0mtext_output\u001b[0m \u001b[1;33m=\u001b[0m \u001b[0mself\u001b[0m\u001b[1;33m.\u001b[0m\u001b[0mflush\u001b[0m\u001b[1;33m(\u001b[0m\u001b[1;33m)\u001b[0m\u001b[1;33m\u001b[0m\u001b[0m\n\u001b[0;32m    163\u001b[0m         \u001b[0mri\u001b[0m\u001b[1;33m.\u001b[0m\u001b[0mset_writeconsole\u001b[0m\u001b[1;33m(\u001b[0m\u001b[0mold_writeconsole\u001b[0m\u001b[1;33m)\u001b[0m\u001b[1;33m\u001b[0m\u001b[0m\n",
        "\u001b[1;31mRInterpreterError\u001b[0m: Failed to parse and evaluate line u'    celpath <- \"/home/marcelo/Desktop/Dropbox/Microarrays/LatinSquare/\"\\n    fns <- readLines(\"/home/marcelo/Desktop/Dropbox/Microarrays/LatinSquare/filenames\")\\n'.\nR error message: u'Error in file(con, \"r\") : cannot open the connection'\nR stdout:\nError in file(con, \"r\") : cannot open the connection\nIn addition: Warning message:\nIn file(con, \"r\") :\n  cannot open file '/home/marcelo/Desktop/Dropbox/Microarrays/LatinSquare/filenames': No such file or directory"
       ]
      }
     ],
     "prompt_number": 16
    },
    {
     "cell_type": "code",
     "collapsed": false,
     "input": [
      "Ne = 14\n",
      "Ng = 22300\n",
      "Ntopgenes = 200\n",
      "TPsam = np.zeros(Ne*Ntopgenes).reshape((Ne, Ntopgenes))\n",
      "FPsam = np.zeros(Ne*Ntopgenes).reshape((Ne, Ntopgenes))\n",
      "TPtt  = np.zeros(Ne*Ntopgenes).reshape((Ne, Ntopgenes))\n",
      "FPtt  = np.zeros(Ne*Ntopgenes).reshape((Ne, Ntopgenes))\n",
      "TPgeo = np.zeros(Ne*Ntopgenes).reshape((Ne, Ntopgenes))\n",
      "FPgeo = np.zeros(Ne*Ntopgenes).reshape((Ne, Ntopgenes))"
     ],
     "language": "python",
     "metadata": {},
     "outputs": [],
     "prompt_number": 17
    },
    {
     "cell_type": "code",
     "collapsed": false,
     "input": [
      "a = range(0,42)\n",
      "for k in range(0,1):\n",
      "    pDn = %R ReadData(k+1,r.fns,r.celpath)\n",
      "    if k==0:\n",
      "        gNames = %R geneNames(pDn)\n",
      "        pNames = %R probeNames(pDn)\n",
      "    Iprobe = %R pm(pDn,gNames)\n",
      "    Erma   = %R exprs(r.rma(pDn,verbose=0))\n",
      "\n",
      "    iSam = %R Rsam(Erma[:,0:3],Erma[:,3:6]);\n",
      "    iTt  = Fttest(Erma[:,0:3],Erma[:,3:6])\n",
      "    iGeo = calc_metric_tensor(Erma,[[0,1,2],[3,4,5]])\n",
      "    for ntgenes in range(0,Ntopgenes):\n",
      "        TPtt[k,ntgenes]  = intersect([gNames[int(i)]   for i in iTt[0:ntgenes]], [r.listagenes[a[i]] for i in range(-3*k,len(a)-3*(k+1))])\n",
      "        TPsam[k,ntgenes] = intersect([gNames[int(i)-1] for i in iSam[0:ntgenes]],[r.listagenes[a[i]] for i in range(-3*k,len(a)-3*(k+1))])\n",
      "        TPgeo[k,ntgenes] = intersect([gNames[int(i)]   for i in iGeo[0:ntgenes]],[r.listagenes[a[i]] for i in range(-3*k,len(a)-3*(k+1))])\n",
      "        FPtt[k,ntgenes]  = ntgenes - TPtt[k,ntgenes] - len(set([gNames[int(i)]   for i in iTt[0:ntgenes]]).intersection(set([listagenes[a[i]] for i in range(len(a)-3*(k+1),len(a)-3*(k))])))\n",
      "        FPsam[k,ntgenes] = ntgenes - TPsam[k,ntgenes]- len(set([gNames[int(i)-1] for i in iSam[0:ntgenes]]).intersection(set([listagenes[a[i]] for i in range(len(a)-3*(k+1),len(a)-3*(k))])))\n",
      "        FPgeo[k,ntgenes] = ntgenes - TPgeo[k,ntgenes]- len(set([gNames[int(i)]   for i in iGeo[0:ntgenes]]).intersection(set([listagenes[a[i]] for i in range(len(a)-3*(k+1),len(a)-3*(k))])))\n",
      "        "
     ],
     "language": "python",
     "metadata": {},
     "outputs": [
      {
       "ename": "RInterpreterError",
       "evalue": "Failed to parse and evaluate line u'ReadData(k+1,r.fns,r.celpath)'.\nR error message: u'Error in file(con, \"r\") : cannot open the connection'\nR stdout:\nError in file(con, \"r\") : cannot open the connection\nIn addition: Warning message:\nIn file(con, \"r\") :\n  cannot open file '/home/marcelo/Desktop/Dropbox/Microarrays/LatinSquare/filenames': No such file or directory",
       "output_type": "pyerr",
       "traceback": [
        "\u001b[1;31m---------------------------------------------------------------------------\u001b[0m\n\u001b[1;31mRInterpreterError\u001b[0m                         Traceback (most recent call last)",
        "\u001b[1;32m<ipython-input-33-9a84971c69e0>\u001b[0m in \u001b[0;36m<module>\u001b[1;34m()\u001b[0m\n\u001b[0;32m      1\u001b[0m \u001b[0ma\u001b[0m \u001b[1;33m=\u001b[0m \u001b[0mrange\u001b[0m\u001b[1;33m(\u001b[0m\u001b[1;36m0\u001b[0m\u001b[1;33m,\u001b[0m\u001b[1;36m42\u001b[0m\u001b[1;33m)\u001b[0m\u001b[1;33m\u001b[0m\u001b[0m\n\u001b[0;32m      2\u001b[0m \u001b[1;32mfor\u001b[0m \u001b[0mk\u001b[0m \u001b[1;32min\u001b[0m \u001b[0mrange\u001b[0m\u001b[1;33m(\u001b[0m\u001b[1;36m0\u001b[0m\u001b[1;33m,\u001b[0m\u001b[1;36m1\u001b[0m\u001b[1;33m)\u001b[0m\u001b[1;33m:\u001b[0m\u001b[1;33m\u001b[0m\u001b[0m\n\u001b[1;32m----> 3\u001b[1;33m     \u001b[0mpDn\u001b[0m \u001b[1;33m=\u001b[0m \u001b[0mget_ipython\u001b[0m\u001b[1;33m(\u001b[0m\u001b[1;33m)\u001b[0m\u001b[1;33m.\u001b[0m\u001b[0mmagic\u001b[0m\u001b[1;33m(\u001b[0m\u001b[1;34mu'R ReadData(k+1,r.fns,r.celpath)'\u001b[0m\u001b[1;33m)\u001b[0m\u001b[1;33m\u001b[0m\u001b[0m\n\u001b[0m\u001b[0;32m      4\u001b[0m     \u001b[1;32mif\u001b[0m \u001b[0mk\u001b[0m\u001b[1;33m==\u001b[0m\u001b[1;36m0\u001b[0m\u001b[1;33m:\u001b[0m\u001b[1;33m\u001b[0m\u001b[0m\n\u001b[0;32m      5\u001b[0m         \u001b[0mgNames\u001b[0m \u001b[1;33m=\u001b[0m \u001b[0mget_ipython\u001b[0m\u001b[1;33m(\u001b[0m\u001b[1;33m)\u001b[0m\u001b[1;33m.\u001b[0m\u001b[0mmagic\u001b[0m\u001b[1;33m(\u001b[0m\u001b[1;34mu'R geneNames(pDn)'\u001b[0m\u001b[1;33m)\u001b[0m\u001b[1;33m\u001b[0m\u001b[0m\n",
        "\u001b[1;32m/home/walrus/.virtualenvs/py/local/lib/python2.7/site-packages/IPython/core/interactiveshell.pyc\u001b[0m in \u001b[0;36mmagic\u001b[1;34m(self, arg_s)\u001b[0m\n\u001b[0;32m   2173\u001b[0m         \u001b[0mmagic_name\u001b[0m\u001b[1;33m,\u001b[0m \u001b[0m_\u001b[0m\u001b[1;33m,\u001b[0m \u001b[0mmagic_arg_s\u001b[0m \u001b[1;33m=\u001b[0m \u001b[0marg_s\u001b[0m\u001b[1;33m.\u001b[0m\u001b[0mpartition\u001b[0m\u001b[1;33m(\u001b[0m\u001b[1;34m' '\u001b[0m\u001b[1;33m)\u001b[0m\u001b[1;33m\u001b[0m\u001b[0m\n\u001b[0;32m   2174\u001b[0m         \u001b[0mmagic_name\u001b[0m \u001b[1;33m=\u001b[0m \u001b[0mmagic_name\u001b[0m\u001b[1;33m.\u001b[0m\u001b[0mlstrip\u001b[0m\u001b[1;33m(\u001b[0m\u001b[0mprefilter\u001b[0m\u001b[1;33m.\u001b[0m\u001b[0mESC_MAGIC\u001b[0m\u001b[1;33m)\u001b[0m\u001b[1;33m\u001b[0m\u001b[0m\n\u001b[1;32m-> 2175\u001b[1;33m         \u001b[1;32mreturn\u001b[0m \u001b[0mself\u001b[0m\u001b[1;33m.\u001b[0m\u001b[0mrun_line_magic\u001b[0m\u001b[1;33m(\u001b[0m\u001b[0mmagic_name\u001b[0m\u001b[1;33m,\u001b[0m \u001b[0mmagic_arg_s\u001b[0m\u001b[1;33m)\u001b[0m\u001b[1;33m\u001b[0m\u001b[0m\n\u001b[0m\u001b[0;32m   2176\u001b[0m \u001b[1;33m\u001b[0m\u001b[0m\n\u001b[0;32m   2177\u001b[0m     \u001b[1;31m#-------------------------------------------------------------------------\u001b[0m\u001b[1;33m\u001b[0m\u001b[1;33m\u001b[0m\u001b[0m\n",
        "\u001b[1;32m/home/walrus/.virtualenvs/py/local/lib/python2.7/site-packages/IPython/core/interactiveshell.pyc\u001b[0m in \u001b[0;36mrun_line_magic\u001b[1;34m(self, magic_name, line)\u001b[0m\n\u001b[0;32m   2099\u001b[0m                 \u001b[0mkwargs\u001b[0m\u001b[1;33m[\u001b[0m\u001b[1;34m'local_ns'\u001b[0m\u001b[1;33m]\u001b[0m \u001b[1;33m=\u001b[0m \u001b[0msys\u001b[0m\u001b[1;33m.\u001b[0m\u001b[0m_getframe\u001b[0m\u001b[1;33m(\u001b[0m\u001b[0mstack_depth\u001b[0m\u001b[1;33m)\u001b[0m\u001b[1;33m.\u001b[0m\u001b[0mf_locals\u001b[0m\u001b[1;33m\u001b[0m\u001b[0m\n\u001b[0;32m   2100\u001b[0m             \u001b[1;32mwith\u001b[0m \u001b[0mself\u001b[0m\u001b[1;33m.\u001b[0m\u001b[0mbuiltin_trap\u001b[0m\u001b[1;33m:\u001b[0m\u001b[1;33m\u001b[0m\u001b[0m\n\u001b[1;32m-> 2101\u001b[1;33m                 \u001b[0mresult\u001b[0m \u001b[1;33m=\u001b[0m \u001b[0mfn\u001b[0m\u001b[1;33m(\u001b[0m\u001b[1;33m*\u001b[0m\u001b[0margs\u001b[0m\u001b[1;33m,\u001b[0m\u001b[1;33m**\u001b[0m\u001b[0mkwargs\u001b[0m\u001b[1;33m)\u001b[0m\u001b[1;33m\u001b[0m\u001b[0m\n\u001b[0m\u001b[0;32m   2102\u001b[0m             \u001b[1;32mreturn\u001b[0m \u001b[0mresult\u001b[0m\u001b[1;33m\u001b[0m\u001b[0m\n\u001b[0;32m   2103\u001b[0m \u001b[1;33m\u001b[0m\u001b[0m\n",
        "\u001b[1;32m/home/walrus/.virtualenvs/py/local/lib/python2.7/site-packages/IPython/extensions/rmagic.pyc\u001b[0m in \u001b[0;36mR\u001b[1;34m(self, line, cell, local_ns)\u001b[0m\n",
        "\u001b[1;32m/home/walrus/.virtualenvs/py/local/lib/python2.7/site-packages/IPython/core/magic.pyc\u001b[0m in \u001b[0;36m<lambda>\u001b[1;34m(f, *a, **k)\u001b[0m\n\u001b[0;32m    189\u001b[0m     \u001b[1;31m# but it's overkill for just that one bit of state.\u001b[0m\u001b[1;33m\u001b[0m\u001b[1;33m\u001b[0m\u001b[0m\n\u001b[0;32m    190\u001b[0m     \u001b[1;32mdef\u001b[0m \u001b[0mmagic_deco\u001b[0m\u001b[1;33m(\u001b[0m\u001b[0marg\u001b[0m\u001b[1;33m)\u001b[0m\u001b[1;33m:\u001b[0m\u001b[1;33m\u001b[0m\u001b[0m\n\u001b[1;32m--> 191\u001b[1;33m         \u001b[0mcall\u001b[0m \u001b[1;33m=\u001b[0m \u001b[1;32mlambda\u001b[0m \u001b[0mf\u001b[0m\u001b[1;33m,\u001b[0m \u001b[1;33m*\u001b[0m\u001b[0ma\u001b[0m\u001b[1;33m,\u001b[0m \u001b[1;33m**\u001b[0m\u001b[0mk\u001b[0m\u001b[1;33m:\u001b[0m \u001b[0mf\u001b[0m\u001b[1;33m(\u001b[0m\u001b[1;33m*\u001b[0m\u001b[0ma\u001b[0m\u001b[1;33m,\u001b[0m \u001b[1;33m**\u001b[0m\u001b[0mk\u001b[0m\u001b[1;33m)\u001b[0m\u001b[1;33m\u001b[0m\u001b[0m\n\u001b[0m\u001b[0;32m    192\u001b[0m \u001b[1;33m\u001b[0m\u001b[0m\n\u001b[0;32m    193\u001b[0m         \u001b[1;32mif\u001b[0m \u001b[0mcallable\u001b[0m\u001b[1;33m(\u001b[0m\u001b[0marg\u001b[0m\u001b[1;33m)\u001b[0m\u001b[1;33m:\u001b[0m\u001b[1;33m\u001b[0m\u001b[0m\n",
        "\u001b[1;32m/home/walrus/.virtualenvs/py/local/lib/python2.7/site-packages/IPython/extensions/rmagic.pyc\u001b[0m in \u001b[0;36mR\u001b[1;34m(self, line, cell, local_ns)\u001b[0m\n\u001b[0;32m    544\u001b[0m         \u001b[1;32mif\u001b[0m \u001b[0mline_mode\u001b[0m\u001b[1;33m:\u001b[0m\u001b[1;33m\u001b[0m\u001b[0m\n\u001b[0;32m    545\u001b[0m             \u001b[1;32mfor\u001b[0m \u001b[0mline\u001b[0m \u001b[1;32min\u001b[0m \u001b[0mcode\u001b[0m\u001b[1;33m.\u001b[0m\u001b[0msplit\u001b[0m\u001b[1;33m(\u001b[0m\u001b[1;34m';'\u001b[0m\u001b[1;33m)\u001b[0m\u001b[1;33m:\u001b[0m\u001b[1;33m\u001b[0m\u001b[0m\n\u001b[1;32m--> 546\u001b[1;33m                 \u001b[0mtext_result\u001b[0m\u001b[1;33m,\u001b[0m \u001b[0mresult\u001b[0m \u001b[1;33m=\u001b[0m \u001b[0mself\u001b[0m\u001b[1;33m.\u001b[0m\u001b[0meval\u001b[0m\u001b[1;33m(\u001b[0m\u001b[0mline\u001b[0m\u001b[1;33m)\u001b[0m\u001b[1;33m\u001b[0m\u001b[0m\n\u001b[0m\u001b[0;32m    547\u001b[0m                 \u001b[0mtext_output\u001b[0m \u001b[1;33m+=\u001b[0m \u001b[0mtext_result\u001b[0m\u001b[1;33m\u001b[0m\u001b[0m\n\u001b[0;32m    548\u001b[0m             \u001b[1;32mif\u001b[0m \u001b[0mtext_result\u001b[0m\u001b[1;33m:\u001b[0m\u001b[1;33m\u001b[0m\u001b[0m\n",
        "\u001b[1;32m/home/walrus/.virtualenvs/py/local/lib/python2.7/site-packages/IPython/extensions/rmagic.pyc\u001b[0m in \u001b[0;36meval\u001b[1;34m(self, line)\u001b[0m\n\u001b[0;32m    159\u001b[0m         \u001b[1;32mexcept\u001b[0m \u001b[1;33m(\u001b[0m\u001b[0mri\u001b[0m\u001b[1;33m.\u001b[0m\u001b[0mRRuntimeError\u001b[0m\u001b[1;33m,\u001b[0m \u001b[0mValueError\u001b[0m\u001b[1;33m)\u001b[0m \u001b[1;32mas\u001b[0m \u001b[0mexception\u001b[0m\u001b[1;33m:\u001b[0m\u001b[1;33m\u001b[0m\u001b[0m\n\u001b[0;32m    160\u001b[0m             \u001b[0mwarning_or_other_msg\u001b[0m \u001b[1;33m=\u001b[0m \u001b[0mself\u001b[0m\u001b[1;33m.\u001b[0m\u001b[0mflush\u001b[0m\u001b[1;33m(\u001b[0m\u001b[1;33m)\u001b[0m \u001b[1;31m# otherwise next return seems to have copy of error\u001b[0m\u001b[1;33m\u001b[0m\u001b[0m\n\u001b[1;32m--> 161\u001b[1;33m             \u001b[1;32mraise\u001b[0m \u001b[0mRInterpreterError\u001b[0m\u001b[1;33m(\u001b[0m\u001b[0mline\u001b[0m\u001b[1;33m,\u001b[0m \u001b[0mstr_to_unicode\u001b[0m\u001b[1;33m(\u001b[0m\u001b[0mstr\u001b[0m\u001b[1;33m(\u001b[0m\u001b[0mexception\u001b[0m\u001b[1;33m)\u001b[0m\u001b[1;33m)\u001b[0m\u001b[1;33m,\u001b[0m \u001b[0mwarning_or_other_msg\u001b[0m\u001b[1;33m)\u001b[0m\u001b[1;33m\u001b[0m\u001b[0m\n\u001b[0m\u001b[0;32m    162\u001b[0m         \u001b[0mtext_output\u001b[0m \u001b[1;33m=\u001b[0m \u001b[0mself\u001b[0m\u001b[1;33m.\u001b[0m\u001b[0mflush\u001b[0m\u001b[1;33m(\u001b[0m\u001b[1;33m)\u001b[0m\u001b[1;33m\u001b[0m\u001b[0m\n\u001b[0;32m    163\u001b[0m         \u001b[0mri\u001b[0m\u001b[1;33m.\u001b[0m\u001b[0mset_writeconsole\u001b[0m\u001b[1;33m(\u001b[0m\u001b[0mold_writeconsole\u001b[0m\u001b[1;33m)\u001b[0m\u001b[1;33m\u001b[0m\u001b[0m\n",
        "\u001b[1;31mRInterpreterError\u001b[0m: Failed to parse and evaluate line u'ReadData(k+1,r.fns,r.celpath)'.\nR error message: u'Error in file(con, \"r\") : cannot open the connection'\nR stdout:\nError in file(con, \"r\") : cannot open the connection\nIn addition: Warning message:\nIn file(con, \"r\") :\n  cannot open file '/home/marcelo/Desktop/Dropbox/Microarrays/LatinSquare/filenames': No such file or directory"
       ]
      }
     ],
     "prompt_number": 33
    },
    {
     "cell_type": "code",
     "collapsed": false,
     "input": [
      "meanTPtt  = TPtt.mean(0)\n",
      "meanFPtt  = FPtt.mean(0)\n",
      "meanTPsam = TPsam.mean(0)\n",
      "meanFPsam = FPsam.mean(0)\n",
      "meanTPgeo = TPgeo.mean(0)\n",
      "meanFPgeo = FPgeo.mean(0)"
     ],
     "language": "python",
     "metadata": {},
     "outputs": [],
     "prompt_number": 12
    },
    {
     "cell_type": "code",
     "collapsed": false,
     "input": [
      "pylab.plot([meanFPtt[i]  for i in range(0,140,5)],[meanTPtt[i]/39  for i in range(0,140,5)], 'bo-')\n",
      "pylab.plot([meanFPsam[i] for i in range(0,140,5)],[meanTPsam[i]/39 for i in range(0,140,5)], 'k>-')\n",
      "pylab.plot([meanFPgeo[i] for i in range(0,140,5)],[meanTPgeo[i]/39 for i in range(0,140,5)], 'rs-')\n",
      "pylab.xlabel('number of False Positive')\n",
      "pylab.ylabel('fraction of True Positive')\n",
      "pylab.title('ROC curve')\n",
      "pylab.grid(True)\n",
      "#pylab.savefig('simple_plot')\n",
      "#pylab.show()"
     ],
     "language": "python",
     "metadata": {},
     "outputs": [
      {
       "output_type": "display_data",
       "png": "[encoded data removed]"
      }
     ],
     "prompt_number": 13
    }
   ],
   "metadata": {}
  }
 ]
}