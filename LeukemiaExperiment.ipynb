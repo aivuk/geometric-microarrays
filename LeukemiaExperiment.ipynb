{
 "metadata": {
  "name": "LeukemiaExperiment"
 },
 "nbformat": 3,
 "nbformat_minor": 0,
 "worksheets": [
  {
   "cells": [
    {
     "cell_type": "markdown",
     "metadata": {},
     "source": [
      "In order to compare the robustness of the methods we used a set of leukemia experiments \\cite{Armstrong2002}. \n",
      "The leukemia dataset consists in 24 experiments of acute lymphoblastic leukemia\n",
      "patients (ALL), 28 experiments of leukemia acute myelogenous leukemia patients (AML) and 20 experiments of mixed-lineage leukemia patients (MLL) \\cite{Armstrong2002}. The total number of tested genes is 12626. \n",
      "We chose only the experiments of leukemia type ALL and AML because these two types can be clearly distinguish based solely on gene expression profiles \\cite{Golub1999}.\n",
      "The robustness was evaluated by choosing 50 random samples of patients of \n",
      "different sizes and the overlap among the top 100 genes was obtained from the different samples (Fig. \\ref{fig:overlapLeukemia})."
     ]
    },
    {
     "cell_type": "code",
     "collapsed": false,
     "input": [
      "%load_ext rmagic"
     ],
     "language": "python",
     "metadata": {},
     "outputs": [],
     "prompt_number": 1
    },
    {
     "cell_type": "code",
     "collapsed": false,
     "input": [
      "import pylab\n",
      "import numpy as np\n",
      "import pandas as pd\n",
      "import itertools as it\n",
      "from time import time\n",
      "from scipy.stats import ttest_ind\n",
      "import random\n",
      "#from IPython.parallel import Client\n",
      "#c = Client()"
     ],
     "language": "python",
     "metadata": {},
     "outputs": [],
     "prompt_number": 2
    },
    {
     "cell_type": "code",
     "collapsed": false,
     "input": [
      "%%R\n",
      "    celpath <- \"/home/marcelo/Desktop/Dropbox/Microarrays/leukemiaData/CELfiles/\"\n",
      "    fn <- readLines(\"/home/marcelo/Desktop/Dropbox/Microarrays/leukemiaData/CELfiles/filenamesALL-AML\")\n",
      "    library(\"affy\")\n",
      "    library(\"siggenes\")"
     ],
     "language": "python",
     "metadata": {},
     "outputs": [
      {
       "output_type": "display_data",
       "text": [
        "Loading required package: Biobase\n",
        "\n",
        "Welcome to Bioconductor\n",
        "\n",
        "  Vignettes contain introductory material. To view, type\n",
        "  'browseVignettes()'. To cite Bioconductor, see\n",
        "  'citation(\"Biobase\")' and for packages 'citation(\"pkgname\")'.\n",
        "\n",
        "Loading required package: multtest\n",
        "Loading required package: splines\n"
       ]
      }
     ],
     "prompt_number": 3
    },
    {
     "cell_type": "code",
     "collapsed": false,
     "input": [
      "def ttest_func(Xa,Xb):\n",
      "    t,p = ttest_ind(np.transpose(Xa),np.transpose(Xb))\n",
      "    return np.argsort(p)"
     ],
     "language": "python",
     "metadata": {},
     "outputs": [],
     "prompt_number": 4
    },
    {
     "cell_type": "code",
     "collapsed": false,
     "input": [
      "def geo_approach(I,g_names,p_names):\n",
      "    n_genes  = len(g_names)\n",
      "    n_probes = len(p_names)\n",
      "    e_g = np.zeros(n_genes)\n",
      "    ne = shape(I)[1]\n",
      "\n",
      "    e_gj = calc_metric_tensor(I,[range(0,ne/2),range(ne/2,ne)])\n",
      "    c_old = 0\n",
      "    for g in range(0, n_genes):\n",
      "        c_new = c_old\n",
      "        while c_old < n_probes and p_names[c_old] == g_names[g]:\n",
      "            c_old = c_old + 1\n",
      "        e_g[g] = mean(e_gj[c_new:c_old])\n",
      "        \n",
      "    return np.argsort(e_g)  "
     ],
     "language": "python",
     "metadata": {},
     "outputs": [],
     "prompt_number": 5
    },
    {
     "cell_type": "code",
     "collapsed": false,
     "input": [
      "def calc_metric_tensor(g_exp, classes):\n",
      "    \"\"\"\n",
      "    @type g_exp: double dimensional matrix\n",
      "    @param g_exp: one experiment per line and one gene per column\n",
      "    @type classes: list with exactly two lists\n",
      "    @param classes: a list with two element, first a list with \n",
      "    @rtype: one dimensional vector \n",
      "    @return: the metric tensor\n",
      "    \"\"\"\n",
      "    n_genes = len(g_exp)\n",
      "    e_g = np.zeros(n_genes)\n",
      "    comb_c_1 = list(it.combinations(classes[0], 2))\n",
      "    comb_c_2 = list(it.combinations(classes[1], 2))\n",
      "    prod_f = list(it.product(classes[0], classes[1]))\n",
      "    len_c = len(comb_c_1) + len(comb_c_2)\n",
      "    len_f = len(prod_f)\n",
      "    \n",
      "    e_g = np.zeros(n_genes)\n",
      "    for g in range(0, n_genes):\n",
      "        e_g[g] = 1./len_c*(np.sum(map(lambda (i,j): np.sqrt((g_exp[g][i] - g_exp[g][j])**2), comb_c_1)) + \\\n",
      "                            np.sum(map(lambda (i,j): np.sqrt((g_exp[g][i] - g_exp[g][j])**2), comb_c_2))) \\\n",
      "               - 1./len_f*np.sum(map(lambda (i,j): np.sqrt((g_exp[g][i] - g_exp[g][j])**2), prod_f)) \n",
      "    \n",
      "    return e_g"
     ],
     "language": "python",
     "metadata": {},
     "outputs": [],
     "prompt_number": 6
    },
    {
     "cell_type": "code",
     "collapsed": false,
     "input": [
      "# reescala os dados para obter media zero e variancia um nas linhas\n",
      "def z_transform(x):  \n",
      "    m = np.mean(x,1).reshape(len(x),1)\n",
      "    s = np.std(x,1).reshape(len(x),1)\n",
      "    c = shape(x)[1]\n",
      "    return (x - multiply(m, np.ones((1,c))))/multiply(s,np.ones((1,c)))"
     ],
     "language": "python",
     "metadata": {},
     "outputs": [],
     "prompt_number": 7
    },
    {
     "cell_type": "code",
     "collapsed": false,
     "input": [
      "# obtem overlap m\u00e9dio, dado uma matriz f dos indices dos genes por ordem de relevancia\n",
      "def mean_overlap(f,ntg):\n",
      "    s = shape(f)\n",
      "    comb=list(it.combinations(range(0,s[2]),2))\n",
      "    o = map(lambda k:mean(map(lambda (i,j): \n",
      "            len(set(f[k,range(0,ntg),i]).intersection(set(f[k,range(0,ntg),j]))),comb))/ntg, range(0,s[0]))\n",
      "    return o"
     ],
     "language": "python",
     "metadata": {},
     "outputs": [],
     "prompt_number": 8
    },
    {
     "cell_type": "code",
     "collapsed": false,
     "input": [
      "all_exp = range(0,24)    # indice dos experimentos na condi\u00e7\u00e3o ALL\n",
      "aml_exp = range(24,52)   # indice dos experimentos na condi\u00e7\u00e3o AML\n",
      "n_genes = 12626\n",
      "n_comb  = 4"
     ],
     "language": "python",
     "metadata": {},
     "outputs": [],
     "prompt_number": 9
    },
    {
     "cell_type": "code",
     "collapsed": false,
     "input": [
      "def getting_relevant_genes(nc):\n",
      "    global i_comb\n",
      "    i_comb = nc+1\n",
      "    \n",
      "    %R -i i_comb pD = ReadAffy(filenames=fn[sample_exp[i_comb,]+1],celfile.path=celpath)  # lendo os dados crus de microarranjos\n",
      "    %R pDn = normalize.AffyBatch.quantiles(pD)                                  # normaliza\u00e7\u00e3o \n",
      "    \n",
      "    %R g_names=geneNames(pDn)\n",
      "    %R p_names=probeNames(pDn)\n",
      "    %Rpull g_names p_names\n",
      " \n",
      "    %R E=exprs(rma(pD,verbose=FALSE))                            # preprocessamento usando RMA\n",
      "    Erma = %Rget E\n",
      "\n",
      "    I = %R pm(pDn,g_names)                            # matriz de dados de intensidade normalizadas\n",
      "    Iz = z_transform(I)                                          # dados escalados para m\u00e9dia zero e variancia um \n",
      "\n",
      "    %R -i k -i n_genes sam_out=(summary(sam(E,c(rep(0,k),rep(1,k))),0.01))@mat.sig[1:n_genes,][[1]]  # metodo SAM\n",
      "    isam = %Rget (sam_out-1)        \n",
      "\n",
      "    f[0,:,nc] = ttest_func(Erma[:,range(0,k)],Erma[:,range(k,2*k)])\n",
      "    f[1,:,nc] = isam\n",
      "    f[2,:,nc] = geo_approach(Iz,g_names,p_names)\n",
      "    return"
     ],
     "language": "python",
     "metadata": {},
     "outputs": [],
     "prompt_number": 10
    },
    {
     "cell_type": "code",
     "collapsed": false,
     "input": [
      "rg = range(5,10)            \n",
      "o_mean = np.zeros((3,len(rg)))            # overlap m\u00e9dio para cada teste e cada tamanho de amostras\n",
      "for k in rg:   # numero de experimentos em cada condi\u00e7\u00e3o\n",
      "    f = np.zeros((3,n_genes,n_comb))      # matriz com os indices dos genes por ordem de relevancia.\n",
      "    sample_exp=np.zeros((n_comb,2*k))\n",
      "    for i in range(0,n_comb):\n",
      "        sample_exp[i,:]=r_[random.sample(all_exp,k),random.sample(aml_exp,k)]\n",
      "    %Rpush sample_exp \n",
      "    \n",
      "    map(getting_relevant_genes,range(0,n_comb))\n",
      "\n",
      "    o_mean[:,k-rg[0]] = mean_overlap(f,100)  # overlap medio\n",
      "        \n",
      "    print(k,o_mean[:,k-rg[0]])            "
     ],
     "language": "python",
     "metadata": {},
     "outputs": [
      {
       "output_type": "display_data",
       "text": [
        "Loading required package: AnnotationDbi\n",
        "\n"
       ]
      },
      {
       "output_type": "display_data",
       "text": [
        "\n",
        "We're doing 252 complete permutations\n",
        "and randomly select 100 of them.\n",
        "\n"
       ]
      },
      {
       "output_type": "display_data",
       "text": [
        "\n",
        "We're doing 252 complete permutations\n",
        "and randomly select 100 of them.\n",
        "\n"
       ]
      },
      {
       "output_type": "display_data",
       "text": [
        "\n",
        "We're doing 252 complete permutations\n",
        "and randomly select 100 of them.\n",
        "\n"
       ]
      },
      {
       "output_type": "display_data",
       "text": [
        "\n",
        "We're doing 252 complete permutations\n",
        "and randomly select 100 of them.\n",
        "\n"
       ]
      },
      {
       "output_type": "stream",
       "stream": "stdout",
       "text": [
        "(5, array([ 0.21333333,  0.21333333,  0.45      ]))\n"
       ]
      },
      {
       "output_type": "display_data",
       "text": [
        "\n",
        "We're doing 924 complete permutations\n",
        "and randomly select 100 of them.\n",
        "\n"
       ]
      },
      {
       "output_type": "display_data",
       "text": [
        "\n",
        "We're doing 924 complete permutations\n",
        "and randomly select 100 of them.\n",
        "\n"
       ]
      },
      {
       "ename": "KeyboardInterrupt",
       "evalue": "",
       "output_type": "pyerr",
       "traceback": [
        "\u001b[1;31m---------------------------------------------------------------------------\u001b[0m\n\u001b[1;31mKeyboardInterrupt\u001b[0m                         Traceback (most recent call last)",
        "\u001b[1;32m<ipython-input-11-6cc61e560adb>\u001b[0m in \u001b[0;36m<module>\u001b[1;34m()\u001b[0m\n\u001b[0;32m      8\u001b[0m     \u001b[0mget_ipython\u001b[0m\u001b[1;33m(\u001b[0m\u001b[1;33m)\u001b[0m\u001b[1;33m.\u001b[0m\u001b[0mmagic\u001b[0m\u001b[1;33m(\u001b[0m\u001b[1;34mu'Rpush sample_exp'\u001b[0m\u001b[1;33m)\u001b[0m\u001b[1;33m\u001b[0m\u001b[0m\n\u001b[0;32m      9\u001b[0m \u001b[1;33m\u001b[0m\u001b[0m\n\u001b[1;32m---> 10\u001b[1;33m     \u001b[0mmap\u001b[0m\u001b[1;33m(\u001b[0m\u001b[0mgetting_relevant_genes\u001b[0m\u001b[1;33m,\u001b[0m\u001b[0mrange\u001b[0m\u001b[1;33m(\u001b[0m\u001b[1;36m0\u001b[0m\u001b[1;33m,\u001b[0m\u001b[0mn_comb\u001b[0m\u001b[1;33m)\u001b[0m\u001b[1;33m)\u001b[0m\u001b[1;33m\u001b[0m\u001b[0m\n\u001b[0m\u001b[0;32m     11\u001b[0m \u001b[1;33m\u001b[0m\u001b[0m\n\u001b[0;32m     12\u001b[0m     \u001b[0mo_mean\u001b[0m\u001b[1;33m[\u001b[0m\u001b[1;33m:\u001b[0m\u001b[1;33m,\u001b[0m\u001b[0mk\u001b[0m\u001b[1;33m-\u001b[0m\u001b[0mrg\u001b[0m\u001b[1;33m[\u001b[0m\u001b[1;36m0\u001b[0m\u001b[1;33m]\u001b[0m\u001b[1;33m]\u001b[0m \u001b[1;33m=\u001b[0m \u001b[0mmean_overlap\u001b[0m\u001b[1;33m(\u001b[0m\u001b[0mf\u001b[0m\u001b[1;33m,\u001b[0m\u001b[1;36m100\u001b[0m\u001b[1;33m)\u001b[0m  \u001b[1;31m# overlap medio\u001b[0m\u001b[1;33m\u001b[0m\u001b[0m\n",
        "\u001b[1;32m<ipython-input-10-793d1d6712fd>\u001b[0m in \u001b[0;36mgetting_relevant_genes\u001b[1;34m(nc)\u001b[0m\n\u001b[0;32m     21\u001b[0m     \u001b[0mf\u001b[0m\u001b[1;33m[\u001b[0m\u001b[1;36m0\u001b[0m\u001b[1;33m,\u001b[0m\u001b[1;33m:\u001b[0m\u001b[1;33m,\u001b[0m\u001b[0mnc\u001b[0m\u001b[1;33m]\u001b[0m \u001b[1;33m=\u001b[0m \u001b[0mttest_func\u001b[0m\u001b[1;33m(\u001b[0m\u001b[0mErma\u001b[0m\u001b[1;33m[\u001b[0m\u001b[1;33m:\u001b[0m\u001b[1;33m,\u001b[0m\u001b[0mrange\u001b[0m\u001b[1;33m(\u001b[0m\u001b[1;36m0\u001b[0m\u001b[1;33m,\u001b[0m\u001b[0mk\u001b[0m\u001b[1;33m)\u001b[0m\u001b[1;33m]\u001b[0m\u001b[1;33m,\u001b[0m\u001b[0mErma\u001b[0m\u001b[1;33m[\u001b[0m\u001b[1;33m:\u001b[0m\u001b[1;33m,\u001b[0m\u001b[0mrange\u001b[0m\u001b[1;33m(\u001b[0m\u001b[0mk\u001b[0m\u001b[1;33m,\u001b[0m\u001b[1;36m2\u001b[0m\u001b[1;33m*\u001b[0m\u001b[0mk\u001b[0m\u001b[1;33m)\u001b[0m\u001b[1;33m]\u001b[0m\u001b[1;33m)\u001b[0m\u001b[1;33m\u001b[0m\u001b[0m\n\u001b[0;32m     22\u001b[0m     \u001b[0mf\u001b[0m\u001b[1;33m[\u001b[0m\u001b[1;36m1\u001b[0m\u001b[1;33m,\u001b[0m\u001b[1;33m:\u001b[0m\u001b[1;33m,\u001b[0m\u001b[0mnc\u001b[0m\u001b[1;33m]\u001b[0m \u001b[1;33m=\u001b[0m \u001b[0misam\u001b[0m\u001b[1;33m\u001b[0m\u001b[0m\n\u001b[1;32m---> 23\u001b[1;33m     \u001b[0mf\u001b[0m\u001b[1;33m[\u001b[0m\u001b[1;36m2\u001b[0m\u001b[1;33m,\u001b[0m\u001b[1;33m:\u001b[0m\u001b[1;33m,\u001b[0m\u001b[0mnc\u001b[0m\u001b[1;33m]\u001b[0m \u001b[1;33m=\u001b[0m \u001b[0mgeo_approach\u001b[0m\u001b[1;33m(\u001b[0m\u001b[0mIz\u001b[0m\u001b[1;33m,\u001b[0m\u001b[0mg_names\u001b[0m\u001b[1;33m,\u001b[0m\u001b[0mp_names\u001b[0m\u001b[1;33m)\u001b[0m\u001b[1;33m\u001b[0m\u001b[0m\n\u001b[0m\u001b[0;32m     24\u001b[0m     \u001b[1;32mreturn\u001b[0m\u001b[1;33m\u001b[0m\u001b[0m\n",
        "\u001b[1;32m<ipython-input-5-326b6e57903d>\u001b[0m in \u001b[0;36mgeo_approach\u001b[1;34m(I, g_names, p_names)\u001b[0m\n\u001b[0;32m      5\u001b[0m     \u001b[0mne\u001b[0m \u001b[1;33m=\u001b[0m \u001b[0mshape\u001b[0m\u001b[1;33m(\u001b[0m\u001b[0mI\u001b[0m\u001b[1;33m)\u001b[0m\u001b[1;33m[\u001b[0m\u001b[1;36m1\u001b[0m\u001b[1;33m]\u001b[0m\u001b[1;33m\u001b[0m\u001b[0m\n\u001b[0;32m      6\u001b[0m \u001b[1;33m\u001b[0m\u001b[0m\n\u001b[1;32m----> 7\u001b[1;33m     \u001b[0me_gj\u001b[0m \u001b[1;33m=\u001b[0m \u001b[0mcalc_metric_tensor\u001b[0m\u001b[1;33m(\u001b[0m\u001b[0mI\u001b[0m\u001b[1;33m,\u001b[0m\u001b[1;33m[\u001b[0m\u001b[0mrange\u001b[0m\u001b[1;33m(\u001b[0m\u001b[1;36m0\u001b[0m\u001b[1;33m,\u001b[0m\u001b[0mne\u001b[0m\u001b[1;33m/\u001b[0m\u001b[1;36m2\u001b[0m\u001b[1;33m)\u001b[0m\u001b[1;33m,\u001b[0m\u001b[0mrange\u001b[0m\u001b[1;33m(\u001b[0m\u001b[0mne\u001b[0m\u001b[1;33m/\u001b[0m\u001b[1;36m2\u001b[0m\u001b[1;33m,\u001b[0m\u001b[0mne\u001b[0m\u001b[1;33m)\u001b[0m\u001b[1;33m]\u001b[0m\u001b[1;33m)\u001b[0m\u001b[1;33m\u001b[0m\u001b[0m\n\u001b[0m\u001b[0;32m      8\u001b[0m     \u001b[0mc_old\u001b[0m \u001b[1;33m=\u001b[0m \u001b[1;36m0\u001b[0m\u001b[1;33m\u001b[0m\u001b[0m\n\u001b[0;32m      9\u001b[0m     \u001b[1;32mfor\u001b[0m \u001b[0mg\u001b[0m \u001b[1;32min\u001b[0m \u001b[0mrange\u001b[0m\u001b[1;33m(\u001b[0m\u001b[1;36m0\u001b[0m\u001b[1;33m,\u001b[0m \u001b[0mn_genes\u001b[0m\u001b[1;33m)\u001b[0m\u001b[1;33m:\u001b[0m\u001b[1;33m\u001b[0m\u001b[0m\n",
        "\u001b[1;32m<ipython-input-6-b8bbc174b782>\u001b[0m in \u001b[0;36mcalc_metric_tensor\u001b[1;34m(g_exp, classes)\u001b[0m\n\u001b[0;32m     20\u001b[0m         e_g[g] = 1./len_c*(np.sum(map(lambda (i,j): np.sqrt((g_exp[g][i] - g_exp[g][j])**2), comb_c_1)) + \\\n\u001b[0;32m     21\u001b[0m                             np.sum(map(lambda (i,j): np.sqrt((g_exp[g][i] - g_exp[g][j])**2), comb_c_2))) \\\n\u001b[1;32m---> 22\u001b[1;33m                \u001b[1;33m-\u001b[0m \u001b[1;36m1.\u001b[0m\u001b[1;33m/\u001b[0m\u001b[0mlen_f\u001b[0m\u001b[1;33m*\u001b[0m\u001b[0mnp\u001b[0m\u001b[1;33m.\u001b[0m\u001b[0msum\u001b[0m\u001b[1;33m(\u001b[0m\u001b[0mmap\u001b[0m\u001b[1;33m(\u001b[0m\u001b[1;32mlambda\u001b[0m \u001b[1;33m(\u001b[0m\u001b[0mi\u001b[0m\u001b[1;33m,\u001b[0m\u001b[0mj\u001b[0m\u001b[1;33m)\u001b[0m\u001b[1;33m:\u001b[0m \u001b[0mnp\u001b[0m\u001b[1;33m.\u001b[0m\u001b[0msqrt\u001b[0m\u001b[1;33m(\u001b[0m\u001b[1;33m(\u001b[0m\u001b[0mg_exp\u001b[0m\u001b[1;33m[\u001b[0m\u001b[0mg\u001b[0m\u001b[1;33m]\u001b[0m\u001b[1;33m[\u001b[0m\u001b[0mi\u001b[0m\u001b[1;33m]\u001b[0m \u001b[1;33m-\u001b[0m \u001b[0mg_exp\u001b[0m\u001b[1;33m[\u001b[0m\u001b[0mg\u001b[0m\u001b[1;33m]\u001b[0m\u001b[1;33m[\u001b[0m\u001b[0mj\u001b[0m\u001b[1;33m]\u001b[0m\u001b[1;33m)\u001b[0m\u001b[1;33m**\u001b[0m\u001b[1;36m2\u001b[0m\u001b[1;33m)\u001b[0m\u001b[1;33m,\u001b[0m \u001b[0mprod_f\u001b[0m\u001b[1;33m)\u001b[0m\u001b[1;33m)\u001b[0m\u001b[1;33m\u001b[0m\u001b[0m\n\u001b[0m\u001b[0;32m     23\u001b[0m \u001b[1;33m\u001b[0m\u001b[0m\n\u001b[0;32m     24\u001b[0m     \u001b[1;32mreturn\u001b[0m \u001b[0me_g\u001b[0m\u001b[1;33m\u001b[0m\u001b[0m\n",
        "\u001b[1;32m<ipython-input-6-b8bbc174b782>\u001b[0m in \u001b[0;36m<lambda>\u001b[1;34m((i, j))\u001b[0m\n\u001b[0;32m     20\u001b[0m         e_g[g] = 1./len_c*(np.sum(map(lambda (i,j): np.sqrt((g_exp[g][i] - g_exp[g][j])**2), comb_c_1)) + \\\n\u001b[0;32m     21\u001b[0m                             np.sum(map(lambda (i,j): np.sqrt((g_exp[g][i] - g_exp[g][j])**2), comb_c_2))) \\\n\u001b[1;32m---> 22\u001b[1;33m                \u001b[1;33m-\u001b[0m \u001b[1;36m1.\u001b[0m\u001b[1;33m/\u001b[0m\u001b[0mlen_f\u001b[0m\u001b[1;33m*\u001b[0m\u001b[0mnp\u001b[0m\u001b[1;33m.\u001b[0m\u001b[0msum\u001b[0m\u001b[1;33m(\u001b[0m\u001b[0mmap\u001b[0m\u001b[1;33m(\u001b[0m\u001b[1;32mlambda\u001b[0m \u001b[1;33m(\u001b[0m\u001b[0mi\u001b[0m\u001b[1;33m,\u001b[0m\u001b[0mj\u001b[0m\u001b[1;33m)\u001b[0m\u001b[1;33m:\u001b[0m \u001b[0mnp\u001b[0m\u001b[1;33m.\u001b[0m\u001b[0msqrt\u001b[0m\u001b[1;33m(\u001b[0m\u001b[1;33m(\u001b[0m\u001b[0mg_exp\u001b[0m\u001b[1;33m[\u001b[0m\u001b[0mg\u001b[0m\u001b[1;33m]\u001b[0m\u001b[1;33m[\u001b[0m\u001b[0mi\u001b[0m\u001b[1;33m]\u001b[0m \u001b[1;33m-\u001b[0m \u001b[0mg_exp\u001b[0m\u001b[1;33m[\u001b[0m\u001b[0mg\u001b[0m\u001b[1;33m]\u001b[0m\u001b[1;33m[\u001b[0m\u001b[0mj\u001b[0m\u001b[1;33m]\u001b[0m\u001b[1;33m)\u001b[0m\u001b[1;33m**\u001b[0m\u001b[1;36m2\u001b[0m\u001b[1;33m)\u001b[0m\u001b[1;33m,\u001b[0m \u001b[0mprod_f\u001b[0m\u001b[1;33m)\u001b[0m\u001b[1;33m)\u001b[0m\u001b[1;33m\u001b[0m\u001b[0m\n\u001b[0m\u001b[0;32m     23\u001b[0m \u001b[1;33m\u001b[0m\u001b[0m\n\u001b[0;32m     24\u001b[0m     \u001b[1;32mreturn\u001b[0m \u001b[0me_g\u001b[0m\u001b[1;33m\u001b[0m\u001b[0m\n",
        "\u001b[1;31mKeyboardInterrupt\u001b[0m: "
       ]
      }
     ],
     "prompt_number": 11
    },
    {
     "cell_type": "code",
     "collapsed": false,
     "input": [
      "pylab.plot(rg,o_mean[0,:],'bo-')\n",
      "pylab.plot(rg,o_mean[1,:],'k>-')\n",
      "pylab.plot(rg,o_mean[2,:],'rs-')\n",
      "pylab.xlabel('sample size')\n",
      "pylab.ylabel('average overlap')\n",
      "#pylab.title('ROC curve')\n",
      "#pylab.xlim(0,100)\n",
      "#pylab.ylim(0,0.9)\n",
      "pylab.grid(True)\n",
      "#pylab.savefig('simple_plot')\n",
      "#pylab.show()"
     ],
     "language": "python",
     "metadata": {},
     "outputs": []
    },
    {
     "cell_type": "code",
     "collapsed": false,
     "input": [],
     "language": "python",
     "metadata": {},
     "outputs": []
    }
   ],
   "metadata": {}
  }
 ]
}