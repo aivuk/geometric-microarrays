{
 "metadata": {
  "name": "Geometric approach for gene selection"
 },
 "nbformat": 3,
 "nbformat_minor": 0,
 "worksheets": [
  {
   "cells": [
    {
     "cell_type": "markdown",
     "metadata": {},
     "source": [
      "Geometric approach for gene selection\n",
      "=====================================\n",
      "\n",
      "[Geometric approach for gene selection - Marcelo Boareto](files/GeometricApproachMicroarrays.pdf)\n",
      "\n",
      "$ D_{ij}^2 = \\sum_g w_g \\lVert x_{ig} - x_{jg}\\rVert$\n",
      "\n",
      "$ \\sum_g w_g = 1 $\n",
      "\n",
      "$ E = \\frac{1}{n_c} \\sum\\limits_{ij \\in C} D_{ij}^2  - \\frac{1}{n_f} \\sum\\limits_{ij \\in F} D_{ij}^2 $\n",
      "\n",
      "E com isso teremos:\n",
      "\n",
      "$ w_g = \\frac{-\\epsilon_g}{\\sqrt{\\sum_g \\epsilon_g^2}} $\n",
      "\n",
      "com $ \\epsilon_g = \\frac{1}{n_c} \\sum\\limits_{ij \\in C}  \\lVert x_{ig} - x_{jg}\\rVert  - \\frac{1}{n_f} \\sum\\limits_{ij \\in F} \\lVert x_{ig} - x_{jg}\\rVert $ .\n",
      "\n",
      "Primeiro vamos importar algumas coisas interessantes como Numpy e Pandas:\n"
     ]
    },
    {
     "cell_type": "code",
     "collapsed": false,
     "input": [
      "import numpy as np\n",
      "import pandas as pd\n",
      "import itertools as i"
     ],
     "language": "python",
     "metadata": {},
     "outputs": [],
     "prompt_number": 2
    },
    {
     "cell_type": "markdown",
     "metadata": {},
     "source": [
      "Dados retirados do NCBI: http://www.ncbi.nlm.nih.gov/geo/query/acc.cgi?acc=GSE22309"
     ]
    },
    {
     "cell_type": "code",
     "collapsed": false,
     "input": [
      "genes_expression = pd.read_csv('data/GSE22309_MAS5-processed-data.txt', delimiter='\\t')"
     ],
     "language": "python",
     "metadata": {},
     "outputs": [],
     "prompt_number": 6
    },
    {
     "cell_type": "markdown",
     "metadata": {},
     "source": [
      "Logo abaixo eu carreguei o arquivo como um DataFrame, an\u00e1logo aos DataFrames do R, mas depois mudei de id\u00e9ia e achei melhor testar o c\u00f3digo com uma matriz qualquer rand\u00f4mica."
     ]
    },
    {
     "cell_type": "code",
     "collapsed": false,
     "input": [
      "ge = pd.DataFrame(genes_expression)\n",
      "ge.columns"
     ],
     "language": "python",
     "metadata": {},
     "outputs": [
      {
       "output_type": "pyout",
       "prompt_number": 7,
       "text": [
        "Index([ID_REF, a10a.000606jd.2.SkMNor907.CEL, a10a.000606jd.2.SkMNor908.CEL, a10a.000606jd.2.SkMNor911.CEL, Run1.a10a.000606jd.2.SkMNor912.CEL, Run1.a10a.000607jd.2.SkMNor915.CEL, Run1.a10a.000607jd.2.SkMNor916.CEL, Run1.a10a.000607jd.2.SkMNor917.CEL, Run1.a10a.000607jd.2.SkMNor918.CEL, Run1.a10a.000607jd.2.SkMNor919.CEL, Run1.a10a.000607jd.2.SkMNor920.CEL, Run1.a10a.000607jd.2.SkMNor921.CEL, Run1.a10a.000607jd.2.SkMNor922.CEL, Run1.a10a.000608jd.2.SkMNor923.CEL, Run1.a10a.000608jd.2.SkMNor924.CEL, Run1.a10a.000608jd.2.SkMNor925.CEL, Run1.a10a.000608jd.2.SkMNor926.CEL, Run1.a10a.000609jd.2.SkMNor909.CEL, Run1.a10a.000609jd.2.SkMNor910.CEL, Run1.a10a.000609jd.2.SkMNor913.CEL, Run1.a10a.000609jd.2.SkMNor914.CEL, Run7.aUa.001206d.SkMInS1072D.CEL, Run7.aUa.001206d.SkMInS1073D.CEL, Run8.aUa.010615d.SkMInS1074D.CEL, Run7.aUa.001206d.SkMInS1075D.CEL, Run8.aUa.010615d.SkMInS1076D.CEL, Run7.aUa.001206d.SkMInS1077D.CEL, Run8.aUa.010615d.SkMInS1078D.CEL, Run7.aUa.001206d.SkMInS1079D.CEL, Run8.aUa.010615d.SkMInS1080D.CEL, Run7.aUa.001206d.SkMInS1081D.CEL, Run8.aUa.010615d.SkMInS1082D.CEL, Run7.aUa.001206d.SkMInS1083D.CEL, Run8.aUa.010615d.SkMInS1084D.CEL, Run7.aUa.001206d.SkMInS1085D.CEL, Run8.aUa.010615d.SkMInS1086D.CEL, Run2.aUa.001206d.SkMInS1087D.CEL, Run2.aUa.001206d.SkMInS1088D.CEL, Run2.aUa.001206d.SkMInS1089D.CEL, Run2.aUa.001206d.SkMInS1090D.CEL, Run7.aUa.001206d.SkMInS1091D.CEL], dtype=object)"
       ]
      }
     ],
     "prompt_number": 7
    },
    {
     "cell_type": "code",
     "collapsed": false,
     "input": [
      "# Apenas testando algumas fun\u00e7\u00f5es do iterator\n",
      "l = [1,2,3]\n",
      "list(i.combinations(l, 2))\n"
     ],
     "language": "python",
     "metadata": {},
     "outputs": [
      {
       "output_type": "pyout",
       "prompt_number": 26,
       "text": [
        "[(1, 2), (1, 3), (2, 3)]"
       ]
      }
     ],
     "prompt_number": 26
    },
    {
     "cell_type": "code",
     "collapsed": false,
     "input": [
      "r = [1,3,4]; s = [5,4,6]\n",
      "list(i.product(r,s))"
     ],
     "language": "python",
     "metadata": {},
     "outputs": [
      {
       "output_type": "pyout",
       "prompt_number": 13,
       "text": [
        "[(1, 5), (1, 4), (1, 6), (3, 5), (3, 4), (3, 6), (4, 5), (4, 4), (4, 6)]"
       ]
      }
     ],
     "prompt_number": 13
    },
    {
     "cell_type": "markdown",
     "metadata": {},
     "source": [
      "Bom, vou fazer primeiro uma fun\u00e7\u00e3o que recebe uma matriz bidimensional das express\u00f5es g\u00eanicas, uma experimento por linha e um dicion\u00e1rio contendo os \u00edndices dos genes pertencentes a mesma classe de um determinado gene."
     ]
    },
    {
     "cell_type": "code",
     "collapsed": false,
     "input": [
      "%load mageom.py"
     ],
     "language": "python",
     "metadata": {},
     "outputs": [],
     "prompt_number": 80
    },
    {
     "cell_type": "code",
     "collapsed": false,
     "input": [
      "import numpy as np\n",
      "import itertools as i\n",
      "\n",
      "def calc_metric_tensor(g_exp, classes):\n",
      "    \"\"\"\n",
      "    @type g_exp: double dimensional matrix\n",
      "    @param g_exp: one experiment per line and one gene per column\n",
      "    @type classes: list with exactly two lists\n",
      "    @param classes: a list with two element, first a list with \n",
      "    @rtype: one dimensional vector \n",
      "    @return: the metric tensor\n",
      "    \"\"\"\n",
      "    comb_c = np.array(list(i.combinations(classes[0], 2)) + list(i.combinations(classes[1], 2)))\n",
      "    prod_f = np.array(list(i.product(classes[0], classes[1])))\n",
      "    \n",
      "    e_g = 1./len(comb_c)*np.sum(np.abs(g_exp[comb_c[:,0],:] - g_exp[comb_c[:,1],:]), axis=0) \\\n",
      "        - 1./len(prod_f)*np.sum(np.abs(g_exp[prod_f[:,0],:] - g_exp[prod_f[:,1],:]), axis=0) \n",
      "\n",
      "    return e_g\n"
     ],
     "language": "python",
     "metadata": {},
     "outputs": [],
     "prompt_number": 81
    },
    {
     "cell_type": "code",
     "collapsed": false,
     "input": [
      "gr = np.random.randn(100, 23000)\n",
      "l = range(0,100)\n",
      "np.random.shuffle(l)\n",
      "%time gtest = calc_metric_tensor(gr, [l[0:50], l[50:]])\n"
     ],
     "language": "python",
     "metadata": {},
     "outputs": [
      {
       "output_type": "stream",
       "stream": "stdout",
       "text": [
        "CPU times: user 6.06 s, sys: 1.98 s, total: 8.03 s\n",
        "Wall time: 8.37 s\n"
       ]
      }
     ],
     "prompt_number": 82
    },
    {
     "cell_type": "markdown",
     "metadata": {},
     "source": [
      "Ok, o treco t\u00e1 um pouco lento, mas nem me preocupei em otimizar no momento. Nada de tentar usar Cython ou fazer um uso mais inteligente do Numpy. De qualquer forma acho que para testes est\u00e1 aceit\u00e1vel"
     ]
    },
    {
     "cell_type": "code",
     "collapsed": false,
     "input": [
      "print len(gtest), gtest"
     ],
     "language": "python",
     "metadata": {},
     "outputs": [
      {
       "output_type": "stream",
       "stream": "stdout",
       "text": [
        "23000 [ 0.01917957 -0.00429667  0.01132481 ...,  0.01491724  0.00941674\n",
        "  0.00099245]"
       ]
      },
      {
       "output_type": "stream",
       "stream": "stdout",
       "text": [
        "\n"
       ]
      }
     ],
     "prompt_number": 83
    },
    {
     "cell_type": "code",
     "collapsed": false,
     "input": [
      "hist(gtest,bins=50)"
     ],
     "language": "python",
     "metadata": {},
     "outputs": [
      {
       "output_type": "pyout",
       "prompt_number": 84,
       "text": [
        "(array([   1,    0,    0,    0,    0,    0,    0,    1,    0,    0,    0,\n",
        "          2,    0,    0,    0,    0,    2,    2,    5,    5,    4,    3,\n",
        "          7,    8,   18,   22,   15,   13,   29,   35,   49,   56,   75,\n",
        "         78,  125,  129,  196,  252,  311,  421,  578,  716, 1056, 1389,\n",
        "       1916, 2615, 3876, 4765, 3723,  502]),\n",
        " array([-0.22086487, -0.21598682, -0.21110877, -0.20623072, -0.20135267,\n",
        "       -0.19647462, -0.19159657, -0.18671852, -0.18184047, -0.17696242,\n",
        "       -0.17208437, -0.16720632, -0.16232827, -0.15745023, -0.15257218,\n",
        "       -0.14769413, -0.14281608, -0.13793803, -0.13305998, -0.12818193,\n",
        "       -0.12330388, -0.11842583, -0.11354778, -0.10866973, -0.10379168,\n",
        "       -0.09891363, -0.09403558, -0.08915753, -0.08427948, -0.07940143,\n",
        "       -0.07452339, -0.06964534, -0.06476729, -0.05988924, -0.05501119,\n",
        "       -0.05013314, -0.04525509, -0.04037704, -0.03549899, -0.03062094,\n",
        "       -0.02574289, -0.02086484, -0.01598679, -0.01110874, -0.00623069,\n",
        "       -0.00135264,  0.00352541,  0.00840345,  0.0132815 ,  0.01815955,\n",
        "        0.0230376 ]),\n",
        " <a list of 50 Patch objects>)"
       ]
      },
      {
       "output_type": "display_data",
       "png": "[encoded data removed]",
       "text": [
        "<matplotlib.figure.Figure at 0x4e37d90>"
       ]
      }
     ],
     "prompt_number": 84
    },
    {
     "cell_type": "code",
     "collapsed": false,
     "input": [
      "!gcc -c -Wall -O2 -Wall -ansi -pedantic -fPIC -o beta_g.o beta_g.c\n",
      "!gcc -o libbetag.so -shared beta_g.o"
     ],
     "language": "python",
     "metadata": {},
     "outputs": [],
     "prompt_number": 6
    },
    {
     "cell_type": "code",
     "collapsed": false,
     "input": [
      "!cat beta_g.c"
     ],
     "language": "python",
     "metadata": {},
     "outputs": [
      {
       "output_type": "stream",
       "stream": "stdout",
       "text": [
        "/*#include <stdlib.h>*/\r\n",
        "#include <math.h>\r\n",
        "\r\n",
        "void dist_beta(double **x, double **y, int genes, int nsamplex, int nsampley, double *beta_g) {\r\n",
        "    int g; \r\n",
        "    for ( g = 0; g < genes; g++) {\r\n",
        "        double x = 0, y = 0, z = 0;\r\n",
        "        int i, j;\r\n",
        "\r\n",
        "          for ( i = 0; i < nsamplex - 1; i++) {\r\n",
        "              for ( j = i + 1; j < nsamplex; j++) {\r\n",
        "                x += (X[g][i] - X[g][j])*(X[g][i] - X[g][j]);\r\n",
        "              }\r\n",
        "          }\r\n",
        "          x = x /( nsamplex * ( nsamplex - 1. ) );\r\n",
        "  \r\n",
        "          for ( i = 0; i < nsampley - 1; i++) {\r\n",
        "              for ( j = i + 1; j < nsampley; j++) {\r\n",
        "                  y += (Y[g][i] - Y[g][j])*(Y[g][i] - Y[g][j]);\r\n",
        "              }\r\n",
        "          }\r\n",
        "          y = y /( nsampley * ( nsampley - 1. ) );\r\n",
        "  \r\n",
        "          for ( i = 0; i < nsampley; i++) {\r\n",
        "              for ( j = 0; j < nsamplex; j++) {\r\n",
        "                  z += (Y[g][i] - X[g][j])*(Y[g][i] - X[g][j]);\r\n",
        "              }\r\n",
        "          }\r\n",
        "          z = z / ( nsamplex * nsampley );\r\n",
        "\r\n",
        "        beta_g[g] = x + y - z;\r\n",
        "    }\r\n",
        "\r\n",
        "}\r\n"
       ]
      }
     ],
     "prompt_number": 76
    },
    {
     "cell_type": "code",
     "collapsed": false,
     "input": [
      "%%file betag.py\n",
      "\n",
      "import numpy\n",
      "import ctypes\n",
      "\n",
      "_libbetag = numpy.ctypeslib.load_library('libbetag', '.')\n",
      "\n",
      "_libbetag.dist_beta.argtypes = [numpy.ctypeslib.ndpointer(dtype=numpy.float, ndim=2), \n",
      "                                    numpy.ctypeslib.ndpointer(dtype=numpy.float, ndim=2),\n",
      "                                    ctypes.c_int,\n",
      "                                    ctypes.c_int,\n",
      "                                    ctypes.c_int,\n",
      "                                    numpy.ctypeslib.ndpointer(dtype=numpy.float)]\n",
      "_libbetag.dist_beta.restype  =  ctypes.c_void_p\n",
      "\n",
      "def betag(x, y, genes):\n",
      "    xc = numpy.asarray(x, dtype=numpy.float)\n",
      "    yc = numpy.asarray(y, dtype=numpy.float)\n",
      "    genesc = numpy.asarray(genes, dtype=numpy.float)\n",
      "    _libbetag.dist_beta(xc, yc, int(len(genes)), int(x.shape[1]), int(y.shape[1]), genesc)\n",
      "    return\n"
     ],
     "language": "python",
     "metadata": {},
     "outputs": [
      {
       "output_type": "stream",
       "stream": "stdout",
       "text": [
        "Overwriting betag.py"
       ]
      },
      {
       "output_type": "stream",
       "stream": "stdout",
       "text": [
        "\n"
       ]
      }
     ],
     "prompt_number": 8
    },
    {
     "cell_type": "code",
     "collapsed": false,
     "input": [
      "import betag"
     ],
     "language": "python",
     "metadata": {},
     "outputs": [],
     "prompt_number": 9
    },
    {
     "cell_type": "code",
     "collapsed": false,
     "input": [
      "x = numpy.random.randn(23000, 200)\n",
      "y = numpy.random.randn(23000, 200)\n",
      "genes = numpy.zeros(23000)"
     ],
     "language": "python",
     "metadata": {},
     "outputs": [],
     "prompt_number": 10
    },
    {
     "cell_type": "code",
     "collapsed": false,
     "input": [
      "betag.betag(x, y, genes)"
     ],
     "language": "python",
     "metadata": {},
     "outputs": [],
     "prompt_number": "*"
    },
    {
     "cell_type": "code",
     "collapsed": false,
     "input": [
      "x =1"
     ],
     "language": "python",
     "metadata": {},
     "outputs": [],
     "prompt_number": "*"
    }
   ],
   "metadata": {}
  }
 ]
}