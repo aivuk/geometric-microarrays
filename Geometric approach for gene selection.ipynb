{
 "metadata": {
  "name": "Geometric approach for gene selection"
 },
 "nbformat": 3,
 "nbformat_minor": 0,
 "worksheets": [
  {
   "cells": [
    {
     "cell_type": "markdown",
     "metadata": {},
     "source": [
      "Geometric approach for gene selection\n",
      "=====================================\n",
      "\n",
      "[Geometric approach for gene selection - Marcelo Boareto](files/GeometricApproachMicroarrays.pdf)\n",
      "\n",
      "$ D_{ij}^2 = \\sum_g w_g \\lVert x_{ig} - x_{jg}\\rVert$\n",
      "\n",
      "$ \\sum_g w_g = 1 $\n",
      "\n",
      "$ E = \\frac{1}{n_c} \\sum\\limits_{ij \\in C} D_{ij}^2  - \\frac{1}{n_f} \\sum\\limits_{ij \\in F} D_{ij}^2 $\n",
      "\n",
      "E com isso teremos:\n",
      "\n",
      "$ w_g = \\frac{-\\epsilon_g}{\\sqrt{\\sum_g \\epsilon_g^2}} $\n",
      "\n",
      "com $ \\epsilon_g = \\frac{1}{n_c} \\sum\\limits_{ij \\in C}  \\lVert x_{ig} - x_{jg}\\rVert  - \\frac{1}{n_f} \\sum\\limits_{ij \\in F} \\lVert x_{ig} - x_{jg}\\rVert $ .\n",
      "\n",
      "Primeiro vamos importar algumas coisas interessantes como Numpy e Pandas:\n"
     ]
    },
    {
     "cell_type": "code",
     "collapsed": false,
     "input": [
      "import numpy as np\n",
      "import pandas as pd\n",
      "import itertools as i"
     ],
     "language": "python",
     "metadata": {},
     "outputs": [],
     "prompt_number": 2
    },
    {
     "cell_type": "markdown",
     "metadata": {},
     "source": [
      "Dados retirados do NCBI: http://www.ncbi.nlm.nih.gov/geo/query/acc.cgi?acc=GSE22309"
     ]
    },
    {
     "cell_type": "code",
     "collapsed": false,
     "input": [
      "genes_expression = pd.read_csv('data/GSE22309_MAS5-processed-data.txt', delimiter='\\t')"
     ],
     "language": "python",
     "metadata": {},
     "outputs": [],
     "prompt_number": 6
    },
    {
     "cell_type": "markdown",
     "metadata": {},
     "source": [
      "Logo abaixo eu carreguei o arquivo como um DataFrame, an\u00e1logo aos DataFrames do R, mas depois mudei de id\u00e9ia e achei melhor testar o c\u00f3digo com uma matriz qualquer rand\u00f4mica."
     ]
    },
    {
     "cell_type": "code",
     "collapsed": false,
     "input": [
      "ge = pd.DataFrame(genes_expression)\n",
      "ge.columns"
     ],
     "language": "python",
     "metadata": {},
     "outputs": [
      {
       "output_type": "pyout",
       "prompt_number": 7,
       "text": [
        "Index([ID_REF, a10a.000606jd.2.SkMNor907.CEL, a10a.000606jd.2.SkMNor908.CEL, a10a.000606jd.2.SkMNor911.CEL, Run1.a10a.000606jd.2.SkMNor912.CEL, Run1.a10a.000607jd.2.SkMNor915.CEL, Run1.a10a.000607jd.2.SkMNor916.CEL, Run1.a10a.000607jd.2.SkMNor917.CEL, Run1.a10a.000607jd.2.SkMNor918.CEL, Run1.a10a.000607jd.2.SkMNor919.CEL, Run1.a10a.000607jd.2.SkMNor920.CEL, Run1.a10a.000607jd.2.SkMNor921.CEL, Run1.a10a.000607jd.2.SkMNor922.CEL, Run1.a10a.000608jd.2.SkMNor923.CEL, Run1.a10a.000608jd.2.SkMNor924.CEL, Run1.a10a.000608jd.2.SkMNor925.CEL, Run1.a10a.000608jd.2.SkMNor926.CEL, Run1.a10a.000609jd.2.SkMNor909.CEL, Run1.a10a.000609jd.2.SkMNor910.CEL, Run1.a10a.000609jd.2.SkMNor913.CEL, Run1.a10a.000609jd.2.SkMNor914.CEL, Run7.aUa.001206d.SkMInS1072D.CEL, Run7.aUa.001206d.SkMInS1073D.CEL, Run8.aUa.010615d.SkMInS1074D.CEL, Run7.aUa.001206d.SkMInS1075D.CEL, Run8.aUa.010615d.SkMInS1076D.CEL, Run7.aUa.001206d.SkMInS1077D.CEL, Run8.aUa.010615d.SkMInS1078D.CEL, Run7.aUa.001206d.SkMInS1079D.CEL, Run8.aUa.010615d.SkMInS1080D.CEL, Run7.aUa.001206d.SkMInS1081D.CEL, Run8.aUa.010615d.SkMInS1082D.CEL, Run7.aUa.001206d.SkMInS1083D.CEL, Run8.aUa.010615d.SkMInS1084D.CEL, Run7.aUa.001206d.SkMInS1085D.CEL, Run8.aUa.010615d.SkMInS1086D.CEL, Run2.aUa.001206d.SkMInS1087D.CEL, Run2.aUa.001206d.SkMInS1088D.CEL, Run2.aUa.001206d.SkMInS1089D.CEL, Run2.aUa.001206d.SkMInS1090D.CEL, Run7.aUa.001206d.SkMInS1091D.CEL], dtype=object)"
       ]
      }
     ],
     "prompt_number": 7
    },
    {
     "cell_type": "code",
     "collapsed": false,
     "input": [
      "# Apenas testando algumas fun\u00e7\u00f5es do iterator\n",
      "l = [1,2,3]\n",
      "list(i.combinations(l, 2))\n"
     ],
     "language": "python",
     "metadata": {},
     "outputs": [
      {
       "output_type": "pyout",
       "prompt_number": 26,
       "text": [
        "[(1, 2), (1, 3), (2, 3)]"
       ]
      }
     ],
     "prompt_number": 26
    },
    {
     "cell_type": "code",
     "collapsed": false,
     "input": [
      "r = [1,3,4]; s = [5,4,6]\n",
      "list(i.product(r,s))"
     ],
     "language": "python",
     "metadata": {},
     "outputs": [
      {
       "output_type": "pyout",
       "prompt_number": 13,
       "text": [
        "[(1, 5), (1, 4), (1, 6), (3, 5), (3, 4), (3, 6), (4, 5), (4, 4), (4, 6)]"
       ]
      }
     ],
     "prompt_number": 13
    },
    {
     "cell_type": "markdown",
     "metadata": {},
     "source": [
      "Bom, vou fazer primeiro uma fun\u00e7\u00e3o que recebe uma matriz bidimensional das express\u00f5es g\u00eanicas, uma experimento por linha e um dicion\u00e1rio contendo os \u00edndices dos genes pertencentes a mesma classe de um determinado gene.\n",
      "\n",
      "Mas antes vou explicar como utilizar \u00edndices de forma inteligente no numpy:"
     ]
    },
    {
     "cell_type": "code",
     "collapsed": false,
     "input": [
      "v = numpy.array(range(0,9)).reshape(3,3)\n",
      "print \"{}\\n\".format(v)\n",
      "\n",
      "# Para pegar as 0 e 2 e somar:\n",
      "#\n",
      "#  | 0 |   | 2 |   |  2 |\n",
      "#  | 3 | + | 5 | = |  8 |\n",
      "#  | 6 |   | 8 |   | 14 |\n",
      "\n",
      "print \"Para pegar as 0 e 2 e somar: {}\".format(v[:,0] + v[:,2])\n",
      "\n",
      "# Agora suponha que gostar\u00edamos de somar todos os elementos\n",
      "# da coluna 0 primeiro e subtrair a soma de todos os elementos da coluna 2:\n",
      "#\n",
      "# | 0 + 3 + 6 | - | 2 + 5 + 8| \n",
      "\n",
      "print np.sum(v[:,0]) - np.sum(v[:,2])\n",
      "\n",
      "# Mas poder\u00edamos ter feito isso de outra forma, passando o axis pro sum:\n",
      "\n",
      "s = np.sum(v, axis=0)\n",
      "print s[0] - s[2]\n",
      "\n",
      "# Agora importante para o nosso caso \u00e9 quando passamos uma lista para os \u00edndices de um array\n",
      "\n",
      "print \"\\nv[[0,2],:] =\\n\\n{}\\n\".format(v[[0,2],:])\n",
      "print \"\\nv[[2,1],:] =\\n\\n{}\\n\".format(v[[2,1],:])\n",
      "\n",
      "# E com isso podemos passar a lista com \u00edndices das linhas indicando os experimentos e depois\n",
      "# somar verticalmente com axis=0\n",
      "\n",
      "print \"v[[0,2],:] - v[[2,1],:] =\\n\\n{}\\n\".format(v[[0,2],:] - v[[2,1],:])\n",
      "print \"\\nE somando as colunas teremos:\\n\\n{}\\n\".format(np.sum(v[[0,2],:] - v[[2,1],:], axis=0))"
     ],
     "language": "python",
     "metadata": {},
     "outputs": [
      {
       "output_type": "stream",
       "stream": "stdout",
       "text": [
        "[[0 1 2]\n",
        " [3 4 5]\n",
        " [6 7 8]]\n",
        "\n",
        "Para pegar as 0 e 2 e somar: [ 2  8 14]\n",
        "-6\n",
        "-6\n",
        "\n",
        "v[[0,2],:] =\n",
        "\n",
        "[[0 1 2]\n",
        " [6 7 8]]\n",
        "\n",
        "\n",
        "v[[2,1],:] =\n",
        "\n",
        "[[6 7 8]\n",
        " [3 4 5]]\n",
        "\n",
        "v[[0,2],:] - v[[2,1],:] =\n",
        "\n",
        "[[-6 -6 -6]\n",
        " [ 3  3  3]]\n",
        "\n",
        "\n",
        "E somando as colunas teremos:\n",
        "\n",
        "[-3 -3 -3]\n",
        "\n"
       ]
      }
     ],
     "prompt_number": 117
    },
    {
     "cell_type": "code",
     "collapsed": false,
     "input": [
      "%load mageom.py"
     ],
     "language": "python",
     "metadata": {},
     "outputs": [],
     "prompt_number": 1
    },
    {
     "cell_type": "code",
     "collapsed": false,
     "input": [
      "import numpy as np\n",
      "\n",
      "a = np.array(range(1,10)).reshape(3,3)\n",
      "print a\n",
      "np.mean(a, axis=0)"
     ],
     "language": "python",
     "metadata": {},
     "outputs": [
      {
       "output_type": "stream",
       "stream": "stdout",
       "text": [
        "[[1 2 3]\n",
        " [4 5 6]\n",
        " [7 8 9]]\n"
       ]
      },
      {
       "output_type": "pyout",
       "prompt_number": 5,
       "text": [
        "array([ 4.,  5.,  6.])"
       ]
      }
     ],
     "prompt_number": 5
    },
    {
     "cell_type": "code",
     "collapsed": false,
     "input": [
      "import numpy as np\n",
      "import itertools as i\n",
      "\n",
      "def calc_metric_tensor(g_exp, classes):\n",
      "    \"\"\"\n",
      "    @type g_exp: double dimensional matrix\n",
      "    @param g_exp: one experiment per line and one gene per column\n",
      "    @type classes: list with exactly two lists\n",
      "    @param classes: a list with two element, first a list with \n",
      "    @rtype: one dimensional vector \n",
      "    @return: the metric tensor\n",
      "    \"\"\"\n",
      "    comb_c = np.array(list(i.combinations(classes[0], 2)) + list(i.combinations(classes[1], 2)))\n",
      "    prod_f = np.array(list(i.product(classes[0], classes[1])))\n",
      "    \n",
      "    e_g = np.mean(np.abs(g_exp[comb_c[:,0],:] - g_exp[comb_c[:,1],:]), axis=0) \\\n",
      "        - np.mean(np.abs(g_exp[prod_f[:,0],:] - g_exp[prod_f[:,1],:]), axis=0) \n",
      "\n",
      "    return e_g\n"
     ],
     "language": "python",
     "metadata": {},
     "outputs": [],
     "prompt_number": 20
    },
    {
     "cell_type": "code",
     "collapsed": false,
     "input": [
      "gr = np.random.randn(100, 23000)\n",
      "print gr\n",
      "l = range(0,100)\n",
      "#np.random.shuffle(l)\n",
      "%time gtest = calc_metric_tensor(gr, [l[0:50], l[50:]])\n"
     ],
     "language": "python",
     "metadata": {},
     "outputs": [
      {
       "output_type": "stream",
       "stream": "stdout",
       "text": [
        "[[-0.90077573  1.06836251  0.26506131 ...,  0.42490029 -1.12976249\n",
        "  -0.05402722]\n",
        " [ 0.11439083 -0.31320244  1.57176056 ..., -0.57958053 -2.20923609\n",
        "  -0.44755241]\n",
        " [ 1.67058564  1.03701188  0.6745204  ...,  0.35135808 -1.27367229\n",
        "   1.35908442]\n",
        " ..., \n",
        " [-0.22349104 -0.45003217  0.82713765 ...,  0.59586855 -0.27430471\n",
        "   0.73402617]\n",
        " [ 1.4281102   0.07736831 -0.44772264 ..., -0.7667276  -0.19251514\n",
        "  -0.36377464]\n",
        " [ 0.09650811  0.35972377  0.59768966 ..., -0.23172084 -0.67418178\n",
        "   1.19074036]]\n",
        "CPU times: user 5.44 s, sys: 1.94 s, total: 7.38 s"
       ]
      },
      {
       "output_type": "stream",
       "stream": "stdout",
       "text": [
        "\n",
        "Wall time: 7.61 s\n"
       ]
      }
     ],
     "prompt_number": 21
    },
    {
     "cell_type": "markdown",
     "metadata": {},
     "source": [
      "Ok, o treco t\u00e1 um pouco lento, mas nem me preocupei em otimizar no momento. Nada de tentar usar Cython ou fazer um uso mais inteligente do Numpy. De qualquer forma acho que para testes est\u00e1 aceit\u00e1vel"
     ]
    },
    {
     "cell_type": "code",
     "collapsed": false,
     "input": [
      "print len(gtest), gtest"
     ],
     "language": "python",
     "metadata": {},
     "outputs": [
      {
       "output_type": "stream",
       "stream": "stdout",
       "text": [
        "23000 [-0.01235242  0.01222704 -0.01384065 ...,  0.00271152  0.01178202\n",
        "  0.01452098]\n"
       ]
      }
     ],
     "prompt_number": 17
    },
    {
     "cell_type": "code",
     "collapsed": false,
     "input": [
      "cout = open('output')\n",
      "c = [double(n) for n in cout.readlines()]\n",
      "hist(c, bins=50)"
     ],
     "language": "python",
     "metadata": {},
     "outputs": [
      {
       "output_type": "pyout",
       "prompt_number": 66,
       "text": [
        "(array([   1,    0,    0,    0,    0,    0,    0,    1,    1,    0,    0,\n",
        "          2,    3,    0,    3,    2,    6,    3,    4,   11,   16,   16,\n",
        "         20,   21,   25,   36,   45,   89,   96,  128,  167,  260,  291,\n",
        "        433,  568,  798, 1133, 1659, 2416, 3332, 4106, 3757, 2230,  896,\n",
        "        284,   91,   38,    7,    3,    2]),\n",
        " array([-0.206718  , -0.20145008, -0.19618216, -0.19091424, -0.18564632,\n",
        "       -0.1803784 , -0.17511048, -0.16984256, -0.16457464, -0.15930672,\n",
        "       -0.1540388 , -0.14877088, -0.14350296, -0.13823504, -0.13296712,\n",
        "       -0.1276992 , -0.12243128, -0.11716336, -0.11189544, -0.10662752,\n",
        "       -0.1013596 , -0.09609168, -0.09082376, -0.08555584, -0.08028792,\n",
        "       -0.07502   , -0.06975208, -0.06448416, -0.05921624, -0.05394832,\n",
        "       -0.0486804 , -0.04341248, -0.03814456, -0.03287664, -0.02760872,\n",
        "       -0.0223408 , -0.01707288, -0.01180496, -0.00653704, -0.00126912,\n",
        "        0.0039988 ,  0.00926672,  0.01453464,  0.01980256,  0.02507048,\n",
        "        0.0303384 ,  0.03560632,  0.04087424,  0.04614216,  0.05141008,\n",
        "        0.056678  ]),\n",
        " <a list of 50 Patch objects>)"
       ]
      },
      {
       "output_type": "display_data",
       "png": "[encoded data removed]",
       "text": [
        "<matplotlib.figure.Figure at 0x53f1fd0>"
       ]
      }
     ],
     "prompt_number": 66
    },
    {
     "cell_type": "code",
     "collapsed": false,
     "input": [
      "hist(gtest,bins=50)"
     ],
     "language": "python",
     "metadata": {},
     "outputs": [
      {
       "output_type": "pyout",
       "prompt_number": 22,
       "text": [
        "(array([   2,    0,    1,    0,    0,    0,    0,    0,    0,    1,    0,\n",
        "          2,    1,    3,    1,    1,    1,    4,    4,    5,    7,    9,\n",
        "         13,   11,   17,   25,   27,   33,   39,   49,   57,   96,   80,\n",
        "        119,  148,  195,  251,  311,  419,  493,  693,  866, 1085, 1553,\n",
        "       2128, 2920, 3880, 4537, 2693,  220]),\n",
        " array([-0.19829778, -0.19385959, -0.18942139, -0.1849832 , -0.18054501,\n",
        "       -0.17610682, -0.17166863, -0.16723044, -0.16279224, -0.15835405,\n",
        "       -0.15391586, -0.14947767, -0.14503948, -0.14060128, -0.13616309,\n",
        "       -0.1317249 , -0.12728671, -0.12284852, -0.11841033, -0.11397213,\n",
        "       -0.10953394, -0.10509575, -0.10065756, -0.09621937, -0.09178118,\n",
        "       -0.08734298, -0.08290479, -0.0784666 , -0.07402841, -0.06959022,\n",
        "       -0.06515203, -0.06071383, -0.05627564, -0.05183745, -0.04739926,\n",
        "       -0.04296107, -0.03852288, -0.03408468, -0.02964649, -0.0252083 ,\n",
        "       -0.02077011, -0.01633192, -0.01189372, -0.00745553, -0.00301734,\n",
        "        0.00142085,  0.00585904,  0.01029723,  0.01473543,  0.01917362,\n",
        "        0.02361181]),\n",
        " <a list of 50 Patch objects>)"
       ]
      },
      {
       "output_type": "display_data",
       "png": "[encoded data removed]",
       "text": [
        "<matplotlib.figure.Figure at 0x387a790>"
       ]
      }
     ],
     "prompt_number": 22
    },
    {
     "cell_type": "code",
     "collapsed": false,
     "input": [
      "!gcc -c -Wall -O2 -Wall -ansi -pedantic -fPIC -o beta_g.o beta_g.c\n",
      "!gcc -o libbetag.so -shared beta_g.o"
     ],
     "language": "python",
     "metadata": {},
     "outputs": [],
     "prompt_number": 9
    },
    {
     "cell_type": "code",
     "collapsed": false,
     "input": [
      "!cat beta_g.c"
     ],
     "language": "python",
     "metadata": {},
     "outputs": [
      {
       "output_type": "stream",
       "stream": "stdout",
       "text": [
        "/*#include <stdlib.h>*/\r\n",
        "#include <math.h>\r\n",
        "\r\n",
        "void dist_beta(double **x, double **y, int genes, int nsamplex, int nsampley, double *beta_g) {\r\n",
        "    int g; \r\n",
        "    for ( g = 0; g < genes; g++) {\r\n",
        "        double x = 0, y = 0, z = 0;\r\n",
        "        int i, j;\r\n",
        "\r\n",
        "          for ( i = 0; i < nsamplex - 1; i++) {\r\n",
        "              for ( j = i + 1; j < nsamplex; j++) {\r\n",
        "                x += (X[g][i] - X[g][j])*(X[g][i] - X[g][j]);\r\n",
        "              }\r\n",
        "          }\r\n",
        "          x = x /( nsamplex * ( nsamplex - 1. ) );\r\n",
        "  \r\n",
        "          for ( i = 0; i < nsampley - 1; i++) {\r\n",
        "              for ( j = i + 1; j < nsampley; j++) {\r\n",
        "                  y += (Y[g][i] - Y[g][j])*(Y[g][i] - Y[g][j]);\r\n",
        "              }\r\n",
        "          }\r\n",
        "          y = y /( nsampley * ( nsampley - 1. ) );\r\n",
        "  \r\n",
        "          for ( i = 0; i < nsampley; i++) {\r\n",
        "              for ( j = 0; j < nsamplex; j++) {\r\n",
        "                  z += (Y[g][i] - X[g][j])*(Y[g][i] - X[g][j]);\r\n",
        "              }\r\n",
        "          }\r\n",
        "          z = z / ( nsamplex * nsampley );\r\n",
        "\r\n",
        "        beta_g[g] = x + y - z;\r\n",
        "    }\r\n",
        "\r\n",
        "}\r\n"
       ]
      }
     ],
     "prompt_number": 76
    },
    {
     "cell_type": "code",
     "collapsed": false,
     "input": [
      "%%file betag.py\n",
      "\n",
      "import numpy\n",
      "import ctypes\n",
      "\n",
      "_libbetag = numpy.ctypeslib.load_library('libbetag', '.')\n",
      "\n",
      "_libbetag.dist_beta.argtypes = [numpy.ctypeslib.ndpointer(dtype=numpy.float, ndim=2), \n",
      "                                    numpy.ctypeslib.ndpointer(dtype=numpy.float, ndim=2),\n",
      "                                    ctypes.c_int,\n",
      "                                    ctypes.c_int,\n",
      "                                    ctypes.c_int,\n",
      "                                    numpy.ctypeslib.ndpointer(dtype=numpy.float)]\n",
      "_libbetag.dist_beta.restype  =  ctypes.c_void_p\n",
      "\n",
      "def betag(x, y, genes):\n",
      "    xc = numpy.asarray(x, dtype=numpy.float)\n",
      "    yc = numpy.asarray(y, dtype=numpy.float)\n",
      "    genesc = numpy.asarray(genes, dtype=numpy.float)\n",
      "    _libbetag.dist_beta(xc, yc, int(len(genes)), int(x.shape[1]), int(y.shape[1]), genesc)\n",
      "    return\n"
     ],
     "language": "python",
     "metadata": {},
     "outputs": [
      {
       "output_type": "stream",
       "stream": "stdout",
       "text": [
        "Overwriting betag.py"
       ]
      },
      {
       "output_type": "stream",
       "stream": "stdout",
       "text": [
        "\n"
       ]
      }
     ],
     "prompt_number": 8
    },
    {
     "cell_type": "code",
     "collapsed": false,
     "input": [
      "import betag"
     ],
     "language": "python",
     "metadata": {},
     "outputs": [],
     "prompt_number": 9
    },
    {
     "cell_type": "code",
     "collapsed": false,
     "input": [
      "x = numpy.random.randn(23000, 200)\n",
      "y = numpy.random.randn(23000, 200)\n",
      "genes = numpy.zeros(23000)"
     ],
     "language": "python",
     "metadata": {},
     "outputs": [],
     "prompt_number": 10
    },
    {
     "cell_type": "code",
     "collapsed": false,
     "input": [
      "betag.betag(x, y, genes)"
     ],
     "language": "python",
     "metadata": {},
     "outputs": [],
     "prompt_number": "*"
    },
    {
     "cell_type": "code",
     "collapsed": false,
     "input": [
      "x =1"
     ],
     "language": "python",
     "metadata": {},
     "outputs": [],
     "prompt_number": "*"
    }
   ],
   "metadata": {}
  }
 ]
}