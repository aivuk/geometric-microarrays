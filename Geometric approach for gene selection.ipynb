{
 "metadata": {
  "name": "Geometric approach for gene selection"
 },
 "nbformat": 3,
 "nbformat_minor": 0,
 "worksheets": [
  {
   "cells": [
    {
     "cell_type": "markdown",
     "metadata": {},
     "source": [
      "Geometric approach for gene selection\n",
      "=====================================\n",
      "\n",
      "[Geometric approach for gene selection - Marcelo Boareto](files/GeometricApproachMicroarrays.pdf)\n",
      "\n",
      "$ D_{ij}^2 = \\sum_g w_g \\lVert x_{ig} - x_{jg}\\rVert$\n",
      "\n",
      "$ \\sum_g w_g = 1 $\n",
      "\n",
      "$ E = \\frac{1}{n_c} \\sum\\limits_{ij \\in C} D_{ij}^2  - \\frac{1}{n_f} \\sum\\limits_{ij \\in F} D_{ij}^2 $\n",
      "\n",
      "E com isso teremos:\n",
      "\n",
      "$ w_g = \\frac{-\\epsilon_g}{\\sqrt{\\sum_g \\epsilon_g^2}} $\n",
      "\n",
      "com $ \\epsilon_g = \\frac{1}{n_c} \\sum\\limits_{ij \\in C}  \\lVert x_{ig} - x_{jg}\\rVert  - \\frac{1}{n_f} \\sum\\limits_{ij \\in F} \\lVert x_{ig} - x_{jg}\\rVert $ .\n",
      "\n",
      "Primeiro vamos importar algumas coisas interessantes como Numpy e Pandas:\n"
     ]
    },
    {
     "cell_type": "code",
     "collapsed": false,
     "input": [
      "import numpy as np\n",
      "import pandas as pd\n",
      "import itertools as i"
     ],
     "language": "python",
     "metadata": {},
     "outputs": [],
     "prompt_number": 118
    },
    {
     "cell_type": "markdown",
     "metadata": {},
     "source": [
      "Dados retirados do NCBI: http://www.ncbi.nlm.nih.gov/geo/query/acc.cgi?acc=GSE22309"
     ]
    },
    {
     "cell_type": "code",
     "collapsed": false,
     "input": [
      "genes_expression = pd.read_csv('data/GSE22309_MAS5-processed-data.txt', delimiter='\\t')"
     ],
     "language": "python",
     "metadata": {},
     "outputs": [],
     "prompt_number": 116
    },
    {
     "cell_type": "markdown",
     "metadata": {},
     "source": [
      "Logo abaixo eu carreguei o arquivo como um DataFrame, an\u00e1logo aos DataFrames do R, mas depois mudei de id\u00e9ia e achei melhor testar o c\u00f3digo com uma matriz qualquer rand\u00f4mica."
     ]
    },
    {
     "cell_type": "code",
     "collapsed": false,
     "input": [
      "ge = pd.DataFrame(genes_expression)\n",
      "ge.columns"
     ],
     "language": "python",
     "metadata": {},
     "outputs": [
      {
       "output_type": "pyout",
       "prompt_number": 115,
       "text": [
        "Index([ID_REF, a10a.000606jd.2.SkMNor907.CEL, a10a.000606jd.2.SkMNor908.CEL, a10a.000606jd.2.SkMNor911.CEL, Run1.a10a.000606jd.2.SkMNor912.CEL, Run1.a10a.000607jd.2.SkMNor915.CEL, Run1.a10a.000607jd.2.SkMNor916.CEL, Run1.a10a.000607jd.2.SkMNor917.CEL, Run1.a10a.000607jd.2.SkMNor918.CEL, Run1.a10a.000607jd.2.SkMNor919.CEL, Run1.a10a.000607jd.2.SkMNor920.CEL, Run1.a10a.000607jd.2.SkMNor921.CEL, Run1.a10a.000607jd.2.SkMNor922.CEL, Run1.a10a.000608jd.2.SkMNor923.CEL, Run1.a10a.000608jd.2.SkMNor924.CEL, Run1.a10a.000608jd.2.SkMNor925.CEL, Run1.a10a.000608jd.2.SkMNor926.CEL, Run1.a10a.000609jd.2.SkMNor909.CEL, Run1.a10a.000609jd.2.SkMNor910.CEL, Run1.a10a.000609jd.2.SkMNor913.CEL, Run1.a10a.000609jd.2.SkMNor914.CEL, Run7.aUa.001206d.SkMInS1072D.CEL, Run7.aUa.001206d.SkMInS1073D.CEL, Run8.aUa.010615d.SkMInS1074D.CEL, Run7.aUa.001206d.SkMInS1075D.CEL, Run8.aUa.010615d.SkMInS1076D.CEL, Run7.aUa.001206d.SkMInS1077D.CEL, Run8.aUa.010615d.SkMInS1078D.CEL, Run7.aUa.001206d.SkMInS1079D.CEL, Run8.aUa.010615d.SkMInS1080D.CEL, Run7.aUa.001206d.SkMInS1081D.CEL, Run8.aUa.010615d.SkMInS1082D.CEL, Run7.aUa.001206d.SkMInS1083D.CEL, Run8.aUa.010615d.SkMInS1084D.CEL, Run7.aUa.001206d.SkMInS1085D.CEL, Run8.aUa.010615d.SkMInS1086D.CEL, Run2.aUa.001206d.SkMInS1087D.CEL, Run2.aUa.001206d.SkMInS1088D.CEL, Run2.aUa.001206d.SkMInS1089D.CEL, Run2.aUa.001206d.SkMInS1090D.CEL, Run7.aUa.001206d.SkMInS1091D.CEL], dtype=object)"
       ]
      }
     ],
     "prompt_number": 115
    },
    {
     "cell_type": "code",
     "collapsed": false,
     "input": [
      "# Apenas testando algumas fun\u00e7\u00f5es do iterator\n",
      "l = [1,2,3]\n",
      "list(i.combinations(l, 2))\n"
     ],
     "language": "python",
     "metadata": {},
     "outputs": [
      {
       "output_type": "pyout",
       "prompt_number": 76,
       "text": [
        "[(1, 2), (1, 3), (2, 3)]"
       ]
      }
     ],
     "prompt_number": 76
    },
    {
     "cell_type": "code",
     "collapsed": false,
     "input": [
      "r = [1,3,4]; s = [5,4,6]\n",
      "list(i.product(r,s))"
     ],
     "language": "python",
     "metadata": {},
     "outputs": [
      {
       "output_type": "pyout",
       "prompt_number": 79,
       "text": [
        "[(1, 5), (1, 4), (1, 6), (3, 5), (3, 4), (3, 6), (4, 5), (4, 4), (4, 6)]"
       ]
      }
     ],
     "prompt_number": 79
    },
    {
     "cell_type": "markdown",
     "metadata": {},
     "source": [
      "Bom, vou fazer primeiro uma fun\u00e7\u00e3o que recebe uma matriz bidimensional das express\u00f5es g\u00eanicas, uma experimento por linha e um dicion\u00e1rio contendo os \u00edndices dos genes pertencentes a mesma classe de um determinado gene."
     ]
    },
    {
     "cell_type": "code",
     "collapsed": false,
     "input": [
      "def calc_metric_tensor(g_exp, classes):\n",
      "    \"\"\"\n",
      "    @type g_exp: double dimensional matrix\n",
      "    @param g_exp: one experiment per line and one gene per column\n",
      "    @type classes: list with exactly two lists\n",
      "    @param classes: a list with two element, first a list with \n",
      "    @rtype: one dimensional vector \n",
      "    @return: the metric tensor\n",
      "    \"\"\"\n",
      "    n_genes = len(g_exp)\n",
      "    e_g = np.zeros(n_genes)\n",
      "    comb_c_1 = list(i.combinations(classes[0], 2))\n",
      "    comb_c_2 = list(i.combinations(classes[1], 2))\n",
      "    prod_f = list(i.product(classes[0], classes[1]))\n",
      "    len_c = len(comb_c_1) + len(comb_c_2)\n",
      "    len_f = len(prod_f)\n",
      "    \n",
      "    e_g = np.zeros(n_genes)\n",
      "    for g in range(0, n_genes):\n",
      "        e_g[g] = 1./len_c*(np.sum(map(lambda (i,j): np.sqrt((g_exp[i][g] - g_exp[j][g])**2), comb_c_1)) + \\\n",
      "                            np.sum(map(lambda (i,j): np.sqrt((g_exp[i][g] - g_exp[j][g])**2), comb_c_2))) \\\n",
      "               - 1./len_f*np.sum(map(lambda (i,j): np.sqrt((g_exp[i][g] - g_exp[j][g])**2), prod_f)) \n",
      "    \n",
      "    return e_g"
     ],
     "language": "python",
     "metadata": {},
     "outputs": [],
     "prompt_number": 108
    },
    {
     "cell_type": "code",
     "collapsed": false,
     "input": [
      "l = range(0,100)\n",
      "np.random.shuffle(l)\n",
      "%timeit gtest = calc_metric_tensor(gr, [l[0:50], l[50:]])\n"
     ],
     "language": "python",
     "metadata": {},
     "outputs": [
      {
       "output_type": "stream",
       "stream": "stdout",
       "text": [
        "1 loops, best of 3: 3.36 s per loop\n"
       ]
      }
     ],
     "prompt_number": 121
    },
    {
     "cell_type": "markdown",
     "metadata": {},
     "source": [
      "Ok, o treco t\u00e1 um pouco lento, mas nem me preocupei em otimizar no momento. Nada de tentar usar Cython ou fazer um uso mais inteligente do Numpy. De qualquer forma acho que para testes est\u00e1 aceit\u00e1vel"
     ]
    },
    {
     "cell_type": "code",
     "collapsed": false,
     "input": [
      "print len(gtest), gtest"
     ],
     "language": "python",
     "metadata": {},
     "outputs": [
      {
       "output_type": "stream",
       "stream": "stdout",
       "text": [
        "100 [0.011395217410758773, 0.0108651683785711, 0.022739400286169664, 0.024364080932718968, 0.011804524488250923, 0.017849321103577787, 0.019101564923681258, -0.026714642230758645, -0.0023806860428202126, -0.0050096374428655333, -0.0036347320739110733, 0.0095353462489891072, 0.024022923790199713, 0.018954482371491999, -0.017717831416304786, -0.00050668283919980128, -0.0011156149964301476, -0.0005540016536726422, 0.015731267152128081, -0.017669184166573593, -0.013416859565092198, -0.056597178994170272, -0.019166790206796236, 0.011642922508784181, 0.001746156479330907, 0.020574062149961603, 0.022022515388685771, 0.014488577988203688, 0.0036051024846713853, 0.0095468520431646331, 0.032425942890690007, 0.0092910721506942462, 0.038663629645462494, 0.0022107732875691344, 0.0038125244111554268, 0.03269184216967369, 0.010217072791730619, -0.044757189452550694, -0.0057230146530858894, 0.0031137641849230402, 0.012054546542026534, -0.02142544647298783, 0.0020925032348048656, 0.0049180663269124958, 0.017739662429353487, -0.028029365859440991, 0.039265508146180739, -0.02667829625383672, -0.0021654215248132491, 0.010275663604779606, 0.010661082153155366, 0.012581880718399829, -0.0099134611604845824, -0.016947802011972546, 0.014736555301044507, -0.020010510170193563, 0.010343030638177042, 0.0033994587692938727, 0.017189663058860938, -0.015841609188646577, 0.002161255242942306, -0.0028769456917899783, -0.013308027522578758, -0.0010201642177066206, -0.0063280900988929023, -0.0098093793979764921, 0.0086600023792681724, 0.024446396305133622, 0.0077402808160818015, 0.0033310677147095902, -0.0020788864413637254, 0.0043818846429127811, 0.021818791105747914, -0.015315004878140026, -0.043980807266491506, 0.0091760928606881009, 0.0070451811279095278, 0.0059067479945353329, -0.0079049660669917032, -0.015310332407549754, 0.0017777958485040157, 0.027766590802795588, 0.010691469719068536, 0.022959608954129629, -0.0056201129563037688, 0.014613738443463531, -0.0067460613855024887, 0.027573651721805092, 0.013285370812699704, 0.030651135832463261, -0.031614532750559365, 0.017560327708960821, 0.019014914350102552, 0.0075506799315885886, 0.015986650591619689, -0.010362182590314517, -0.0062663940733800882, 0.017937429096107183, 0.014391401388307634, -0.011400990529289612]\n"
       ]
      }
     ],
     "prompt_number": 120
    },
    {
     "cell_type": "code",
     "collapsed": false,
     "input": [],
     "language": "python",
     "metadata": {},
     "outputs": []
    }
   ],
   "metadata": {}
  }
 ]
}