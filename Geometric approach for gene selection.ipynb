{
 "metadata": {
  "name": "Geometric approach for gene selection"
 },
 "nbformat": 3,
 "nbformat_minor": 0,
 "worksheets": [
  {
   "cells": [
    {
     "cell_type": "markdown",
     "metadata": {},
     "source": [
      "Geometric approach for gene selection\n",
      "=====================================\n",
      "\n",
      "[Geometric approach for gene selection - Marcelo Boareto](files/GeometricApproachMicroarrays.pdf)\n",
      "\n",
      "$ D_{ij}^2 = \\sum_g w_g \\lVert x_{ig} - x_{jg}\\rVert$\n",
      "\n",
      "$ \\sum_g w_g = 1 $\n",
      "\n",
      "$ E = \\frac{1}{n_c} \\sum\\limits_{ij \\in C} D_{ij}^2  - \\frac{1}{n_f} \\sum\\limits_{ij \\in F} D_{ij}^2 $\n",
      "\n",
      "E com isso teremos:\n",
      "\n",
      "$ w_g = \\frac{-\\epsilon_g}{\\sqrt{\\sum_g \\epsilon_g^2}} $\n",
      "\n",
      "com $ \\epsilon_g = \\frac{1}{n_c} \\sum\\limits_{ij \\in C}  \\lVert x_{ig} - x_{jg}\\rVert  - \\frac{1}{n_f} \\sum\\limits_{ij \\in F} \\lVert x_{ig} - x_{jg}\\rVert $ .\n",
      "\n",
      "Primeiro vamos importar algumas coisas interessantes como Numpy e Pandas:\n"
     ]
    },
    {
     "cell_type": "code",
     "collapsed": false,
     "input": [
      "import numpy as np\n",
      "import pandas as pd\n",
      "import itertools as i"
     ],
     "language": "python",
     "metadata": {},
     "outputs": [],
     "prompt_number": 2
    },
    {
     "cell_type": "markdown",
     "metadata": {},
     "source": [
      "Dados retirados do NCBI: http://www.ncbi.nlm.nih.gov/geo/query/acc.cgi?acc=GSE22309"
     ]
    },
    {
     "cell_type": "code",
     "collapsed": false,
     "input": [
      "genes_expression = pd.read_csv('data/GSE22309_MAS5-processed-data.txt', delimiter='\\t')"
     ],
     "language": "python",
     "metadata": {},
     "outputs": [],
     "prompt_number": 6
    },
    {
     "cell_type": "markdown",
     "metadata": {},
     "source": [
      "Logo abaixo eu carreguei o arquivo como um DataFrame, an\u00e1logo aos DataFrames do R, mas depois mudei de id\u00e9ia e achei melhor testar o c\u00f3digo com uma matriz qualquer rand\u00f4mica."
     ]
    },
    {
     "cell_type": "code",
     "collapsed": false,
     "input": [
      "ge = pd.DataFrame(genes_expression)\n",
      "ge.columns"
     ],
     "language": "python",
     "metadata": {},
     "outputs": [
      {
       "output_type": "pyout",
       "prompt_number": 7,
       "text": [
        "Index([ID_REF, a10a.000606jd.2.SkMNor907.CEL, a10a.000606jd.2.SkMNor908.CEL, a10a.000606jd.2.SkMNor911.CEL, Run1.a10a.000606jd.2.SkMNor912.CEL, Run1.a10a.000607jd.2.SkMNor915.CEL, Run1.a10a.000607jd.2.SkMNor916.CEL, Run1.a10a.000607jd.2.SkMNor917.CEL, Run1.a10a.000607jd.2.SkMNor918.CEL, Run1.a10a.000607jd.2.SkMNor919.CEL, Run1.a10a.000607jd.2.SkMNor920.CEL, Run1.a10a.000607jd.2.SkMNor921.CEL, Run1.a10a.000607jd.2.SkMNor922.CEL, Run1.a10a.000608jd.2.SkMNor923.CEL, Run1.a10a.000608jd.2.SkMNor924.CEL, Run1.a10a.000608jd.2.SkMNor925.CEL, Run1.a10a.000608jd.2.SkMNor926.CEL, Run1.a10a.000609jd.2.SkMNor909.CEL, Run1.a10a.000609jd.2.SkMNor910.CEL, Run1.a10a.000609jd.2.SkMNor913.CEL, Run1.a10a.000609jd.2.SkMNor914.CEL, Run7.aUa.001206d.SkMInS1072D.CEL, Run7.aUa.001206d.SkMInS1073D.CEL, Run8.aUa.010615d.SkMInS1074D.CEL, Run7.aUa.001206d.SkMInS1075D.CEL, Run8.aUa.010615d.SkMInS1076D.CEL, Run7.aUa.001206d.SkMInS1077D.CEL, Run8.aUa.010615d.SkMInS1078D.CEL, Run7.aUa.001206d.SkMInS1079D.CEL, Run8.aUa.010615d.SkMInS1080D.CEL, Run7.aUa.001206d.SkMInS1081D.CEL, Run8.aUa.010615d.SkMInS1082D.CEL, Run7.aUa.001206d.SkMInS1083D.CEL, Run8.aUa.010615d.SkMInS1084D.CEL, Run7.aUa.001206d.SkMInS1085D.CEL, Run8.aUa.010615d.SkMInS1086D.CEL, Run2.aUa.001206d.SkMInS1087D.CEL, Run2.aUa.001206d.SkMInS1088D.CEL, Run2.aUa.001206d.SkMInS1089D.CEL, Run2.aUa.001206d.SkMInS1090D.CEL, Run7.aUa.001206d.SkMInS1091D.CEL], dtype=object)"
       ]
      }
     ],
     "prompt_number": 7
    },
    {
     "cell_type": "code",
     "collapsed": false,
     "input": [
      "# Apenas testando algumas fun\u00e7\u00f5es do iterator\n",
      "l = [1,2,3]\n",
      "list(i.combinations(l, 2))\n"
     ],
     "language": "python",
     "metadata": {},
     "outputs": [
      {
       "output_type": "pyout",
       "prompt_number": 26,
       "text": [
        "[(1, 2), (1, 3), (2, 3)]"
       ]
      }
     ],
     "prompt_number": 26
    },
    {
     "cell_type": "code",
     "collapsed": false,
     "input": [
      "r = [1,3,4]; s = [5,4,6]\n",
      "list(i.product(r,s))"
     ],
     "language": "python",
     "metadata": {},
     "outputs": [
      {
       "output_type": "pyout",
       "prompt_number": 13,
       "text": [
        "[(1, 5), (1, 4), (1, 6), (3, 5), (3, 4), (3, 6), (4, 5), (4, 4), (4, 6)]"
       ]
      }
     ],
     "prompt_number": 13
    },
    {
     "cell_type": "markdown",
     "metadata": {},
     "source": [
      "Bom, vou fazer primeiro uma fun\u00e7\u00e3o que recebe uma matriz bidimensional das express\u00f5es g\u00eanicas, uma experimento por linha e um dicion\u00e1rio contendo os \u00edndices dos genes pertencentes a mesma classe de um determinado gene.\n",
      "\n",
      "Mas antes vou explicar como utilizar \u00edndices de forma inteligente no numpy:"
     ]
    },
    {
     "cell_type": "code",
     "collapsed": false,
     "input": [
      "v = numpy.array(range(0,9)).reshape(3,3)\n",
      "print \"{}\\n\".format(v)\n",
      "\n",
      "# Para pegar as 0 e 2 e somar:\n",
      "#\n",
      "#  | 0 |   | 2 |   |  2 |\n",
      "#  | 3 | + | 5 | = |  8 |\n",
      "#  | 6 |   | 8 |   | 14 |\n",
      "\n",
      "print \"Para pegar as 0 e 2 e somar: {}\".format(v[:,0] + v[:,2])\n",
      "\n",
      "# Agora suponha que gostar\u00edamos de somar todos os elementos\n",
      "# da coluna 0 primeiro e subtrair a soma de todos os elementos da coluna 2:\n",
      "#\n",
      "# | 0 + 3 + 6 | - | 2 + 5 + 8| \n",
      "\n",
      "print np.sum(v[:,0]) - np.sum(v[:,2])\n",
      "\n",
      "# Mas poder\u00edamos ter feito isso de outra forma, passando o axis pro sum:\n",
      "\n",
      "s = np.sum(v, axis=0)\n",
      "print s[0] - s[2]\n",
      "\n",
      "# Agora importante para o nosso caso \u00e9 quando passamos uma lista para os \u00edndices de um array\n",
      "\n",
      "print \"\\nv[[0,2],:] =\\n\\n{}\\n\".format(v[[0,2],:])\n",
      "print \"\\nv[[2,1],:] =\\n\\n{}\\n\".format(v[[2,1],:])\n",
      "\n",
      "# E com isso podemos passar a lista com \u00edndices das linhas indicando os experimentos e depois\n",
      "# somar verticalmente com axis=0\n",
      "\n",
      "print \"v[[0,2],:] - v[[2,1],:] =\\n\\n{}\\n\".format(v[[0,2],:] - v[[2,1],:])\n",
      "print \"\\nE somando as colunas teremos:\\n\\n{}\\n\".format(np.sum(v[[0,2],:] - v[[2,1],:], axis=0))"
     ],
     "language": "python",
     "metadata": {},
     "outputs": [
      {
       "output_type": "stream",
       "stream": "stdout",
       "text": [
        "[[0 1 2]\n",
        " [3 4 5]\n",
        " [6 7 8]]\n",
        "\n",
        "Para pegar as 0 e 2 e somar: [ 2  8 14]\n",
        "-6\n",
        "-6\n",
        "\n",
        "v[[0,2],:] =\n",
        "\n",
        "[[0 1 2]\n",
        " [6 7 8]]\n",
        "\n",
        "\n",
        "v[[2,1],:] =\n",
        "\n",
        "[[6 7 8]\n",
        " [3 4 5]]\n",
        "\n",
        "v[[0,2],:] - v[[2,1],:] =\n",
        "\n",
        "[[-6 -6 -6]\n",
        " [ 3  3  3]]\n",
        "\n",
        "\n",
        "E somando as colunas teremos:\n",
        "\n",
        "[-3 -3 -3]\n",
        "\n"
       ]
      }
     ],
     "prompt_number": 117
    },
    {
     "cell_type": "code",
     "collapsed": false,
     "input": [
      "%load mageom.py"
     ],
     "language": "python",
     "metadata": {},
     "outputs": [],
     "prompt_number": 80
    },
    {
     "cell_type": "code",
     "collapsed": false,
     "input": [
      "import numpy as np\n",
      "import itertools as i\n",
      "\n",
      "def calc_metric_tensor(g_exp, classes):\n",
      "    \"\"\"\n",
      "    @type g_exp: double dimensional matrix\n",
      "    @param g_exp: one experiment per line and one gene per column\n",
      "    @type classes: list with exactly two lists\n",
      "    @param classes: a list with two element, first a list with \n",
      "    @rtype: one dimensional vector \n",
      "    @return: the metric tensor\n",
      "    \"\"\"\n",
      "    comb_c = np.array(list(i.combinations(classes[0], 2)) + list(i.combinations(classes[1], 2)))\n",
      "    prod_f = np.array(list(i.product(classes[0], classes[1])))\n",
      "    \n",
      "    e_g = 1./len(comb_c)*np.sum(np.abs(g_exp[comb_c[:,0],:] - g_exp[comb_c[:,1],:]), axis=0) \\\n",
      "        - 1./len(prod_f)*np.sum(np.abs(g_exp[prod_f[:,0],:] - g_exp[prod_f[:,1],:]), axis=0) \n",
      "\n",
      "    return e_g\n"
     ],
     "language": "python",
     "metadata": {},
     "outputs": [],
     "prompt_number": 13
    },
    {
     "cell_type": "code",
     "collapsed": false,
     "input": [
      "gr = np.random.randn(100, 23000)\n",
      "l = range(0,100)\n",
      "#np.random.shuffle(l)\n",
      "%time gtest = calc_metric_tensor(gr, [l[0:50], l[50:]])\n"
     ],
     "language": "python",
     "metadata": {},
     "outputs": [
      {
       "output_type": "stream",
       "stream": "stdout",
       "text": [
        "CPU times: user 5.38 s, sys: 2.11 s, total: 7.49 s\n",
        "Wall time: 7.98 s\n"
       ]
      }
     ],
     "prompt_number": 20
    },
    {
     "cell_type": "markdown",
     "metadata": {},
     "source": [
      "Ok, o treco t\u00e1 um pouco lento, mas nem me preocupei em otimizar no momento. Nada de tentar usar Cython ou fazer um uso mais inteligente do Numpy. De qualquer forma acho que para testes est\u00e1 aceit\u00e1vel"
     ]
    },
    {
     "cell_type": "code",
     "collapsed": false,
     "input": [
      "print len(gtest), gtest"
     ],
     "language": "python",
     "metadata": {},
     "outputs": [
      {
       "output_type": "stream",
       "stream": "stdout",
       "text": [
        "23000 [-0.01235242  0.01222704 -0.01384065 ...,  0.00271152  0.01178202\n",
        "  0.01452098]\n"
       ]
      }
     ],
     "prompt_number": 17
    },
    {
     "cell_type": "code",
     "collapsed": false,
     "input": [
      "cout = open('output')\n",
      "c = [double(n) for n in cout.readlines()]\n",
      "hist(c, bins=50)"
     ],
     "language": "python",
     "metadata": {},
     "outputs": [
      {
       "output_type": "pyout",
       "prompt_number": 19,
       "text": [
        "(array([   1,    2,    3,    3,   12,   12,   31,   58,   66,  115,  157,\n",
        "        210,  290,  394,  490,  617,  772,  962, 1071, 1159, 1269, 1315,\n",
        "       1394, 1433, 1460, 1298, 1304, 1214, 1084,  932,  786,  687,  558,\n",
        "        452,  374,  273,  228,  157,  103,   70,   65,   34,   32,   21,\n",
        "         11,   13,    4,    1,    2,    1]),\n",
        " array([ 0.385714  ,  0.39787728,  0.41004056,  0.42220384,  0.43436712,\n",
        "        0.4465304 ,  0.45869368,  0.47085696,  0.48302024,  0.49518352,\n",
        "        0.5073468 ,  0.51951008,  0.53167336,  0.54383664,  0.55599992,\n",
        "        0.5681632 ,  0.58032648,  0.59248976,  0.60465304,  0.61681632,\n",
        "        0.6289796 ,  0.64114288,  0.65330616,  0.66546944,  0.67763272,\n",
        "        0.689796  ,  0.70195928,  0.71412256,  0.72628584,  0.73844912,\n",
        "        0.7506124 ,  0.76277568,  0.77493896,  0.78710224,  0.79926552,\n",
        "        0.8114288 ,  0.82359208,  0.83575536,  0.84791864,  0.86008192,\n",
        "        0.8722452 ,  0.88440848,  0.89657176,  0.90873504,  0.92089832,\n",
        "        0.9330616 ,  0.94522488,  0.95738816,  0.96955144,  0.98171472,\n",
        "        0.993878  ]),\n",
        " <a list of 50 Patch objects>)"
       ]
      },
      {
       "output_type": "display_data",
       "png": "[encoded data removed]",
       "text": [
        "<matplotlib.figure.Figure at 0x4049050>"
       ]
      }
     ],
     "prompt_number": 19
    },
    {
     "cell_type": "code",
     "collapsed": false,
     "input": [
      "hist(gtest,bins=50)"
     ],
     "language": "python",
     "metadata": {},
     "outputs": [
      {
       "output_type": "pyout",
       "prompt_number": 21,
       "text": [
        "(array([   1,    0,    1,    2,    0,    0,    0,    2,    0,    4,    1,\n",
        "          1,    2,    3,    1,    1,    8,    9,   13,    6,    5,   17,\n",
        "         13,   24,   30,   33,   43,   57,   54,   70,   86,  110,  142,\n",
        "        168,  198,  268,  293,  382,  509,  650,  749, 1136, 1401, 1799,\n",
        "       2345, 3156, 3974, 3746, 1409,   78]),\n",
        " array([-0.17561629, -0.17161695, -0.1676176 , -0.16361825, -0.1596189 ,\n",
        "       -0.15561955, -0.1516202 , -0.14762085, -0.1436215 , -0.13962215,\n",
        "       -0.1356228 , -0.13162345, -0.1276241 , -0.12362476, -0.11962541,\n",
        "       -0.11562606, -0.11162671, -0.10762736, -0.10362801, -0.09962866,\n",
        "       -0.09562931, -0.09162996, -0.08763061, -0.08363126, -0.07963191,\n",
        "       -0.07563256, -0.07163322, -0.06763387, -0.06363452, -0.05963517,\n",
        "       -0.05563582, -0.05163647, -0.04763712, -0.04363777, -0.03963842,\n",
        "       -0.03563907, -0.03163972, -0.02764037, -0.02364103, -0.01964168,\n",
        "       -0.01564233, -0.01164298, -0.00764363, -0.00364428,  0.00035507,\n",
        "        0.00435442,  0.00835377,  0.01235312,  0.01635247,  0.02035182,\n",
        "        0.02435116]),\n",
        " <a list of 50 Patch objects>)"
       ]
      },
      {
       "output_type": "display_data",
       "png": "[encoded data removed]",
       "text": [
        "<matplotlib.figure.Figure at 0x37598d0>"
       ]
      }
     ],
     "prompt_number": 21
    },
    {
     "cell_type": "code",
     "collapsed": false,
     "input": [
      "!gcc -c -Wall -O2 -Wall -ansi -pedantic -fPIC -o beta_g.o beta_g.c\n",
      "!gcc -o libbetag.so -shared beta_g.o"
     ],
     "language": "python",
     "metadata": {},
     "outputs": [],
     "prompt_number": 6
    },
    {
     "cell_type": "code",
     "collapsed": false,
     "input": [
      "!cat beta_g.c"
     ],
     "language": "python",
     "metadata": {},
     "outputs": [
      {
       "output_type": "stream",
       "stream": "stdout",
       "text": [
        "/*#include <stdlib.h>*/\r\n",
        "#include <math.h>\r\n",
        "\r\n",
        "void dist_beta(double **x, double **y, int genes, int nsamplex, int nsampley, double *beta_g) {\r\n",
        "    int g; \r\n",
        "    for ( g = 0; g < genes; g++) {\r\n",
        "        double x = 0, y = 0, z = 0;\r\n",
        "        int i, j;\r\n",
        "\r\n",
        "          for ( i = 0; i < nsamplex - 1; i++) {\r\n",
        "              for ( j = i + 1; j < nsamplex; j++) {\r\n",
        "                x += (X[g][i] - X[g][j])*(X[g][i] - X[g][j]);\r\n",
        "              }\r\n",
        "          }\r\n",
        "          x = x /( nsamplex * ( nsamplex - 1. ) );\r\n",
        "  \r\n",
        "          for ( i = 0; i < nsampley - 1; i++) {\r\n",
        "              for ( j = i + 1; j < nsampley; j++) {\r\n",
        "                  y += (Y[g][i] - Y[g][j])*(Y[g][i] - Y[g][j]);\r\n",
        "              }\r\n",
        "          }\r\n",
        "          y = y /( nsampley * ( nsampley - 1. ) );\r\n",
        "  \r\n",
        "          for ( i = 0; i < nsampley; i++) {\r\n",
        "              for ( j = 0; j < nsamplex; j++) {\r\n",
        "                  z += (Y[g][i] - X[g][j])*(Y[g][i] - X[g][j]);\r\n",
        "              }\r\n",
        "          }\r\n",
        "          z = z / ( nsamplex * nsampley );\r\n",
        "\r\n",
        "        beta_g[g] = x + y - z;\r\n",
        "    }\r\n",
        "\r\n",
        "}\r\n"
       ]
      }
     ],
     "prompt_number": 76
    },
    {
     "cell_type": "code",
     "collapsed": false,
     "input": [
      "%%file betag.py\n",
      "\n",
      "import numpy\n",
      "import ctypes\n",
      "\n",
      "_libbetag = numpy.ctypeslib.load_library('libbetag', '.')\n",
      "\n",
      "_libbetag.dist_beta.argtypes = [numpy.ctypeslib.ndpointer(dtype=numpy.float, ndim=2), \n",
      "                                    numpy.ctypeslib.ndpointer(dtype=numpy.float, ndim=2),\n",
      "                                    ctypes.c_int,\n",
      "                                    ctypes.c_int,\n",
      "                                    ctypes.c_int,\n",
      "                                    numpy.ctypeslib.ndpointer(dtype=numpy.float)]\n",
      "_libbetag.dist_beta.restype  =  ctypes.c_void_p\n",
      "\n",
      "def betag(x, y, genes):\n",
      "    xc = numpy.asarray(x, dtype=numpy.float)\n",
      "    yc = numpy.asarray(y, dtype=numpy.float)\n",
      "    genesc = numpy.asarray(genes, dtype=numpy.float)\n",
      "    _libbetag.dist_beta(xc, yc, int(len(genes)), int(x.shape[1]), int(y.shape[1]), genesc)\n",
      "    return\n"
     ],
     "language": "python",
     "metadata": {},
     "outputs": [
      {
       "output_type": "stream",
       "stream": "stdout",
       "text": [
        "Overwriting betag.py"
       ]
      },
      {
       "output_type": "stream",
       "stream": "stdout",
       "text": [
        "\n"
       ]
      }
     ],
     "prompt_number": 8
    },
    {
     "cell_type": "code",
     "collapsed": false,
     "input": [
      "import betag"
     ],
     "language": "python",
     "metadata": {},
     "outputs": [],
     "prompt_number": 9
    },
    {
     "cell_type": "code",
     "collapsed": false,
     "input": [
      "x = numpy.random.randn(23000, 200)\n",
      "y = numpy.random.randn(23000, 200)\n",
      "genes = numpy.zeros(23000)"
     ],
     "language": "python",
     "metadata": {},
     "outputs": [],
     "prompt_number": 10
    },
    {
     "cell_type": "code",
     "collapsed": false,
     "input": [
      "betag.betag(x, y, genes)"
     ],
     "language": "python",
     "metadata": {},
     "outputs": [],
     "prompt_number": "*"
    },
    {
     "cell_type": "code",
     "collapsed": false,
     "input": [
      "x =1"
     ],
     "language": "python",
     "metadata": {},
     "outputs": [],
     "prompt_number": "*"
    }
   ],
   "metadata": {}
  }
 ]
}