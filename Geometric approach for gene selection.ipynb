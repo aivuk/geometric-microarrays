{
 "metadata": {
  "name": "Geometric approach for gene selection"
 },
 "nbformat": 3,
 "nbformat_minor": 0,
 "worksheets": [
  {
   "cells": [
    {
     "cell_type": "markdown",
     "metadata": {},
     "source": [
      "Geometric approach for gene selection\n",
      "=====================================\n",
      "\n",
      "[Geometric approach for gene selection - Marcelo Boareto](files/GeometricApproachMicroarrays.pdf)\n",
      "\n",
      "$ D_{ij}^2 = \\sum_g w_g \\lVert x_{ig} - x_{jg}\\rVert$\n",
      "\n",
      "$ \\sum_g w_g = 1 $\n",
      "\n",
      "$ E = \\frac{1}{n_c} \\sum\\limits_{ij \\in C} D_{ij}^2  - \\frac{1}{n_f} \\sum\\limits_{ij \\in F} D_{ij}^2 $\n",
      "\n",
      "E com isso teremos:\n",
      "\n",
      "$ w_g = \\frac{-\\epsilon_g}{\\sqrt{\\sum_g \\epsilon_g^2}} $\n",
      "\n",
      "com $ \\epsilon_g = \\frac{1}{n_c} \\sum\\limits_{ij \\in C}  \\lVert x_{ig} - x_{jg}\\rVert  - \\frac{1}{n_f} \\sum\\limits_{ij \\in F} \\lVert x_{ig} - x_{jg}\\rVert $ .\n",
      "\n",
      "Primeiro vamos importar algumas coisas interessantes como Numpy e Pandas:\n"
     ]
    },
    {
     "cell_type": "code",
     "collapsed": false,
     "input": [
      "import numpy as np\n",
      "import pandas as pd\n",
      "import itertools as i"
     ],
     "language": "python",
     "metadata": {},
     "outputs": [],
     "prompt_number": 5
    },
    {
     "cell_type": "markdown",
     "metadata": {},
     "source": [
      "Dados retirados do NCBI: http://www.ncbi.nlm.nih.gov/geo/query/acc.cgi?acc=GSE22309"
     ]
    },
    {
     "cell_type": "code",
     "collapsed": false,
     "input": [
      "genes_expression = pd.read_csv('data/GSE22309_MAS5-processed-data.txt', delimiter='\\t')"
     ],
     "language": "python",
     "metadata": {},
     "outputs": [],
     "prompt_number": 6
    },
    {
     "cell_type": "markdown",
     "metadata": {},
     "source": [
      "Logo abaixo eu carreguei o arquivo como um DataFrame, an\u00e1logo aos DataFrames do R, mas depois mudei de id\u00e9ia e achei melhor testar o c\u00f3digo com uma matriz qualquer rand\u00f4mica."
     ]
    },
    {
     "cell_type": "code",
     "collapsed": false,
     "input": [
      "ge = pd.DataFrame(genes_expression)\n",
      "ge.columns"
     ],
     "language": "python",
     "metadata": {},
     "outputs": [
      {
       "output_type": "pyout",
       "prompt_number": 7,
       "text": [
        "Index([ID_REF, a10a.000606jd.2.SkMNor907.CEL, a10a.000606jd.2.SkMNor908.CEL, a10a.000606jd.2.SkMNor911.CEL, Run1.a10a.000606jd.2.SkMNor912.CEL, Run1.a10a.000607jd.2.SkMNor915.CEL, Run1.a10a.000607jd.2.SkMNor916.CEL, Run1.a10a.000607jd.2.SkMNor917.CEL, Run1.a10a.000607jd.2.SkMNor918.CEL, Run1.a10a.000607jd.2.SkMNor919.CEL, Run1.a10a.000607jd.2.SkMNor920.CEL, Run1.a10a.000607jd.2.SkMNor921.CEL, Run1.a10a.000607jd.2.SkMNor922.CEL, Run1.a10a.000608jd.2.SkMNor923.CEL, Run1.a10a.000608jd.2.SkMNor924.CEL, Run1.a10a.000608jd.2.SkMNor925.CEL, Run1.a10a.000608jd.2.SkMNor926.CEL, Run1.a10a.000609jd.2.SkMNor909.CEL, Run1.a10a.000609jd.2.SkMNor910.CEL, Run1.a10a.000609jd.2.SkMNor913.CEL, Run1.a10a.000609jd.2.SkMNor914.CEL, Run7.aUa.001206d.SkMInS1072D.CEL, Run7.aUa.001206d.SkMInS1073D.CEL, Run8.aUa.010615d.SkMInS1074D.CEL, Run7.aUa.001206d.SkMInS1075D.CEL, Run8.aUa.010615d.SkMInS1076D.CEL, Run7.aUa.001206d.SkMInS1077D.CEL, Run8.aUa.010615d.SkMInS1078D.CEL, Run7.aUa.001206d.SkMInS1079D.CEL, Run8.aUa.010615d.SkMInS1080D.CEL, Run7.aUa.001206d.SkMInS1081D.CEL, Run8.aUa.010615d.SkMInS1082D.CEL, Run7.aUa.001206d.SkMInS1083D.CEL, Run8.aUa.010615d.SkMInS1084D.CEL, Run7.aUa.001206d.SkMInS1085D.CEL, Run8.aUa.010615d.SkMInS1086D.CEL, Run2.aUa.001206d.SkMInS1087D.CEL, Run2.aUa.001206d.SkMInS1088D.CEL, Run2.aUa.001206d.SkMInS1089D.CEL, Run2.aUa.001206d.SkMInS1090D.CEL, Run7.aUa.001206d.SkMInS1091D.CEL], dtype=object)"
       ]
      }
     ],
     "prompt_number": 7
    },
    {
     "cell_type": "code",
     "collapsed": false,
     "input": [
      "# Apenas testando algumas fun\u00e7\u00f5es do iterator\n",
      "l = [1,2,3]\n",
      "list(i.combinations(l, 2))\n"
     ],
     "language": "python",
     "metadata": {},
     "outputs": [
      {
       "output_type": "pyout",
       "prompt_number": 8,
       "text": [
        "[(1, 2), (1, 3), (2, 3)]"
       ]
      }
     ],
     "prompt_number": 8
    },
    {
     "cell_type": "code",
     "collapsed": false,
     "input": [
      "r = [1,3,4]; s = [5,4,6]\n",
      "list(i.product(r,s))"
     ],
     "language": "python",
     "metadata": {},
     "outputs": [
      {
       "output_type": "pyout",
       "prompt_number": 13,
       "text": [
        "[(1, 5), (1, 4), (1, 6), (3, 5), (3, 4), (3, 6), (4, 5), (4, 4), (4, 6)]"
       ]
      }
     ],
     "prompt_number": 13
    },
    {
     "cell_type": "markdown",
     "metadata": {},
     "source": [
      "Bom, vou fazer primeiro uma fun\u00e7\u00e3o que recebe uma matriz bidimensional das express\u00f5es g\u00eanicas, uma experimento por linha e um dicion\u00e1rio contendo os \u00edndices dos genes pertencentes a mesma classe de um determinado gene."
     ]
    },
    {
     "cell_type": "code",
     "collapsed": false,
     "input": [
      "def calc_metric_tensor(g_exp, classes):\n",
      "    \"\"\"\n",
      "    @type g_exp: double dimensional matrix\n",
      "    @param g_exp: one experiment per line and one gene per column\n",
      "    @type classes: list with exactly two lists\n",
      "    @param classes: a list with two element, first a list with \n",
      "    @rtype: one dimensional vector \n",
      "    @return: the metric tensor\n",
      "    \"\"\"\n",
      "    n_genes = len(g_exp)\n",
      "    e_g = np.zeros(n_genes)\n",
      "    comb_c_1 = list(i.combinations(classes[0], 2))\n",
      "    comb_c_2 = list(i.combinations(classes[1], 2))\n",
      "    prod_f = list(i.product(classes[0], classes[1]))\n",
      "    len_c = len(comb_c_1) + len(comb_c_2)\n",
      "    len_f = len(prod_f)\n",
      "    \n",
      "    e_g = np.zeros(n_genes)\n",
      "    for g in range(0, n_genes):\n",
      "        e_g[g] = 1./len_c*(np.sum(map(lambda (i,j): np.sqrt((g_exp[i][g] - g_exp[j][g])**2), comb_c_1)) + \\\n",
      "                            np.sum(map(lambda (i,j): np.sqrt((g_exp[i][g] - g_exp[j][g])**2), comb_c_2))) \\\n",
      "               - 1./len_f*np.sum(map(lambda (i,j): np.sqrt((g_exp[i][g] - g_exp[j][g])**2), prod_f)) \n",
      "    \n",
      "    return e_g"
     ],
     "language": "python",
     "metadata": {},
     "outputs": [],
     "prompt_number": 10
    },
    {
     "cell_type": "code",
     "collapsed": false,
     "input": [
      "gr = np.random.randn(200, 23000)\n",
      "l = range(0,100)\n",
      "np.random.shuffle(l)\n",
      "gtest = calc_metric_tensor(gr, [l[0:50], l[50:]])\n"
     ],
     "language": "python",
     "metadata": {},
     "outputs": [],
     "prompt_number": 24
    },
    {
     "cell_type": "markdown",
     "metadata": {},
     "source": [
      "Ok, o treco t\u00e1 um pouco lento, mas nem me preocupei em otimizar no momento. Nada de tentar usar Cython ou fazer um uso mais inteligente do Numpy. De qualquer forma acho que para testes est\u00e1 aceit\u00e1vel"
     ]
    },
    {
     "cell_type": "code",
     "collapsed": false,
     "input": [
      "print len(gtest), gtest"
     ],
     "language": "python",
     "metadata": {},
     "outputs": [
      {
       "output_type": "stream",
       "stream": "stdout",
       "text": [
        "200 [  5.62521072e-03  -1.92805157e-04   1.76928487e-03   2.90976617e-03\n",
        "   5.39393529e-03  -5.20129101e-04   3.71611801e-03  -2.73250214e-03\n",
        "   4.43217003e-03   1.89930825e-03   1.60151495e-04  -1.19208338e-02\n",
        "  -2.76605706e-02   4.78279644e-03   3.21169613e-03   3.22629206e-03\n",
        "   2.36219246e-03   3.46011590e-03   3.05395129e-03   3.09079019e-03\n",
        "   9.83308634e-04   5.30954720e-03  -4.81628765e-04   2.40733552e-03\n",
        "   5.81133508e-03   3.61814780e-03   4.42304672e-03   3.47589292e-03\n",
        "   5.84933233e-03   2.11441723e-03  -4.83718353e-03   3.21305302e-03\n",
        "   1.47840463e-05  -6.37860673e-03   1.14395330e-03   1.91839743e-03\n",
        "   4.29669993e-03   4.22255204e-03  -8.79498501e-03   4.36099176e-03\n",
        "  -6.16571848e-03  -9.50526111e-03   4.17647474e-03   4.35123063e-03\n",
        "   2.90593915e-03   5.03231672e-03   2.88514943e-03   2.07869790e-03\n",
        "   4.58397478e-03  -1.02792797e-02   9.08031196e-04   1.82205911e-03\n",
        "  -3.34499791e-04  -5.07819717e-04  -4.43058362e-03  -2.49818984e-03\n",
        "   2.57753843e-03   5.07335102e-03  -7.80949953e-03  -5.35552292e-04\n",
        "   5.03168160e-03   5.72881790e-03  -5.17441034e-03   3.42633494e-03\n",
        "  -4.44957372e-03   4.41511876e-03  -9.83848908e-03  -1.55511591e-03\n",
        "   4.73595050e-03   3.49496978e-03  -9.09698381e-05  -2.41221654e-02\n",
        "  -1.05433496e-02   3.67637754e-03   2.38022750e-03   2.48528493e-03\n",
        "   1.38478896e-03  -4.51109120e-03   4.29678482e-03  -1.73890730e-02\n",
        "  -1.00188495e-02  -1.30940219e-02   3.33046911e-03   3.12077465e-03\n",
        "  -5.67678065e-04   2.06428180e-03   7.72166786e-04   3.05061840e-03\n",
        "   4.06104162e-03  -2.07281463e-02  -2.80531088e-03  -4.06970026e-04\n",
        "  -4.68052120e-03   3.94928622e-03   5.47066875e-03   4.45908862e-03\n",
        "   3.71852828e-03   3.23751586e-03  -2.63165680e-03   1.26791147e-03\n",
        "   3.64658450e-03  -1.66903718e-02   2.63622992e-03  -1.17851119e-02\n",
        "   1.65027224e-03   3.04867570e-03   3.85023253e-03  -3.96140271e-03\n",
        "  -1.20937406e-02   3.29927641e-03   5.94829259e-03  -4.65066447e-03\n",
        "   4.14272800e-03  -1.75978906e-03   3.92902889e-03  -5.13543014e-03\n",
        "  -1.42132024e-02  -8.36842365e-03   3.77571992e-03   2.18894556e-03\n",
        "  -2.20994113e-03  -5.05550552e-03   3.87023718e-03  -1.17814019e-02\n",
        "   3.63758223e-03  -7.25094874e-03  -1.39046446e-03   1.82590671e-03\n",
        "  -1.04146249e-03  -5.39372701e-03   4.03461096e-03   2.67286817e-03\n",
        "   3.17303767e-03   3.29894773e-04  -2.72625219e-03   3.87519335e-03\n",
        "  -1.40249534e-03   3.64817455e-03  -5.53100422e-03   1.40426875e-03\n",
        "  -2.07541215e-02   2.67511377e-03   2.60583318e-04   1.24378117e-03\n",
        "   5.16639844e-03  -9.19724456e-04   4.93934177e-03   4.93875643e-03\n",
        "  -1.32533299e-04   2.59064132e-03   1.47477100e-03   3.23048632e-03\n",
        "   4.74837194e-03   2.49954793e-03  -2.19739983e-03   4.96789067e-03\n",
        "   3.08576331e-03   1.99172700e-04   4.04420034e-03  -1.85154156e-03\n",
        "   5.84178439e-03  -6.27798143e-03  -3.05733948e-03   3.34167270e-03\n",
        "  -1.60384494e-02  -1.14747118e-02  -1.17892110e-02   4.32225966e-03\n",
        "   3.39413814e-03   3.95678183e-05  -9.36725520e-05   3.01085289e-03\n",
        "   4.05684295e-03   2.40546716e-03   4.48301104e-03   2.58812238e-03\n",
        "   2.56228708e-03   5.26513466e-03   5.47791419e-03  -1.10882491e-02\n",
        "   3.25225841e-03   5.39239600e-03   2.29122223e-03  -1.71561534e-03\n",
        "   4.53059661e-03   4.62410031e-03   3.36049826e-03   6.47498308e-04\n",
        "  -1.65906427e-02  -1.22303466e-02   1.74481575e-03   5.92133252e-04\n",
        "   5.26578153e-03   5.42351952e-03   2.11527037e-03   3.30002748e-03\n",
        "   4.53352093e-03   4.74365325e-03  -1.70189435e-03   1.47658611e-03]\n"
       ]
      }
     ],
     "prompt_number": 22
    },
    {
     "cell_type": "code",
     "collapsed": false,
     "input": [
      "%pylab inline"
     ],
     "language": "python",
     "metadata": {},
     "outputs": [
      {
       "output_type": "stream",
       "stream": "stdout",
       "text": [
        "\n",
        "Welcome to pylab, a matplotlib-based Python environment [backend: module://IPython.zmq.pylab.backend_inline].\n",
        "For more information, type 'help(pylab)'.\n"
       ]
      }
     ],
     "prompt_number": 19
    },
    {
     "cell_type": "code",
     "collapsed": false,
     "input": [
      "hist(gtest,bins=50)"
     ],
     "language": "python",
     "metadata": {},
     "outputs": [
      {
       "output_type": "pyout",
       "prompt_number": 25,
       "text": [
        "(array([ 1,  0,  1,  0,  1,  0,  0,  1,  0,  0,  0,  0,  0,  1,  0,  2,  0,\n",
        "        1,  1,  1,  3,  1,  1,  2,  1,  3,  5,  0,  1,  3,  4,  1,  3,  3,\n",
        "        7,  5,  7,  4, 13,  5, 11, 10, 10, 19, 13, 17, 18, 14,  4,  2]),\n",
        " array([-0.08276414, -0.08065944, -0.07855474, -0.07645004, -0.07434533,\n",
        "       -0.07224063, -0.07013593, -0.06803122, -0.06592652, -0.06382182,\n",
        "       -0.06171711, -0.05961241, -0.05750771, -0.05540301, -0.0532983 ,\n",
        "       -0.0511936 , -0.0490889 , -0.04698419, -0.04487949, -0.04277479,\n",
        "       -0.04067008, -0.03856538, -0.03646068, -0.03435598, -0.03225127,\n",
        "       -0.03014657, -0.02804187, -0.02593716, -0.02383246, -0.02172776,\n",
        "       -0.01962306, -0.01751835, -0.01541365, -0.01330895, -0.01120424,\n",
        "       -0.00909954, -0.00699484, -0.00489013, -0.00278543, -0.00068073,\n",
        "        0.00142397,  0.00352868,  0.00563338,  0.00773808,  0.00984279,\n",
        "        0.01194749,  0.01405219,  0.0161569 ,  0.0182616 ,  0.0203663 ,\n",
        "        0.022471  ]),\n",
        " <a list of 50 Patch objects>)"
       ]
      },
      {
       "output_type": "display_data",
       "png": "[encoded data removed]",
       "text": [
        "<matplotlib.figure.Figure at 0x9a0f8cc>"
       ]
      }
     ],
     "prompt_number": 25
    },
    {
     "cell_type": "code",
     "collapsed": false,
     "input": [],
     "language": "python",
     "metadata": {},
     "outputs": []
    }
   ],
   "metadata": {}
  }
 ]
}